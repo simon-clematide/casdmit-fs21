{
  "cells": [
    {
      "cell_type": "markdown",
      "metadata": {
        "id": "view-in-github",
        "colab_type": "text"
      },
      "source": [
        "<a href=\"https://colab.research.google.com/github/simon-clematide/casdmit-fs21/blob/master/notebooks/zora_dewey_fasttext.ipynb\" target=\"_parent\"><img src=\"https://colab.research.google.com/assets/colab-badge.svg\" alt=\"Open In Colab\"/></a>"
      ]
    },
    {
      "cell_type": "markdown",
      "metadata": {
        "id": "2yA0jk-dDThY"
      },
      "source": [
        "# Dewey-Klassifikation mit Zora-Material mit fasttext\n",
        "Dieses Notebook demonstriert, wie einfach man ein einfaches Klassifikations-Modell mit fastText trainieren kann.\n",
        "Wir arbeiten mit der fasttext Python-Bibliothek.\n",
        "Aus Effizienzgründen arbeiten wir hier mit einem kleineren Trainingsdatensatz."
      ]
    },
    {
      "cell_type": "markdown",
      "source": [
        "## Das Python fasttext und spaCy Package installieren\n",
        "Aktuellere Version hat [Bug](https://stackoverflow.com/questions/61787119/fasttext-0-9-2-why-is-recall-nan) in der label-spezifischen Evaluationsfunktion korrigiert "
      ],
      "metadata": {
        "id": "cawmGkN5EGOD"
      }
    },
    {
      "cell_type": "code",
      "execution_count": 65,
      "metadata": {
        "id": "t-FhvBZODThd",
        "outputId": "1d708837-ad5b-479b-f44a-819acfe551d0",
        "colab": {
          "base_uri": "https://localhost:8080/"
        }
      },
      "outputs": [
        {
          "output_type": "stream",
          "name": "stdout",
          "text": [
            "Looking in indexes: https://pypi.org/simple, https://us-python.pkg.dev/colab-wheels/public/simple/\n",
            "Collecting git+https://github.com/facebookresearch/fastText.git\n",
            "  Cloning https://github.com/facebookresearch/fastText.git to /tmp/pip-req-build-w2euytuk\n",
            "  Running command git clone --filter=blob:none --quiet https://github.com/facebookresearch/fastText.git /tmp/pip-req-build-w2euytuk\n",
            "  Resolved https://github.com/facebookresearch/fastText.git to commit 0622aad8571861d290b237e83e04e9a07a28839d\n",
            "  Preparing metadata (setup.py) ... \u001b[?25l\u001b[?25hdone\n",
            "Requirement already satisfied: pybind11>=2.2 in /usr/local/lib/python3.10/dist-packages (from fasttext==0.9.2) (2.10.4)\n",
            "Requirement already satisfied: setuptools>=0.7.0 in /usr/local/lib/python3.10/dist-packages (from fasttext==0.9.2) (67.7.2)\n",
            "Requirement already satisfied: numpy in /usr/local/lib/python3.10/dist-packages (from fasttext==0.9.2) (1.22.4)\n"
          ]
        }
      ],
      "source": [
        "# ! pip install fasttext # schnell zu installieren, aber hat Bug bei test_label()\n",
        "! pip install git+https://github.com/facebookresearch/fastText.git  # braucht mehr Zeit fürs Kompilieren"
      ]
    },
    {
      "cell_type": "code",
      "source": [
        "! pip install spacy"
      ],
      "metadata": {
        "id": "F5xv5Gu0Dpjw",
        "outputId": "f4543eb1-c4fe-4a0d-8099-a37d9a4b7c7f",
        "colab": {
          "base_uri": "https://localhost:8080/"
        }
      },
      "execution_count": 66,
      "outputs": [
        {
          "output_type": "stream",
          "name": "stdout",
          "text": [
            "Looking in indexes: https://pypi.org/simple, https://us-python.pkg.dev/colab-wheels/public/simple/\n",
            "Requirement already satisfied: spacy in /usr/local/lib/python3.10/dist-packages (3.5.2)\n",
            "Requirement already satisfied: spacy-legacy<3.1.0,>=3.0.11 in /usr/local/lib/python3.10/dist-packages (from spacy) (3.0.12)\n",
            "Requirement already satisfied: spacy-loggers<2.0.0,>=1.0.0 in /usr/local/lib/python3.10/dist-packages (from spacy) (1.0.4)\n",
            "Requirement already satisfied: murmurhash<1.1.0,>=0.28.0 in /usr/local/lib/python3.10/dist-packages (from spacy) (1.0.9)\n",
            "Requirement already satisfied: cymem<2.1.0,>=2.0.2 in /usr/local/lib/python3.10/dist-packages (from spacy) (2.0.7)\n",
            "Requirement already satisfied: preshed<3.1.0,>=3.0.2 in /usr/local/lib/python3.10/dist-packages (from spacy) (3.0.8)\n",
            "Requirement already satisfied: thinc<8.2.0,>=8.1.8 in /usr/local/lib/python3.10/dist-packages (from spacy) (8.1.9)\n",
            "Requirement already satisfied: wasabi<1.2.0,>=0.9.1 in /usr/local/lib/python3.10/dist-packages (from spacy) (1.1.1)\n",
            "Requirement already satisfied: srsly<3.0.0,>=2.4.3 in /usr/local/lib/python3.10/dist-packages (from spacy) (2.4.6)\n",
            "Requirement already satisfied: catalogue<2.1.0,>=2.0.6 in /usr/local/lib/python3.10/dist-packages (from spacy) (2.0.8)\n",
            "Requirement already satisfied: typer<0.8.0,>=0.3.0 in /usr/local/lib/python3.10/dist-packages (from spacy) (0.7.0)\n",
            "Requirement already satisfied: pathy>=0.10.0 in /usr/local/lib/python3.10/dist-packages (from spacy) (0.10.1)\n",
            "Requirement already satisfied: smart-open<7.0.0,>=5.2.1 in /usr/local/lib/python3.10/dist-packages (from spacy) (6.3.0)\n",
            "Requirement already satisfied: tqdm<5.0.0,>=4.38.0 in /usr/local/lib/python3.10/dist-packages (from spacy) (4.65.0)\n",
            "Requirement already satisfied: numpy>=1.15.0 in /usr/local/lib/python3.10/dist-packages (from spacy) (1.22.4)\n",
            "Requirement already satisfied: requests<3.0.0,>=2.13.0 in /usr/local/lib/python3.10/dist-packages (from spacy) (2.27.1)\n",
            "Requirement already satisfied: pydantic!=1.8,!=1.8.1,<1.11.0,>=1.7.4 in /usr/local/lib/python3.10/dist-packages (from spacy) (1.10.7)\n",
            "Requirement already satisfied: jinja2 in /usr/local/lib/python3.10/dist-packages (from spacy) (3.1.2)\n",
            "Requirement already satisfied: setuptools in /usr/local/lib/python3.10/dist-packages (from spacy) (67.7.2)\n",
            "Requirement already satisfied: packaging>=20.0 in /usr/local/lib/python3.10/dist-packages (from spacy) (23.1)\n",
            "Requirement already satisfied: langcodes<4.0.0,>=3.2.0 in /usr/local/lib/python3.10/dist-packages (from spacy) (3.3.0)\n",
            "Requirement already satisfied: typing-extensions>=4.2.0 in /usr/local/lib/python3.10/dist-packages (from pydantic!=1.8,!=1.8.1,<1.11.0,>=1.7.4->spacy) (4.5.0)\n",
            "Requirement already satisfied: urllib3<1.27,>=1.21.1 in /usr/local/lib/python3.10/dist-packages (from requests<3.0.0,>=2.13.0->spacy) (1.26.15)\n",
            "Requirement already satisfied: certifi>=2017.4.17 in /usr/local/lib/python3.10/dist-packages (from requests<3.0.0,>=2.13.0->spacy) (2022.12.7)\n",
            "Requirement already satisfied: charset-normalizer~=2.0.0 in /usr/local/lib/python3.10/dist-packages (from requests<3.0.0,>=2.13.0->spacy) (2.0.12)\n",
            "Requirement already satisfied: idna<4,>=2.5 in /usr/local/lib/python3.10/dist-packages (from requests<3.0.0,>=2.13.0->spacy) (3.4)\n",
            "Requirement already satisfied: blis<0.8.0,>=0.7.8 in /usr/local/lib/python3.10/dist-packages (from thinc<8.2.0,>=8.1.8->spacy) (0.7.9)\n",
            "Requirement already satisfied: confection<1.0.0,>=0.0.1 in /usr/local/lib/python3.10/dist-packages (from thinc<8.2.0,>=8.1.8->spacy) (0.0.4)\n",
            "Requirement already satisfied: click<9.0.0,>=7.1.1 in /usr/local/lib/python3.10/dist-packages (from typer<0.8.0,>=0.3.0->spacy) (8.1.3)\n",
            "Requirement already satisfied: MarkupSafe>=2.0 in /usr/local/lib/python3.10/dist-packages (from jinja2->spacy) (2.1.2)\n"
          ]
        }
      ]
    },
    {
      "cell_type": "code",
      "source": [
        "! python3 -m spacy download en_core_web_sm"
      ],
      "metadata": {
        "id": "Tg_fEomTDwWp",
        "outputId": "71535d49-fca2-4781-9b9b-e90965486223",
        "colab": {
          "base_uri": "https://localhost:8080/"
        }
      },
      "execution_count": 69,
      "outputs": [
        {
          "output_type": "stream",
          "name": "stdout",
          "text": [
            "2023-05-11 10:45:17.546100: W tensorflow/compiler/tf2tensorrt/utils/py_utils.cc:38] TF-TRT Warning: Could not find TensorRT\n",
            "Looking in indexes: https://pypi.org/simple, https://us-python.pkg.dev/colab-wheels/public/simple/\n",
            "Collecting en-core-web-sm==3.5.0\n",
            "  Downloading https://github.com/explosion/spacy-models/releases/download/en_core_web_sm-3.5.0/en_core_web_sm-3.5.0-py3-none-any.whl (12.8 MB)\n",
            "\u001b[2K     \u001b[90m━━━━━━━━━━━━━━━━━━━━━━━━━━━━━━━━━━━━━━━━\u001b[0m \u001b[32m12.8/12.8 MB\u001b[0m \u001b[31m44.7 MB/s\u001b[0m eta \u001b[36m0:00:00\u001b[0m\n",
            "\u001b[?25hRequirement already satisfied: spacy<3.6.0,>=3.5.0 in /usr/local/lib/python3.10/dist-packages (from en-core-web-sm==3.5.0) (3.5.2)\n",
            "Requirement already satisfied: spacy-legacy<3.1.0,>=3.0.11 in /usr/local/lib/python3.10/dist-packages (from spacy<3.6.0,>=3.5.0->en-core-web-sm==3.5.0) (3.0.12)\n",
            "Requirement already satisfied: spacy-loggers<2.0.0,>=1.0.0 in /usr/local/lib/python3.10/dist-packages (from spacy<3.6.0,>=3.5.0->en-core-web-sm==3.5.0) (1.0.4)\n",
            "Requirement already satisfied: murmurhash<1.1.0,>=0.28.0 in /usr/local/lib/python3.10/dist-packages (from spacy<3.6.0,>=3.5.0->en-core-web-sm==3.5.0) (1.0.9)\n",
            "Requirement already satisfied: cymem<2.1.0,>=2.0.2 in /usr/local/lib/python3.10/dist-packages (from spacy<3.6.0,>=3.5.0->en-core-web-sm==3.5.0) (2.0.7)\n",
            "Requirement already satisfied: preshed<3.1.0,>=3.0.2 in /usr/local/lib/python3.10/dist-packages (from spacy<3.6.0,>=3.5.0->en-core-web-sm==3.5.0) (3.0.8)\n",
            "Requirement already satisfied: thinc<8.2.0,>=8.1.8 in /usr/local/lib/python3.10/dist-packages (from spacy<3.6.0,>=3.5.0->en-core-web-sm==3.5.0) (8.1.9)\n",
            "Requirement already satisfied: wasabi<1.2.0,>=0.9.1 in /usr/local/lib/python3.10/dist-packages (from spacy<3.6.0,>=3.5.0->en-core-web-sm==3.5.0) (1.1.1)\n",
            "Requirement already satisfied: srsly<3.0.0,>=2.4.3 in /usr/local/lib/python3.10/dist-packages (from spacy<3.6.0,>=3.5.0->en-core-web-sm==3.5.0) (2.4.6)\n",
            "Requirement already satisfied: catalogue<2.1.0,>=2.0.6 in /usr/local/lib/python3.10/dist-packages (from spacy<3.6.0,>=3.5.0->en-core-web-sm==3.5.0) (2.0.8)\n",
            "Requirement already satisfied: typer<0.8.0,>=0.3.0 in /usr/local/lib/python3.10/dist-packages (from spacy<3.6.0,>=3.5.0->en-core-web-sm==3.5.0) (0.7.0)\n",
            "Requirement already satisfied: pathy>=0.10.0 in /usr/local/lib/python3.10/dist-packages (from spacy<3.6.0,>=3.5.0->en-core-web-sm==3.5.0) (0.10.1)\n",
            "Requirement already satisfied: smart-open<7.0.0,>=5.2.1 in /usr/local/lib/python3.10/dist-packages (from spacy<3.6.0,>=3.5.0->en-core-web-sm==3.5.0) (6.3.0)\n",
            "Requirement already satisfied: tqdm<5.0.0,>=4.38.0 in /usr/local/lib/python3.10/dist-packages (from spacy<3.6.0,>=3.5.0->en-core-web-sm==3.5.0) (4.65.0)\n",
            "Requirement already satisfied: numpy>=1.15.0 in /usr/local/lib/python3.10/dist-packages (from spacy<3.6.0,>=3.5.0->en-core-web-sm==3.5.0) (1.22.4)\n",
            "Requirement already satisfied: requests<3.0.0,>=2.13.0 in /usr/local/lib/python3.10/dist-packages (from spacy<3.6.0,>=3.5.0->en-core-web-sm==3.5.0) (2.27.1)\n",
            "Requirement already satisfied: pydantic!=1.8,!=1.8.1,<1.11.0,>=1.7.4 in /usr/local/lib/python3.10/dist-packages (from spacy<3.6.0,>=3.5.0->en-core-web-sm==3.5.0) (1.10.7)\n",
            "Requirement already satisfied: jinja2 in /usr/local/lib/python3.10/dist-packages (from spacy<3.6.0,>=3.5.0->en-core-web-sm==3.5.0) (3.1.2)\n",
            "Requirement already satisfied: setuptools in /usr/local/lib/python3.10/dist-packages (from spacy<3.6.0,>=3.5.0->en-core-web-sm==3.5.0) (67.7.2)\n",
            "Requirement already satisfied: packaging>=20.0 in /usr/local/lib/python3.10/dist-packages (from spacy<3.6.0,>=3.5.0->en-core-web-sm==3.5.0) (23.1)\n",
            "Requirement already satisfied: langcodes<4.0.0,>=3.2.0 in /usr/local/lib/python3.10/dist-packages (from spacy<3.6.0,>=3.5.0->en-core-web-sm==3.5.0) (3.3.0)\n",
            "Requirement already satisfied: typing-extensions>=4.2.0 in /usr/local/lib/python3.10/dist-packages (from pydantic!=1.8,!=1.8.1,<1.11.0,>=1.7.4->spacy<3.6.0,>=3.5.0->en-core-web-sm==3.5.0) (4.5.0)\n",
            "Requirement already satisfied: urllib3<1.27,>=1.21.1 in /usr/local/lib/python3.10/dist-packages (from requests<3.0.0,>=2.13.0->spacy<3.6.0,>=3.5.0->en-core-web-sm==3.5.0) (1.26.15)\n",
            "Requirement already satisfied: certifi>=2017.4.17 in /usr/local/lib/python3.10/dist-packages (from requests<3.0.0,>=2.13.0->spacy<3.6.0,>=3.5.0->en-core-web-sm==3.5.0) (2022.12.7)\n",
            "Requirement already satisfied: charset-normalizer~=2.0.0 in /usr/local/lib/python3.10/dist-packages (from requests<3.0.0,>=2.13.0->spacy<3.6.0,>=3.5.0->en-core-web-sm==3.5.0) (2.0.12)\n",
            "Requirement already satisfied: idna<4,>=2.5 in /usr/local/lib/python3.10/dist-packages (from requests<3.0.0,>=2.13.0->spacy<3.6.0,>=3.5.0->en-core-web-sm==3.5.0) (3.4)\n",
            "Requirement already satisfied: blis<0.8.0,>=0.7.8 in /usr/local/lib/python3.10/dist-packages (from thinc<8.2.0,>=8.1.8->spacy<3.6.0,>=3.5.0->en-core-web-sm==3.5.0) (0.7.9)\n",
            "Requirement already satisfied: confection<1.0.0,>=0.0.1 in /usr/local/lib/python3.10/dist-packages (from thinc<8.2.0,>=8.1.8->spacy<3.6.0,>=3.5.0->en-core-web-sm==3.5.0) (0.0.4)\n",
            "Requirement already satisfied: click<9.0.0,>=7.1.1 in /usr/local/lib/python3.10/dist-packages (from typer<0.8.0,>=0.3.0->spacy<3.6.0,>=3.5.0->en-core-web-sm==3.5.0) (8.1.3)\n",
            "Requirement already satisfied: MarkupSafe>=2.0 in /usr/local/lib/python3.10/dist-packages (from jinja2->spacy<3.6.0,>=3.5.0->en-core-web-sm==3.5.0) (2.1.2)\n",
            "\u001b[38;5;2m✔ Download and installation successful\u001b[0m\n",
            "You can now load the package via spacy.load('en_core_web_sm')\n"
          ]
        }
      ]
    },
    {
      "cell_type": "code",
      "source": [
        "import logging\n",
        "import spacy\n",
        "nlp = spacy.load('en_core_web_sm')\n",
        "\n",
        "# wir brauchen kein syntaktisches Parsing und Eigennamenerkennung\n",
        "nlp.disable_pipes(\"parser\", \"ner\")"
      ],
      "metadata": {
        "id": "1k9yNADPFoix",
        "outputId": "0cad94c4-2817-46d5-d687-8deef6d235d1",
        "colab": {
          "base_uri": "https://localhost:8080/"
        }
      },
      "execution_count": 71,
      "outputs": [
        {
          "output_type": "execute_result",
          "data": {
            "text/plain": [
              "['parser', 'ner']"
            ]
          },
          "metadata": {},
          "execution_count": 71
        }
      ]
    },
    {
      "cell_type": "markdown",
      "metadata": {
        "id": "5ayoKk0DDThf"
      },
      "source": [
        "# Datenset: Zufällig ausgewählte Publikationen"
      ]
    },
    {
      "cell_type": "code",
      "execution_count": 72,
      "metadata": {
        "id": "izaArcRJDThf",
        "outputId": "ff184708-6bf7-4124-9d9e-9b23695ae891",
        "colab": {
          "base_uri": "https://localhost:8080/"
        }
      },
      "outputs": [
        {
          "output_type": "stream",
          "name": "stdout",
          "text": [
            "  % Total    % Received % Xferd  Average Speed   Time    Time     Time  Current\n",
            "                                 Dload  Upload   Total   Spent    Left  Speed\n",
            "100 15.1M  100 15.1M    0     0  7273k      0  0:00:02  0:00:02 --:--:-- 7277k\n"
          ]
        }
      ],
      "source": [
        "! curl https://files.ifi.uzh.ch/cl/siclemat/lehre/fs23/bibliosuisse/data/zora-eng-dewey.fasttext.tsv -o zora-eng-dewey.fasttext.tsv"
      ]
    },
    {
      "cell_type": "markdown",
      "metadata": {
        "id": "UmQL4uuiDThh"
      },
      "source": [
        "### Format des Datensets \n",
        " - Pro tabulator-separierte Zeile gibt es 2 Spalten\n",
        " - Spalte 1: [Dewey-Labels](https://en.wikipedia.org/wiki/List_of_Dewey_Decimal_classes)\n",
        " - Spalte 2: Titel und Abstract untokenisiert"
      ]
    },
    {
      "cell_type": "code",
      "execution_count": 73,
      "metadata": {
        "id": "oBRIuu9LDThh",
        "outputId": "205faa38-8db8-469b-bb91-8a8ff2e0ef1d",
        "colab": {
          "base_uri": "https://localhost:8080/"
        }
      },
      "outputs": [
        {
          "output_type": "stream",
          "name": "stdout",
          "text": [
            "__label__300\tOrangutan activity budgets and diet: a comparison between species, populations and habitats The chapter examines differences in the activity budgets of wild orangutans (Pongo spp.) within and between a large number of study sites in Sumatra and Borneo. The authors of the chapter found that each orangutan population appeared to follow one of two distinct foraging strategies: either (1) ‘sit and wait’, in which orangutans aim to minimize their energy expenditure by spending long periods of time resting and relatively short periods feeding and travelling; or (2) ‘search and find’ in which orangutans aim to maximize their energy intake by resting little and mainly feeding or moving in search of food. Orangutans adopt the first strategy in mixed-dipterocarp forests characterized by mast-fruiting events and irregular fruit availability; and adopt the second strategy in swamp forests with a regular supply of fruit, or in dryland forests with high strangling-fig density. The chapter proposes that the determining factor for which strategy is adopted is the temporal availability of fruit in the habitat, as opposed to other possibilities such as orangutan taxonomy.\n",
            "__label__570\tKnowledge-based design of reagentless fluorescent biosensors from a designed ankyrin repeat protein Designed ankyrin repeat proteins (DARPins) can be selected from combinatorial libraries to bind any target antigen. They show high levels of recombinant expression, solubility and stability, and contain no cysteine residue. The possibility of obtaining, from any DARPin and at high yields, fluorescent conjugates which respond to the binding of the antigen by a variation of fluorescence, would have numerous applications in micro- and nano-analytical sciences. This possibility was explored with Off7, a DARPin directed against the maltose binding protein (MalE) from Escherichia coli, with known crystal structure of the complex. Eight residues of Off7, whose solvent accessible surface area varies on association with the antigen but which are not in direct contact with the antigen, were individually mutated into cysteine and then chemically coupled with a fluorophore. The conjugates were ranked according to their relative sensitivities. All of them showed an increase in their fluorescence intensity on antigen binding by >1.7-fold. The best conjugate retained the same affinity as the parental DARPin. Its signal increased linearly and specifically with the concentration of antigen, up to 15-fold in buffer and 3-fold in serum when fully saturated, the difference being mainly due to the absorption of light by serum. Its lower limit of detection was equal to 0.3 nM with a standard spectrofluorometer. Titrations with potassium iodide indicated that the fluorescence variation was due to a shielding of the fluorescent group from the solvent by the antigen. These results suggest rules for the design of reagentless fluorescent biosensors from any DARPin.\n",
            "__label__150\tInterpersonal Problems Associated With Multidimensional Personality Questionnaire Traits in Women During the Transition to Adulthood Personality traits are known to be associated with a host of important life outcomes, including interpersonal dysfunction. The interpersonal circumplex offers a comprehensive system for articulating the kinds of interpersonal problems associated with personality traits. In the current study, traits as measured by the Multidimensional Personality Questionnaire in a sample of 124 young women were correlated with interpersonal dysfunction as measured by the Inventory of Interpersonal Problems–Circumplex. Results suggest that Multidimensional Personality Questionnaire traits vary in their associations with interpersonal distress and in their coverage of specific kinds of interpersonal difficulties among women undergoing the transition to adulthood.\n",
            "__label__330\tStructural Change and the Kaldor Facts of Economic Growth \"We present a model in which two of the most important features of the long-run growth process are reconciled: the massive changes in the structure of production and employment; and the Kaldor facts of economic growth. We assume that households expand their consumption along a hierarchy of needs and firms introduce continuously new products. In equilibrium industries with an expanding and those with a declining employment share co-exist, and each such industry goes (or has already gone) through a cycle of take-off, maturity, and stagnation. Nonetheless macroeconomic aggregates grow pari passu at a constant rate.\"\n",
            "__label__150\tMalingering on the Personality Assessment Inventory: Identification of Specific Feigned Disorders Profile validity is a primary consideration in the clinical assessment of psychopathology. Several indicators of negative impression management have been developed for the Personality Assessment Inventory (PAI; Morey, 1991) that can both indicate its presence and help differentiate effortful negative distortion from distortion arising from cognitive sets associated with psychopathology. In this study, we tested a method designed to delineate the specific Clinical scales relevant for interpretation of deliberately feigned disorders. We used associations between the Negative Impression Management (NIM) scale and Clinical scales in the normative standardization sample to derive NIM predicted scale scores in a regression framework. We contrasted these predicted scores with observed scores on Clinical scales to yield NIM predicted discrepancies hypothesized to identify those Clinical scales most salient for the interpretation of negative distortion. We found this method to be effective in identifying particular distortion on the relevant scales for individuals attempting to feign 3 specific diagnoses (major depressive disorder, generalized anxiety disorder, and schizophrenia).\n",
            "__label__570\tMultiple requirements for the receptor serine/threonine kinase thick veins reveal novel functions of TGF beta homologs during Drosophila embryogenesis. Differentiation of distinct cell types at specific locations within a developing organism depends largely on the ability of cells to communicate. A major class of signalling proteins implicated in cell to cell communication is represented by members of the TGF beta superfamily. A corresponding class of transmembrane serine/threonine kinases has recently been discovered that act as cell surface receptors for ligands of the TGF beta superfamily. The product of the Drosophila gene decapentaplegic (dpp) encodes a TGF beta homolog that plays multiple roles during embryogenesis and the development of imaginal discs. Here we describe the complex expression pattern of thick veins (tkv), which encodes a receptor for dpp. We make use of tkv loss-of-function mutations to examine the consequences of the failure of embryonic cells to respond to dpp and/or other TGF beta homologs. We find that while maternal tkv product allows largely normal dorsoventral pattering of the embryo, zygotic tkv activity is indispensable for dorsal closure of the embryo after germ band retraction. Furthermore, tkv activity is crucial for patterning the visceral mesoderm; in the absence of functional tkv gene product, visceral mesoderm parasegment 7 cells fail to express Ultrabithorax, but instead accumulate Antennapedia protein. The tkv receptor is therefore involved in delimiting the expression domains of homeotic genes in the visceral mesoderm. Interestingly, tkv mutants fail to establish a proper tracheal network. Tracheal braches formed by cells migrating in dorsal or ventral directions are absent in tkv mutants. The requirements for tkv in dorsal closure, visceral mesoderm and trachea development assign novel functions to dpp or a closely related member of the TGF beta superfamily.\n",
            "__label__610\tVasodilators and low-dose acetylsalicylic acid are associated with a lower incidence of distinct primary myocardial disease manifestations in systemic sclerosis: results of the DeSScipher inception cohort study OBJECTIVES To investigate the influence of vasodilator drugs on the occurrence of features depending on myocardial ischaemia/fibrosis (ventricular arrhythmias, Q waves, cardiac blocks, pacemaker implantation, left ventricular ejection fraction (LVEF) <55%, and/or congestive heart failure and sudden cardiac death) in systemic sclerosis (SSc). METHODS 601 patients with SSc were enrolled from 1 December 2012 to 30 November 2015 and had a second visit 0.5-4 years apart. 153 received no vasodilators; 448 received vasodilator therapy (ie, calcium channel blockers and/or ACE inhibitors or angiotensin II receptor blockers or combinations of them), 89 of them being also treated with either endothelin receptor antagonists or PDE5 inhibitors or prostanoids. Associations between the occurrence of myocardial disease manifestations and any demographic, disease and therapeutic aspect were investigated by Cox regression analysis. A Cox frailty survival model with centre of enrolment as random effect was performed. RESULTS During 914 follow-up patient-years, 12 ventricular arrhythmias, 5 Q waves, 40 cardiac blocks, 6 pacemaker implantations and 19 reduced LVEF and/or congestive heart failure (CHF) occurred. In multivariate Cox regression analysis, vasodilator therapy was associated with a lower incidence of ventricular arrhythmias (p=0.03); low-dose acetylsalicylic acid (ASA) with a lower incidence of cardiac blocks and/or Q waves and/or pacemaker implantation (p=0.02); active disease with a higher incidence of LVEF <55% and/or CHF and cardiac blocks and/or Q waves and/or pacemaker implantation (p=0.05). CONCLUSIONS The present study might suggest a preventative effect on the occurrence of distinct myocardial manifestations by vasodilator therapy and low-dose ASA.\n",
            "__label__610\tAdjuvant treatment of resectable biliary tract cancer with cisplatin plus gemcitabine: A prospective single center phase II study BACKGROUND Biliary tract cancer (BTC) is a dismal disease, even after curative intent surgery. We conducted this prospective, non-randomized phase II study to evaluate the feasibility and efficacy of cisplatin and gemcitabine as adjuvant treatment in patients with resected BTC. METHODS Patients initially received gemcitabine 1000 mg/m2 alone on days 1, 8 and 15 every 28-days for a total of six cycles (single agent cohort), and after protocol amendment a combination therapy with gemcitabine 1000 mg/m2 and cisplatin 25 mg/m2 on days 1 and 8 was administered every 21 days for a total of eight cycles (combined regimen cohort). Treatment was planned to start within eight weeks after curative intent resection. Adverse events, disease-free survival and overall survival were assessed. RESULTS Overall 30 patients were enrolled in the study from August 2008 and last patient was enrolled at 2nd December 2014. The follow-up of the patients ended at 31st December 2016. The first 9 patients received single-agent gemcitabine. The interim analysis met the predefined feasibility criteria and, from September 2010 on, the second group of 21 patients received the combination of cisplatin plus gemcitabine. In the single-agent cohort with gemcitabine the median relative dose intensity (RDI) was 100% (IQR 88.3-100). Patients treated with the combination cisplatin-gemcitabine received an overall median RDI of 100% (IQR 50-100) for cisplatin and 100% (IQR 75-100) for gemcitabine respectively. The most significant non-hematological adverse events (grade 3 or 4) were fatigue (20%), infections during neutropenia (10%), and two cases of biliary sepsis (7%). Abnormal liver function was seen in 10% of the patients. One patient died due to infectious complications during treatment with cisplatin and gemcitabine. The median disease-free survival (DFS) was 14.9 months (95% CI 0-33.8) with a corresponding 3-year DFS of 43.1 ± 9.1%. The median overall survival (OS) was 40.6 months (95% CI 18.8-62.3) with a 3-year OS of 55.7 ± 9.2%. No statistically significant differences in survival were seen between the two treatment cohorts. CONCLUSION Adjuvant chemotherapy with gemcitabine with or without cisplatin was well tolerated and resulted in promising survival of the patients. TRIAL REGISTRATION The study was retrospectively registered on 25th June 2009 at clinicaltrials.gov ( NCT01073839 ).\n",
            "__label__570 __label__610\tThe prion protein is an agonistic ligand of the G protein-coupled receptor Adgrg6 Ablation of the cellular prion protein PrPC leads to a chronic demyelinating polyneuropathy affecting Schwann cells. Neuron-restricted expression of PrPC prevents the disease1, suggesting that PrPC acts in trans through an unidentified Schwann cell receptor. Here we show that the cAMP concentration in sciatic nerves from PrPC-deficient mice is reduced, suggesting that PrPC acts via a G protein-coupled receptor (GPCR). The amino-terminal flexible tail (residues 23–120) of PrPC triggered a concentration-dependent increase in cAMP in primary Schwann cells, in the Schwann cell line SW10, and in HEK293T cells overexpressing the GPCR Adgrg6 (also known as Gpr126). By contrast, naive HEK293T cells and HEK293T cells expressing several other GPCRs did not react to the flexible tail, and ablation of Gpr126 from SW10 cells abolished the flexible tail-induced cAMP response. The flexible tail contains a polycationic cluster (KKRPKPG) similar to the GPRGKPG motif of the Gpr126 agonist type-IV collagen2. A KKRPKPG-containing PrPC-derived peptide (FT23–50) sufficed to induce a Gpr126-dependent cAMP response in cells and mice, and improved myelination in hypomorphic gpr126 mutant zebrafish (Danio rerio). Substitution of the cationic residues with alanines abolished the biological activity of both FT23–50 and the equivalent type-IV collagen peptide. We conclude that PrPC promotes myelin homeostasis through flexible tail-mediated Gpr126 agonism. As well as clarifying the physiological role of PrPC, these observations are relevant to the pathogenesis of demyelinating polyneuropathies—common debilitating diseases for which there are limited therapeutic options.\n",
            "__label__570 __label__610\tBend, Push, Stretch: Remarkable Structure and Mechanics of Single Intermediate Filaments and Meshworks The cytoskeleton of the eukaryotic cell provides a structural and functional scaffold enabling biochemical and cellular functions. While actin and microtubules form the main framework of the cell, intermediate filament networks provide unique mechanical properties that increase the resilience of both the cytoplasm and the nucleus, thereby maintaining cellular function while under mechanical pressure. Intermediate filaments (IFs) are imperative to a plethora of regulatory and signaling functions in mechanotransduction. Mutations in all types of IF proteins are known to affect the architectural integrity and function of cellular processes, leading to debilitating diseases. The basic building block of all IFs are elongated α-helical coiled-coils that assemble hierarchically into complex meshworks. A remarkable mechanical feature of IFs is the capability of coiled-coils to metamorphize into β-sheets under stress, making them one of the strongest and most resilient mechanical entities in nature. Here, we discuss structural and mechanical aspects of IFs with a focus on nuclear lamins and vimentin.\n"
          ]
        }
      ],
      "source": [
        "! head -n 10 zora-eng-dewey.fasttext.tsv"
      ]
    },
    {
      "cell_type": "markdown",
      "source": [
        "### Statistiken zum Datenset"
      ],
      "metadata": {
        "id": "z6MnzVp7E_sB"
      }
    },
    {
      "cell_type": "code",
      "execution_count": 74,
      "metadata": {
        "id": "lL2yiOGADThi",
        "outputId": "df8d8dcc-7c01-4050-e048-f54009a28b12",
        "colab": {
          "base_uri": "https://localhost:8080/"
        }
      },
      "outputs": [
        {
          "output_type": "stream",
          "name": "stdout",
          "text": [
            "10267 zora-eng-dewey.fasttext.tsv\n"
          ]
        }
      ],
      "source": [
        "! wc -l zora-eng-dewey.fasttext.tsv"
      ]
    },
    {
      "cell_type": "code",
      "execution_count": null,
      "metadata": {
        "id": "K6eXxVbBDThj"
      },
      "outputs": [],
      "source": [
        "!  cut -f 1 < zora-eng-dewey.fasttext.tsv | sort | uniq -c | sort -rn "
      ]
    },
    {
      "cell_type": "code",
      "source": [
        "def lemmatize_tsv(inputfile, outputfile, spacy_nlp, limit=999999):\n",
        "    \"\"\"Write tokenized and lemmatized version of data set\"\"\"\n",
        "\n",
        "    with open(outputfile,\"w\",encoding=\"utf-8\")as output:\n",
        "        with open(inputfile,\"r\",encoding=\"utf-8\") as input:\n",
        "            for i,line in enumerate(input):\n",
        "                labels, text = line.strip().split(\"\\t\")\n",
        "                doc = nlp(text)\n",
        "                print(labels,' '.join(token.lemma_ for token in doc).lower(),sep=\"\\t\",file=output)\n",
        "                if i > limit:\n",
        "                    break\n",
        "                if i % 100 == 0:\n",
        "                    print(f\"Processed {i} records\")\n"
      ],
      "metadata": {
        "id": "OUqaKnqKFGl1"
      },
      "execution_count": 76,
      "outputs": []
    },
    {
      "cell_type": "code",
      "source": [
        "# Download precomputed lemmatized data\n",
        "! test -e zora-eng-dewey.lemmatized.fasttext.tsv || curl https://files.ifi.uzh.ch/cl/siclemat/lehre/fs23/bibliosuisse/data/zora-eng-dewey.lemmatized.fasttext.tsv -o zora-eng-dewey.lemmatized.fasttext.tsv"
      ],
      "metadata": {
        "id": "UOMKmQo01b6h"
      },
      "execution_count": 78,
      "outputs": []
    },
    {
      "cell_type": "code",
      "source": [
        "lemmatize_tsv(\"zora-eng-dewey.fasttext.tsv\",\"zora-eng-dewey-10.lemmatized.fasttext.tsv\",nlp,limit=10)"
      ],
      "metadata": {
        "id": "6N2Y7-UEGwuD",
        "outputId": "2e7f3735-8a8c-49c6-9e24-e9a6dacd836d",
        "colab": {
          "base_uri": "https://localhost:8080/"
        }
      },
      "execution_count": 79,
      "outputs": [
        {
          "output_type": "stream",
          "name": "stdout",
          "text": [
            "Processed 0 records\n"
          ]
        }
      ]
    },
    {
      "cell_type": "code",
      "source": [
        "! head zora-eng-dewey-10.lemmatized.fasttext.tsv"
      ],
      "metadata": {
        "id": "X7tvPloV1dXT"
      },
      "execution_count": null,
      "outputs": []
    },
    {
      "cell_type": "code",
      "source": [
        "lemmatize_tsv(\"zora-eng-dewey.fasttext.tsv\",\"zora-eng-dewey.lemmatized.fasttext.tsv\",nlp)"
      ],
      "metadata": {
        "id": "-1TNlSROMByF"
      },
      "execution_count": null,
      "outputs": []
    },
    {
      "cell_type": "code",
      "source": [
        "! head zora-eng-dewey.lemmatized.fasttext.tsv"
      ],
      "metadata": {
        "id": "1MehmfPOcEhh"
      },
      "execution_count": null,
      "outputs": []
    },
    {
      "cell_type": "code",
      "source": [
        "def multilabel2singlelabel(inputfile, outputfile):\n",
        "    \"\"\"Reduce labels to the first label mentioned\"\"\"\n",
        "    with open(outputfile,\"w\",encoding=\"utf-8\")as output:\n",
        "        with open(inputfile,\"r\",encoding=\"utf-8\") as input:\n",
        "            for i,line in enumerate(input):\n",
        "                labels, text = line.strip().split(\"\\t\")\n",
        "                label = labels.split(\" \")[0]\n",
        "                print(label, text, sep=\"\\t\",file=output)\n"
      ],
      "metadata": {
        "id": "k16i-91ewZo2"
      },
      "execution_count": null,
      "outputs": []
    },
    {
      "cell_type": "code",
      "source": [
        "multilabel2singlelabel(\"zora-eng-dewey.lemmatized.fasttext.tsv\",\"zora-eng-dewey.lemmatized.fasttext.single.tsv\")"
      ],
      "metadata": {
        "id": "jgGV1zOCxBQn"
      },
      "execution_count": null,
      "outputs": []
    },
    {
      "cell_type": "code",
      "source": [
        "! head zora-eng-dewey.lemmatized.fasttext.single.tsv"
      ],
      "metadata": {
        "id": "Tuhq39iqxRzm"
      },
      "execution_count": null,
      "outputs": []
    },
    {
      "cell_type": "markdown",
      "metadata": {
        "id": "ZOH-9FLFDThk"
      },
      "source": [
        "## Aufteilen der Daten in Trainings- und Testdaten\n",
        "Erstellen von Training und Testdaten (Originaldaten sind zufällig geordnet)"
      ]
    },
    {
      "cell_type": "code",
      "execution_count": null,
      "metadata": {
        "id": "Kq5ZOladDThk"
      },
      "outputs": [],
      "source": [
        "! head -n 9000 < zora-eng-dewey.lemmatized.fasttext.tsv > zora-eng-dewey.lemmatized.fasttext.train.tsv\n",
        "! tail -n 1000 < zora-eng-dewey.lemmatized.fasttext.tsv > zora-eng-dewey.lemmatized.fasttext.test.tsv"
      ]
    },
    {
      "cell_type": "code",
      "source": [
        "# optional erzeuge single label Daten\n",
        "! head -n 9000 < zora-eng-dewey.lemmatized.fasttext.single.tsv > zora-eng-dewey.lemmatized.fasttext.train.tsv\n",
        "! tail -n 1000 < zora-eng-dewey.lemmatized.fasttext.single.tsv > zora-eng-dewey.lemmatized.fasttext.test.tsv"
      ],
      "metadata": {
        "id": "Mc_28Qrkxf6R"
      },
      "execution_count": null,
      "outputs": []
    },
    {
      "cell_type": "code",
      "source": [
        "! echo TRAINING DATA STATISTICS\n",
        "! cut -f 1 < zora-eng-dewey.lemmatized.fasttext.train.tsv | sort | uniq -c | sort -rn |head\n",
        "! echo TEST DATA STATISTICS\n",
        "! cut -f 1 < zora-eng-dewey.lemmatized.fasttext.test.tsv | sort | uniq -c | sort -rn |head"
      ],
      "metadata": {
        "id": "cM69z1KmHaEW"
      },
      "execution_count": null,
      "outputs": []
    },
    {
      "cell_type": "code",
      "source": [],
      "metadata": {
        "id": "7efDuWdOwMX-"
      },
      "execution_count": null,
      "outputs": []
    },
    {
      "cell_type": "markdown",
      "metadata": {
        "id": "e4_msKJSDTho"
      },
      "source": [
        "# Trainieren von Modell mit Python-Package\n",
        " - Dokumentation siehe https://fasttext.cc/docs/en/python-module.html"
      ]
    },
    {
      "cell_type": "code",
      "execution_count": 80,
      "metadata": {
        "id": "40vFiCAQDTho"
      },
      "outputs": [],
      "source": [
        "import fasttext"
      ]
    },
    {
      "cell_type": "markdown",
      "source": [
        "[Word Embeddings](https://fasttext.cc/docs/en/pretrained-vectors.html) auf Wikipedia trainiert und wegen Speichergründen von mir auf 50 Dimensionen reduziert (Text-Format ist notwendig für supervisierte Klassifikation)"
      ],
      "metadata": {
        "id": "bD8354rOdKn8"
      }
    },
    {
      "cell_type": "code",
      "source": [
        "! test -e wiki.en.50.vec || curl https://files.ifi.uzh.ch/cl/siclemat/lehre/fs23/bibliosuisse/data/wiki.en.50.vec -o wiki.en.50.vec"
      ],
      "metadata": {
        "id": "QVDc2kQlcuYK"
      },
      "execution_count": 81,
      "outputs": []
    },
    {
      "cell_type": "code",
      "execution_count": 82,
      "metadata": {
        "id": "XKtx28_CDTho"
      },
      "outputs": [],
      "source": [
        "# dauert ca. 40 Sekunden mit diesen Einstellungen\n",
        "model = fasttext.train_supervised(\n",
        "    input='zora-eng-dewey.lemmatized.fasttext.train.tsv', \n",
        "    pretrainedVectors=\"wiki.en.50.vec\", # vortrainierte word embeddings\n",
        "    epoch=10,  # Wie oft werden die Trainingsdaten benutzt\n",
        "    minn=5,    # Minimal Subword-Länge in Buchstaben  \n",
        "    maxn=5,    # Maximale Subword-Länge in Buchstaben \n",
        "    dim=50,    # Dimensionalität der Vektoren für die Repräsentation der Wörter und Subwords (muss gleich wie pretrainedVectors sein)\n",
        "    lr=1,      # Learning Rate (Lernrate): Wie stark wird ein Fehler bestraft? \n",
        "    )"
      ]
    },
    {
      "cell_type": "markdown",
      "source": [
        "## Inspizieren des gelernten Modells"
      ],
      "metadata": {
        "id": "IQuLDqMdPEsy"
      }
    },
    {
      "cell_type": "markdown",
      "source": [
        "Welche Labels/Klassen kennt das Modell?"
      ],
      "metadata": {
        "id": "j2YSVXdZP9yO"
      }
    },
    {
      "cell_type": "code",
      "execution_count": null,
      "metadata": {
        "id": "Aq7TtoJTDThp"
      },
      "outputs": [],
      "source": [
        "print(model.labels)"
      ]
    },
    {
      "cell_type": "markdown",
      "source": [
        "Einen String klassifizieren und die Wahrscheinlichkeitsverteilung über allen möglichen Dewey erhalten:"
      ],
      "metadata": {
        "id": "gUHd0gFMQGzs"
      }
    },
    {
      "cell_type": "code",
      "execution_count": null,
      "metadata": {
        "id": "leavip9EDThp"
      },
      "outputs": [],
      "source": [
        "result = model.predict(\"interpersonal problems associate with multidimensional personality questionnaire traits in woman \",  \n",
        "              k=5  # Gib die 5 besten Klassen aus\n",
        "              )\n",
        "for label,prob in zip(*result):\n",
        "    print(label, round(prob,3))"
      ]
    },
    {
      "cell_type": "markdown",
      "source": [
        "Systematisches Testen des trainierten Models auf Testdaten:\n",
        " - k: Maximale Anzahl vorgeschlagener Labels\n",
        " - threshold: Minimale Wahrscheinlichkeit eine Labels, damit es als vorhergesagt gilt"
      ],
      "metadata": {
        "id": "C5TbsDPQNEdx"
      }
    },
    {
      "cell_type": "code",
      "execution_count": null,
      "metadata": {
        "id": "dM860ZY7DThp"
      },
      "outputs": [],
      "source": [
        "model.test(\"zora-eng-dewey.lemmatized.fasttext.test.tsv\",k=3,threshold=0.25)"
      ]
    },
    {
      "cell_type": "code",
      "execution_count": null,
      "metadata": {
        "id": "vTs98FNoDThq"
      },
      "outputs": [],
      "source": [
        "def print_results(N, p, r):\n",
        "    \"Pretty print performance: N=Number of Samples, P/R@1=Precision/Recall of best prediction Acc=Accuracy \"\n",
        "    print(f\"N\\t{N}\")\n",
        "    print(f\"P@k\\t{p:.2f}\")\n",
        "    print(f\"R@k\\t{r:.2f}\")\n",
        "    print(f\"Acc\\t{r:.2f}\")"
      ]
    },
    {
      "cell_type": "code",
      "execution_count": null,
      "metadata": {
        "id": "8qqQXM9zDThq"
      },
      "outputs": [],
      "source": [
        "print_results(*model.test(\"zora-eng-dewey.lemmatized.fasttext.test.tsv\",k=3,threshold=0.25))"
      ]
    },
    {
      "cell_type": "markdown",
      "source": [
        "Detaillierte Evaluation zu jedem einzelnen Label:\n",
        " - Precision: Anteil korrekter Klassifikationen einer Klasse\n",
        " - Recall: Anteil korrekt klassifizierter Elemente einer Klasse\n",
        " - f1score: Harmonisches Mittel von Precision und Recall"
      ],
      "metadata": {
        "id": "5bAUu9DuVEXv"
      }
    },
    {
      "cell_type": "code",
      "source": [
        "def per_label_evaluation(model, test_file, k=3, threshold=0.25):\n",
        "    data = model.test_label(test_file,k=k, threshold=threshold)\n",
        "    sorted_data = sorted(data.items(), key=lambda x: x[1]['f1score'], reverse=True)\n",
        "\n",
        "    for label, perf in sorted_data:\n",
        "        print(f\"{label} F1 {perf['f1score']:.3f} P {perf['precision']:.3f} R {perf['recall']:.3f}\")"
      ],
      "metadata": {
        "id": "aVaCjOcbSWVJ"
      },
      "execution_count": 88,
      "outputs": []
    },
    {
      "cell_type": "code",
      "source": [
        "per_label_evaluation(model,\"zora-eng-dewey.lemmatized.fasttext.test.tsv\")"
      ],
      "metadata": {
        "colab": {
          "base_uri": "https://localhost:8080/"
        },
        "id": "axOdU4jZeCSw",
        "outputId": "8c3a6384-afeb-4858-c0ae-7de34c0c1a43"
      },
      "execution_count": 89,
      "outputs": [
        {
          "output_type": "stream",
          "name": "stdout",
          "text": [
            "__label__390 F1 nan P nan R nan\n",
            "__label__400 F1 nan P nan R nan\n",
            "__label__360 F1 nan P nan R nan\n",
            "__label__430 F1 nan P nan R nan\n",
            "__label__530 F1 0.921 P 0.911 R 0.932\n",
            "__label__560 F1 0.875 P 0.875 R 0.875\n",
            "__label__070 F1 0.857 P 0.857 R 0.857\n",
            "__label__510 F1 0.807 P 0.719 R 0.920\n",
            "__label__610 F1 0.803 P 0.762 R 0.848\n",
            "__label__910 F1 0.780 P 0.821 R 0.744\n",
            "__label__540 F1 0.773 P 0.810 R 0.739\n",
            "__label__000 F1 0.767 P 0.719 R 0.821\n",
            "__label__570 F1 0.727 P 0.656 R 0.815\n",
            "__label__330 F1 0.719 P 0.641 R 0.820\n",
            "__label__580 F1 0.615 P 0.533 R 0.727\n",
            "__label__150 F1 0.562 P 0.491 R 0.659\n",
            "__label__320 F1 0.533 P 0.400 R 0.800\n",
            "__label__700 F1 0.500 P 1.000 R 0.333\n",
            "__label__100 F1 0.500 P 1.000 R 0.333\n",
            "__label__300 F1 0.476 P 0.455 R 0.500\n",
            "__label__370 F1 0.476 P 0.833 R 0.333\n",
            "__label__170 F1 0.467 P 0.412 R 0.538\n",
            "__label__340 F1 0.444 P 0.667 R 0.333\n",
            "__label__820 F1 0.364 P 0.667 R 0.250\n",
            "__label__490 F1 0.286 P 0.250 R 0.333\n",
            "__label__142 F1 0.093 P 0.167 R 0.065\n",
            "__label__630 F1 0.000 P nan R 0.000\n",
            "__label__230 F1 0.000 P nan R 0.000\n",
            "__label__790 F1 0.000 P nan R 0.000\n",
            "__label__900 F1 0.000 P nan R 0.000\n",
            "__label__180 F1 0.000 P nan R 0.000\n",
            "__label__800 F1 0.000 P nan R 0.000\n",
            "__label__410 F1 0.000 P nan R 0.000\n",
            "__label__200 F1 0.000 P nan R 0.000\n",
            "__label__950 F1 0.000 P nan R 0.000\n",
            "__label__470 F1 0.000 P nan R 0.000\n"
          ]
        }
      ]
    },
    {
      "cell_type": "markdown",
      "metadata": {
        "id": "bZcTfumNDThn"
      },
      "source": [
        "## Vorhersagen und Wahrheit anzeigen"
      ]
    },
    {
      "cell_type": "code",
      "source": [
        "!ls -lh"
      ],
      "metadata": {
        "id": "dj0LMb-klIRP"
      },
      "execution_count": null,
      "outputs": []
    },
    {
      "cell_type": "code",
      "execution_count": 90,
      "metadata": {
        "id": "470gKPX_DTho",
        "outputId": "fd9f11e6-bbe2-4330-eff0-161904b4edbd",
        "colab": {
          "base_uri": "https://localhost:8080/"
        }
      },
      "outputs": [
        {
          "output_type": "execute_result",
          "data": {
            "text/plain": [
              "[['__label__570',\n",
              "  'perspective : chain dynamic of unfold and intrinsically disorder protein from nanosecond fluorescence correlation spectroscopy combine with single - molecule fret the dynamic of unfolded protein be important both for the process of protein fold and for the behavior of intrinsically disorder protein . however , method for investigate the global chain dynamic of these structurally diverse system have be limit . a versatile experimental approach be single - molecule spectroscopy in combination with förster resonance energy transfer and nanosecond fluorescence correlation spectroscopy . the concept of polymer physics offer a powerful framework both for interpret the result and for understanding and classify the property of unfold and intrinsically disorder protein . this information on long - range chain dynamic can be complement with spectroscopic technique that probe different length scale and time scale , and integration of these result greatly benefit from recent advance in molecular simulation . this increase convergence between the experiment , theory , and simulation be thus start to enable an increasingly detailed view of the dynamic of disorder protein .'],\n",
              " ['__label__610',\n",
              "  'pseudodeficiency of glutamine in infant liver disease gamma - glutamyltransferase ( gamma - gt ) be an early marker for cholestasis and have the capability of glutamine - deamidation . two infant with elevated serum gamma - gt have a decrease serum glutamine . a time course of glutamine and glutamate concentration change be perform . this reveal a time dependent decrease of glutamine far below the normal low limit while glutamate increase above the normal upper limit . in conclusion , increase in vitro gamma - gt can cause pseudodeficiency of glutamine . to avoid pitfall , physician should inform the laboratory on accompany pathology .'],\n",
              " ['__label__610',\n",
              "  'prediction of small for size syndrome after extended hepatectomy : tissue characterization by relaxometry , diffusion weight magnetic resonance imaging and magnetization transfer this study aim to monitor the course of liver regeneration by multiparametric magnetic - resonance imaging ( mri ) after partial liver resection characterize small - for - size syndrome ( sfss ) , which frequently lead to fatal post - hepatectomy liver failure ( plf ) . twenty - two c57bl/6 mouse undergo either conventional 70 % partial hepatectomy ( cph ) , extend 86 % partial hepatectomy ( eph ) or sham operation . subsequent mri scan on day 0 , 1 , 2 , 3 , 5 and 7 in a 4.7 t mr scanner quantify longitudinal and transverse relaxation time , apparent diffusion coefficient ( adc ) and the magnetization - transfer ratio ( mtr ) of the regenerate liver parenchyma . histological examination be perform by hematoxylin - eosin staining . after hepatectomy , an increase of t1 time be detect be large for eph on day 1 : 18 % for cph vs. 40 % for eph and on day 2 : 24 % for cph vs. 49 % for eph . an increase in t2 time , again great in eph be most pronounce on day 5 : 21 % for cph vs. 41 % for eph . adc and mtr show a decrease on day 1 : 21 % for eph vs. 13 % for cph for adc , 15 % for eph vs. 11 % for cph for mtr . subsequently , all mr parameter converge towards initial value in survive animal . die plf animal exhibit the strong increase of t1 relaxation time and most prominent decrease of adc and mtr . the retrieved mri biomarker indicate sfss and potentially develop plf at an early stage , likely reflect cellular hypertrophy with extended water content and concomitantly dilute cellular component as feature of liver regeneration , appear more intense in eph as compare to cph .']]"
            ]
          },
          "metadata": {},
          "execution_count": 90
        }
      ],
      "source": [
        "test_data = []\n",
        "with open(\"zora-eng-dewey.lemmatized.fasttext.test.tsv\", mode=\"r\",encoding=\"utf-8\") as testfile:\n",
        "    for line in testfile:\n",
        "        test_data.append(line.strip().split(\"\\t\"))\n",
        "test_data[:3]\n"
      ]
    },
    {
      "cell_type": "code",
      "source": [
        "from collections import Counter\n",
        "confusion_matrix = Counter()\n",
        "\n",
        "# If given a list of strings, it will return a list of results as usually received for a single line of text.\n",
        "predictions,probs = model.predict([text for _,text in test_data], k=3, threshold=0.25)\n",
        "\n",
        "for i,preds in enumerate(predictions):\n",
        "    labels = \" \".join(sorted(preds)).replace('__label__','')\n",
        "    if not labels:\n",
        "        labels = '???'\n",
        "    confusion_matrix[(test_data[i][0].replace('__label__',''),labels)] += 1\n",
        "\n",
        "# korrekte \n",
        "print(\"CORRECT PREDICTIONS\")\n",
        "for (correct, predicted), count in confusion_matrix.most_common():\n",
        "    if correct == predicted:\n",
        "        print(\"TRUTH\",correct, \"SYSTEM\",predicted, \"COUNT\",count)\n",
        "\n",
        "# falsche \n",
        "print(\"\\n\\nWRONG PREDICTIONS\")\n",
        "for (correct, predicted), count in confusion_matrix.most_common():\n",
        "    if correct != predicted:\n",
        "        print(\"TRUTH\",correct, \"SYSTEM\",predicted, \"COUNT\",count)"
      ],
      "metadata": {
        "id": "RIx-qm5-bUV0",
        "outputId": "c94537f2-1bf2-4161-da8e-6602a6f2b6d2",
        "colab": {
          "base_uri": "https://localhost:8080/"
        }
      },
      "execution_count": 91,
      "outputs": [
        {
          "output_type": "stream",
          "name": "stdout",
          "text": [
            "CORRECT PREDICTIONS\n",
            "TRUTH 610 SYSTEM 610 COUNT 288\n",
            "TRUTH 570 SYSTEM 570 COUNT 155\n",
            "TRUTH 530 SYSTEM 530 COUNT 40\n",
            "TRUTH 330 SYSTEM 330 COUNT 38\n",
            "TRUTH 910 SYSTEM 910 COUNT 28\n",
            "TRUTH 510 SYSTEM 510 COUNT 23\n",
            "TRUTH 150 SYSTEM 150 COUNT 22\n",
            "TRUTH 000 SYSTEM 000 COUNT 20\n",
            "TRUTH 540 SYSTEM 540 COUNT 17\n",
            "TRUTH 580 SYSTEM 580 COUNT 7\n",
            "TRUTH 560 SYSTEM 560 COUNT 6\n",
            "TRUTH 370 SYSTEM 370 COUNT 5\n",
            "TRUTH 070 SYSTEM 070 COUNT 5\n",
            "TRUTH 300 SYSTEM 300 COUNT 4\n",
            "TRUTH 320 SYSTEM 320 COUNT 3\n",
            "TRUTH 170 SYSTEM 170 COUNT 3\n",
            "TRUTH 340 SYSTEM 340 COUNT 2\n",
            "TRUTH 820 SYSTEM 820 COUNT 2\n",
            "TRUTH 100 SYSTEM 100 COUNT 1\n",
            "TRUTH 700 SYSTEM 700 COUNT 1\n",
            "TRUTH 490 SYSTEM 490 COUNT 1\n",
            "\n",
            "\n",
            "WRONG PREDICTIONS\n",
            "TRUTH 610 SYSTEM 570 COUNT 32\n",
            "TRUTH 570 SYSTEM 610 COUNT 27\n",
            "TRUTH 570 SYSTEM 570 610 COUNT 26\n",
            "TRUTH 610 SYSTEM 570 610 COUNT 21\n",
            "TRUTH 142 SYSTEM 610 COUNT 11\n",
            "TRUTH 610 SYSTEM 150 610 COUNT 10\n",
            "TRUTH 142 SYSTEM 570 COUNT 7\n",
            "TRUTH 610 SYSTEM 150 COUNT 6\n",
            "TRUTH 820 SYSTEM ??? COUNT 5\n",
            "TRUTH 150 SYSTEM 610 COUNT 5\n",
            "TRUTH 910 SYSTEM ??? COUNT 4\n",
            "TRUTH 150 SYSTEM 150 610 COUNT 4\n",
            "TRUTH 610 SYSTEM 142 610 COUNT 3\n",
            "TRUTH 370 SYSTEM 330 COUNT 3\n",
            "TRUTH 580 SYSTEM 570 COUNT 3\n",
            "TRUTH 000 SYSTEM 330 COUNT 3\n",
            "TRUTH 170 SYSTEM 610 COUNT 3\n",
            "TRUTH 142 SYSTEM 570 610 COUNT 3\n",
            "TRUTH 610 SYSTEM 330 COUNT 3\n",
            "TRUTH 370 SYSTEM 150 COUNT 3\n",
            "TRUTH 570 SYSTEM 000 COUNT 3\n",
            "TRUTH 610 SYSTEM 142 570 COUNT 3\n",
            "TRUTH 570 SYSTEM 580 COUNT 3\n",
            "TRUTH 540 SYSTEM 570 COUNT 3\n",
            "TRUTH 142 SYSTEM 530 COUNT 2\n",
            "TRUTH 230 SYSTEM ??? COUNT 2\n",
            "TRUTH 100 SYSTEM 330 COUNT 2\n",
            "TRUTH 910 SYSTEM 000 910 COUNT 2\n",
            "TRUTH 570 SYSTEM 910 COUNT 2\n",
            "TRUTH 150 SYSTEM 330 COUNT 2\n",
            "TRUTH 300 SYSTEM ??? COUNT 2\n",
            "TRUTH 610 SYSTEM 142 COUNT 2\n",
            "TRUTH 540 SYSTEM 570 610 COUNT 2\n",
            "TRUTH 150 SYSTEM 170 COUNT 2\n",
            "TRUTH 910 SYSTEM 570 COUNT 2\n",
            "TRUTH 200 SYSTEM ??? COUNT 2\n",
            "TRUTH 142 SYSTEM ??? COUNT 2\n",
            "TRUTH 610 SYSTEM 300 COUNT 2\n",
            "TRUTH 910 SYSTEM 570 910 COUNT 2\n",
            "TRUTH 330 SYSTEM 510 COUNT 2\n",
            "TRUTH 170 SYSTEM 570 COUNT 2\n",
            "TRUTH 150 SYSTEM ??? COUNT 2\n",
            "TRUTH 330 SYSTEM 610 COUNT 2\n",
            "TRUTH 570 SYSTEM 170 570 COUNT 2\n",
            "TRUTH 340 SYSTEM 610 COUNT 2\n",
            "TRUTH 330 SYSTEM 170 610 COUNT 1\n",
            "TRUTH 150 SYSTEM 510 COUNT 1\n",
            "TRUTH 150 SYSTEM 150 570 COUNT 1\n",
            "TRUTH 000 SYSTEM ??? COUNT 1\n",
            "TRUTH 330 SYSTEM 170 570 COUNT 1\n",
            "TRUTH 530 SYSTEM 530 910 COUNT 1\n",
            "TRUTH 150 SYSTEM 320 COUNT 1\n",
            "TRUTH 300 SYSTEM 300 570 COUNT 1\n",
            "TRUTH 142 SYSTEM 370 COUNT 1\n",
            "TRUTH 000 SYSTEM 000 330 COUNT 1\n",
            "TRUTH 630 SYSTEM 570 610 COUNT 1\n",
            "TRUTH 700 SYSTEM 610 COUNT 1\n",
            "TRUTH 570 SYSTEM 330 COUNT 1\n",
            "TRUTH 370 SYSTEM 300 COUNT 1\n",
            "TRUTH 490 SYSTEM 300 COUNT 1\n",
            "TRUTH 170 SYSTEM 170 610 COUNT 1\n",
            "TRUTH 170 SYSTEM 142 170 COUNT 1\n",
            "TRUTH 560 SYSTEM 560 570 COUNT 1\n",
            "TRUTH 910 SYSTEM 610 COUNT 1\n",
            "TRUTH 560 SYSTEM 570 COUNT 1\n",
            "TRUTH 370 SYSTEM 610 COUNT 1\n",
            "TRUTH 800 SYSTEM 490 COUNT 1\n",
            "TRUTH 900 SYSTEM ??? COUNT 1\n",
            "TRUTH 142 SYSTEM 142 570 COUNT 1\n",
            "TRUTH 610 SYSTEM 150 570 610 COUNT 1\n",
            "TRUTH 570 SYSTEM 560 580 COUNT 1\n",
            "TRUTH 610 SYSTEM 570 910 COUNT 1\n",
            "TRUTH 580 SYSTEM 570 580 COUNT 1\n",
            "TRUTH 570 SYSTEM 170 330 COUNT 1\n",
            "TRUTH 340 SYSTEM 490 COUNT 1\n",
            "TRUTH 320 SYSTEM 910 COUNT 1\n",
            "TRUTH 610 SYSTEM 510 COUNT 1\n",
            "TRUTH 370 SYSTEM 150 330 COUNT 1\n",
            "TRUTH 570 SYSTEM 510 540 COUNT 1\n",
            "TRUTH 000 SYSTEM 000 910 COUNT 1\n",
            "TRUTH 070 SYSTEM 070 320 COUNT 1\n",
            "TRUTH 610 SYSTEM 540 570 COUNT 1\n",
            "TRUTH 000 SYSTEM 000 610 COUNT 1\n",
            "TRUTH 410 SYSTEM 000 COUNT 1\n",
            "TRUTH 910 SYSTEM 340 610 COUNT 1\n",
            "TRUTH 370 SYSTEM ??? COUNT 1\n",
            "TRUTH 330 SYSTEM 330 510 COUNT 1\n",
            "TRUTH 142 SYSTEM 142 570 610 COUNT 1\n",
            "TRUTH 170 SYSTEM 170 540 COUNT 1\n",
            "TRUTH 610 SYSTEM 330 510 COUNT 1\n",
            "TRUTH 570 SYSTEM 510 COUNT 1\n",
            "TRUTH 142 SYSTEM 330 610 COUNT 1\n",
            "TRUTH 610 SYSTEM 150 330 COUNT 1\n",
            "TRUTH 910 SYSTEM 510 COUNT 1\n",
            "TRUTH 142 SYSTEM 570 580 COUNT 1\n",
            "TRUTH 510 SYSTEM 530 COUNT 1\n",
            "TRUTH 610 SYSTEM ??? COUNT 1\n",
            "TRUTH 170 SYSTEM 150 170 COUNT 1\n",
            "TRUTH 320 SYSTEM 320 330 COUNT 1\n",
            "TRUTH 490 SYSTEM ??? COUNT 1\n",
            "TRUTH 470 SYSTEM 490 COUNT 1\n",
            "TRUTH 570 SYSTEM 000 610 COUNT 1\n",
            "TRUTH 820 SYSTEM 000 COUNT 1\n",
            "TRUTH 070 SYSTEM 610 COUNT 1\n",
            "TRUTH 530 SYSTEM 910 COUNT 1\n",
            "TRUTH 910 SYSTEM 320 330 COUNT 1\n",
            "TRUTH 150 SYSTEM 570 COUNT 1\n",
            "TRUTH 180 SYSTEM ??? COUNT 1\n",
            "TRUTH 530 SYSTEM ??? COUNT 1\n",
            "TRUTH 610 SYSTEM 170 610 COUNT 1\n",
            "TRUTH 700 SYSTEM ??? COUNT 1\n",
            "TRUTH 530 SYSTEM 570 COUNT 1\n",
            "TRUTH 200 SYSTEM 610 COUNT 1\n",
            "TRUTH 950 SYSTEM ??? COUNT 1\n",
            "TRUTH 610 SYSTEM 580 COUNT 1\n",
            "TRUTH 910 SYSTEM 570 610 COUNT 1\n",
            "TRUTH 330 SYSTEM 300 330 COUNT 1\n",
            "TRUTH 330 SYSTEM ??? COUNT 1\n",
            "TRUTH 300 SYSTEM 150 COUNT 1\n",
            "TRUTH 170 SYSTEM 570 610 COUNT 1\n",
            "TRUTH 540 SYSTEM 530 COUNT 1\n",
            "TRUTH 330 SYSTEM 320 330 COUNT 1\n",
            "TRUTH 330 SYSTEM 000 COUNT 1\n",
            "TRUTH 570 SYSTEM 570 580 COUNT 1\n",
            "TRUTH 570 SYSTEM 300 570 COUNT 1\n",
            "TRUTH 300 SYSTEM 320 COUNT 1\n",
            "TRUTH 790 SYSTEM 150 COUNT 1\n",
            "TRUTH 510 SYSTEM 610 COUNT 1\n",
            "TRUTH 800 SYSTEM ??? COUNT 1\n",
            "TRUTH 330 SYSTEM 070 COUNT 1\n",
            "TRUTH 000 SYSTEM 150 COUNT 1\n",
            "TRUTH 142 SYSTEM 320 COUNT 1\n",
            "TRUTH 300 SYSTEM 150 330 COUNT 1\n",
            "TRUTH 610 SYSTEM 150 170 COUNT 1\n",
            "TRUTH 610 SYSTEM 820 COUNT 1\n",
            "TRUTH 570 SYSTEM 142 170 COUNT 1\n",
            "TRUTH 340 SYSTEM ??? COUNT 1\n",
            "TRUTH 610 SYSTEM 540 COUNT 1\n"
          ]
        }
      ]
    },
    {
      "cell_type": "markdown",
      "metadata": {
        "id": "4_HB89vqDThm"
      },
      "source": [
        "# Verbessern des Modells\n",
        "Verbessern des Modells: Z.B. mehr Epochen, mehr Dimensionen, längere Buchstaben-N-Gramme, ...\n",
        "\n",
        "Wichtigste Parameter:\n",
        "```\n",
        "   epoch N  # Beim Lernen wird das ganze Trainingsset N mal benutzt. Beeinflusst die Dauer des Trainings linear!\n",
        "   dim N    # Länge der gelernten Vektoren für Wörter und Buchstaben-N-Gramme\n",
        "   lr 0.N   # Initiale Lernrate: Bestimmt, wie stark die Vektoren verändert werden, wenn Fehler passieren. Während des Lernens wird die Lernrate immer kleiner.\n",
        "   mmin N   # Minimale Länge der Subwords, d.h. Buchstaben-N-Gramme\n",
        "   maxn N   # Maximale Länger der Subwords, d.h. Buchstaben-N-Gramme (falls N=0, werden keine Subwords benutzt, nur Wörter)\n",
        "```"
      ]
    },
    {
      "cell_type": "code",
      "source": [
        "model = fasttext.train_supervised(\n",
        "    input='zora-eng-dewey.lemmatized.fasttext.train.tsv', \n",
        "    pretrainedVectors=\"wiki.en.50.vec\", # vortrainierte word embeddings, können weggelassen werden\n",
        "    epoch=20,  # Wie oft werden die Trainingsdaten benutzt\n",
        "    minn=5,    # Minimal Subword-Länge in Buchstaben  \n",
        "    maxn=5,    # Maximale Subword-Länge in Buchstaben \n",
        "    dim=50,    # Dimensionalität der Vektoren für die Repräsentation der Wörter und Subwords (muss gleich wie pretrainedVectors sein)\n",
        "    lr=1,      # Learning Rate (Lernrate): Wie stark wird ein Fehler bestraft? \n",
        "    )\n",
        "print_results(*model.test(\"zora-eng-dewey.lemmatized.fasttext.test.tsv\"))"
      ],
      "metadata": {
        "id": "2n7rBpwhWynE"
      },
      "execution_count": null,
      "outputs": []
    },
    {
      "cell_type": "code",
      "source": [
        "per_label_evaluation(model,'zora-eng-dewey.lemmatized.fasttext.test.tsv',k=3, threshold=0.25)"
      ],
      "metadata": {
        "id": "S7pPbCAeexG-"
      },
      "execution_count": null,
      "outputs": []
    },
    {
      "cell_type": "markdown",
      "metadata": {
        "id": "KOyEz_nQDThq"
      },
      "source": [
        "# Anhang: Embeddings"
      ]
    },
    {
      "cell_type": "code",
      "source": [
        "! test -e wiki.en.50.bin || curl https://files.ifi.uzh.ch/cl/siclemat/lehre/fs23/bibliosuisse/data/wiki.en.50.bin -o wiki.en.50.bin"
      ],
      "metadata": {
        "id": "K6FK5AGU3Jp2"
      },
      "execution_count": null,
      "outputs": []
    },
    {
      "cell_type": "code",
      "source": [
        "full_model = fasttext.load_model('wiki.en.50.bin')"
      ],
      "metadata": {
        "id": "ahIDUGrq3VkR"
      },
      "execution_count": null,
      "outputs": []
    },
    {
      "cell_type": "code",
      "source": [
        "full_model.get_nearest_neighbors('disease')"
      ],
      "metadata": {
        "id": "gxR9wuRs3rqk"
      },
      "execution_count": null,
      "outputs": []
    },
    {
      "cell_type": "markdown",
      "source": [
        "A is to B, like ? is to C model.get_analogies(A,B,C)"
      ],
      "metadata": {
        "id": "zPtfEwxL7hD7"
      }
    },
    {
      "cell_type": "code",
      "source": [
        "full_model.get_analogies('man','woman','queen')"
      ],
      "metadata": {
        "id": "xJsjpxBy38ep"
      },
      "execution_count": null,
      "outputs": []
    },
    {
      "cell_type": "markdown",
      "source": [
        "How to store the 400000 most frequent words in a smaller text format that is usable for supervised training."
      ],
      "metadata": {
        "id": "3ShKWsug7s9l"
      }
    },
    {
      "cell_type": "code",
      "source": [
        "model=full_model\n",
        "# Store only the 100,000 most frequent words\n",
        "max_words = 400000\n",
        "words = model.words[:max_words]\n",
        "vectors = [model[word] for word in words]\n",
        "\n",
        "# Save the subset of words and vectors to a text file\n",
        "with open(\"model_subset.txt\", \"w\", encoding=\"utf-8\") as f:\n",
        "    # Write the header with the vocabulary size and vector dimensionality\n",
        "    f.write(f\"{max_words} {model.get_dimension()}\\n\")\n",
        "\n",
        "    # Write the vectors for each word\n",
        "    for word, vector in zip(words, vectors):\n",
        "        vector_str = \" \".join([f\"{x:.6f}\" for x in vector])\n",
        "        f.write(f\"{word} {vector_str}\\n\")\n"
      ],
      "metadata": {
        "id": "x0-2yl4Ssh2J"
      },
      "execution_count": null,
      "outputs": []
    }
  ],
  "metadata": {
    "celltoolbar": "Slideshow",
    "kernelspec": {
      "display_name": "Python 3",
      "language": "python",
      "name": "python3"
    },
    "language_info": {
      "codemirror_mode": {
        "name": "ipython",
        "version": 3
      },
      "file_extension": ".py",
      "mimetype": "text/x-python",
      "name": "python",
      "nbconvert_exporter": "python",
      "pygments_lexer": "ipython3",
      "version": "3.8.5"
    },
    "livereveal": {
      "center": true,
      "embedded": false,
      "enable_chalkboard": true,
      "scroll": true,
      "start_slideshow_at": "selected",
      "theme": "simple",
      "transition": "fade"
    },
    "colab": {
      "provenance": [],
      "include_colab_link": true
    }
  },
  "nbformat": 4,
  "nbformat_minor": 0
}