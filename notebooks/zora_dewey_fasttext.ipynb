{
  "cells": [
    {
      "cell_type": "markdown",
      "metadata": {
        "id": "view-in-github",
        "colab_type": "text"
      },
      "source": [
        "<a href=\"https://colab.research.google.com/github/simon-clematide/casdmit-fs21/blob/master/notebooks/zora_dewey_fasttext.ipynb\" target=\"_parent\"><img src=\"https://colab.research.google.com/assets/colab-badge.svg\" alt=\"Open In Colab\"/></a>"
      ]
    },
    {
      "cell_type": "markdown",
      "metadata": {
        "id": "2yA0jk-dDThY"
      },
      "source": [
        "# Sprachidentifikation mit fasttext\n",
        "Dieses Notebook demonstriert, wie einfach man ein gutes LID-Modell mit fastText trainieren kann.\n",
        "Wir arbeiten mit der fasttext Python-Bibliothek.\n",
        "Aus Effizienzgründen arbeiten wir hier mit einem kleineren Trainingsdatensatz."
      ]
    },
    {
      "cell_type": "markdown",
      "metadata": {
        "id": "Z10aNgGXDThd"
      },
      "source": [
        "# Installation\n",
        "## Nur notwendig, wenn nicht in colab/binder VM\n",
        "Conda-Umgebung mit FastText bereitstellen im Terminal und dann Jupyter Notebook nochmals starten.\n",
        "\n",
        "```bash\n",
        "conda activate base\n",
        "conda create --name lid --clone base\n",
        "conda activate lid\n",
        "conda install -c conda-forge fasttext \n",
        "# danach neues Terminal öffnen und conda aktivieren\n",
        "\n",
        "# fasttext Python Modul installieren\n",
        "# pip install fasttext # hat Bug bei test_label()\n",
        "pip install git+https://github.com/facebookresearch/fastText.git@b64e359d5485dda4b4b5074494155d18e25c8d13  # braucht mehr Zeit fürs Kompilieren\n",
        "\n",
        "# danach Jupyter neu starten\n",
        "jupyter notebook\n",
        "```"
      ]
    },
    {
      "cell_type": "markdown",
      "source": [
        "## In colab das Python fasttext Package installieren\n",
        "Aktuellere Version hat [Bug](https://stackoverflow.com/questions/61787119/fasttext-0-9-2-why-is-recall-nan) in der Evaluationsfunktion korrigiert ("
      ],
      "metadata": {
        "id": "cawmGkN5EGOD"
      }
    },
    {
      "cell_type": "code",
      "execution_count": null,
      "metadata": {
        "id": "t-FhvBZODThd"
      },
      "outputs": [],
      "source": [
        "# ! pip install fasttext # schnell zu installieren, aber hat Bug bei test_label()\n",
        "! pip install git+https://github.com/facebookresearch/fastText.git@b64e359d5485dda4b4b5074494155d18e25c8d13  # braucht mehr Zeit fürs Kompilieren"
      ]
    },
    {
      "cell_type": "markdown",
      "metadata": {
        "id": "5ayoKk0DDThf"
      },
      "source": [
        "# Datenset"
      ]
    },
    {
      "cell_type": "code",
      "execution_count": null,
      "metadata": {
        "id": "izaArcRJDThf"
      },
      "outputs": [],
      "source": [
        "! curl https://files.ifi.uzh.ch/cl/siclemat/lehre/fs21/casdmit/impresso-lid/impresso-lid.tsv -o impresso-lid.tsv"
      ]
    },
    {
      "cell_type": "markdown",
      "metadata": {
        "id": "UmQL4uuiDThh"
      },
      "source": [
        "### Format des Datensets \n",
        " - Pro tabulator-separierte Zeile gibt es 2 Spalten\n",
        " - Spalte 1: Sprachlabel\n",
        " - Spalte 2: Textstücke (ca. 400 Buchstaben) "
      ]
    },
    {
      "cell_type": "code",
      "execution_count": null,
      "metadata": {
        "id": "oBRIuu9LDThh"
      },
      "outputs": [],
      "source": [
        "! head -n 10 impresso-lid.tsv"
      ]
    },
    {
      "cell_type": "markdown",
      "source": [
        "### Statistiken zum Datenset"
      ],
      "metadata": {
        "id": "z6MnzVp7E_sB"
      }
    },
    {
      "cell_type": "code",
      "execution_count": null,
      "metadata": {
        "id": "lL2yiOGADThi"
      },
      "outputs": [],
      "source": [
        "! wc impresso-lid.tsv"
      ]
    },
    {
      "cell_type": "code",
      "execution_count": null,
      "metadata": {
        "id": "K6eXxVbBDThj"
      },
      "outputs": [],
      "source": [
        "!  cut -f 1 < impresso-lid.tsv | sort | uniq -c | sort -rn "
      ]
    },
    {
      "cell_type": "markdown",
      "metadata": {
        "id": "ZOH-9FLFDThk"
      },
      "source": [
        "## Aufteilen der Daten in Trainings- und Testdaten\n",
        "Erstellen von Training und Testdaten (Originaldaten sind zufällig geordnet)"
      ]
    },
    {
      "cell_type": "code",
      "execution_count": null,
      "metadata": {
        "id": "Kq5ZOladDThk"
      },
      "outputs": [],
      "source": [
        "! head -n 900 < impresso-lid.tsv > impresso-lid-train.tsv\n",
        "! tail -n 100 < impresso-lid.tsv > impresso-lid-test.tsv"
      ]
    },
    {
      "cell_type": "code",
      "source": [
        "! echo TRAINING DATA STATISTICS\n",
        "! cut -f 1 < impresso-lid-train.tsv | sort | uniq -c | sort -rn \n",
        "! echo TEST DATA STATISTICS\n",
        "! cut -f 1 < impresso-lid-test.tsv | sort | uniq -c | sort -rn "
      ],
      "metadata": {
        "id": "cM69z1KmHaEW"
      },
      "execution_count": null,
      "outputs": []
    },
    {
      "cell_type": "markdown",
      "metadata": {
        "id": "e4_msKJSDTho"
      },
      "source": [
        "# Trainieren von Modell mit Python-Package\n",
        " - Dokumentation siehe https://fasttext.cc/docs/en/python-module.html"
      ]
    },
    {
      "cell_type": "code",
      "execution_count": null,
      "metadata": {
        "id": "40vFiCAQDTho"
      },
      "outputs": [],
      "source": [
        "import fasttext"
      ]
    },
    {
      "cell_type": "code",
      "execution_count": null,
      "metadata": {
        "id": "XKtx28_CDTho"
      },
      "outputs": [],
      "source": [
        "model = fasttext.train_supervised(\n",
        "    input='impresso-lid-train.tsv', \n",
        "    epoch=10,  # Wie oft werden die Trainingsdaten benutzt\n",
        "    minn=2,    # Minimal Subword-Länge in Buchstaben  \n",
        "    maxn=2,    # Maximale Subword-Länge in Buchstaben \n",
        "    dim=5,     # Dimensionalität der Vektoren für die Repräsentation der Wörter und Subwords\n",
        "    lr=0.1     # Learning Rate (Lernrate): Wie stark wird ein Fehler bestraft? \n",
        "    )"
      ]
    },
    {
      "cell_type": "markdown",
      "source": [
        "## Inspizieren des gelernten Modells"
      ],
      "metadata": {
        "id": "IQuLDqMdPEsy"
      }
    },
    {
      "cell_type": "markdown",
      "source": [
        "Welche Labels/Klassen kennt das Modell?"
      ],
      "metadata": {
        "id": "j2YSVXdZP9yO"
      }
    },
    {
      "cell_type": "code",
      "execution_count": null,
      "metadata": {
        "id": "Aq7TtoJTDThp"
      },
      "outputs": [],
      "source": [
        "print(model.labels)"
      ]
    },
    {
      "cell_type": "markdown",
      "source": [
        "Einen String klassifizieren und die Wahrscheinlichkeitsverteilung über allen möglichen Sprachen erhalten:"
      ],
      "metadata": {
        "id": "gUHd0gFMQGzs"
      }
    },
    {
      "cell_type": "code",
      "execution_count": null,
      "metadata": {
        "id": "leavip9EDThp"
      },
      "outputs": [],
      "source": [
        "model.predict(\"Welche Sprache ist das? Luxemburgisch?\",  \n",
        "              k=5  # Gib die 5 besten Klassen aus\n",
        "              )\n"
      ]
    },
    {
      "cell_type": "markdown",
      "source": [
        "Den gelernten Vektor eines Worts anzeigen."
      ],
      "metadata": {
        "id": "iskbiqoWQXqA"
      }
    },
    {
      "cell_type": "code",
      "source": [
        "word_id = model.get_word_id(\"Sprache\")\n",
        "print(word_id)\n",
        "model.get_input_vector(word_id)"
      ],
      "metadata": {
        "id": "tr8lu1bSQe73"
      },
      "execution_count": null,
      "outputs": []
    },
    {
      "cell_type": "markdown",
      "source": [
        "Ids von Wort und allen seinen Buchstaben-N-Grammen erhalten."
      ],
      "metadata": {
        "id": "HiXQj3ERRRCD"
      }
    },
    {
      "cell_type": "code",
      "execution_count": null,
      "metadata": {
        "id": "sRFfhASSDThp"
      },
      "outputs": [],
      "source": [
        "model.get_subwords('Sprache')"
      ]
    },
    {
      "cell_type": "markdown",
      "source": [
        "Was passiert hier?"
      ],
      "metadata": {
        "id": "iUo3WjQpRnB-"
      }
    },
    {
      "cell_type": "code",
      "source": [
        "model.get_subwords('???')"
      ],
      "metadata": {
        "id": "Flw15fimRfBk"
      },
      "execution_count": null,
      "outputs": []
    },
    {
      "cell_type": "markdown",
      "source": [
        "Systematisches Testen des Minimodells auf Testdaten"
      ],
      "metadata": {
        "id": "C5TbsDPQNEdx"
      }
    },
    {
      "cell_type": "code",
      "execution_count": null,
      "metadata": {
        "id": "dM860ZY7DThp"
      },
      "outputs": [],
      "source": [
        "model.test(\"impresso-lid-test.tsv\")"
      ]
    },
    {
      "cell_type": "code",
      "execution_count": null,
      "metadata": {
        "id": "vTs98FNoDThq"
      },
      "outputs": [],
      "source": [
        "def print_results(N, p, r):\n",
        "    \"Pretty print performance: N=Number of Samples, P/R@1=Precision/Recall of best prediction Acc=Accuracy \"\n",
        "    print(f\"N\\t{N}\")\n",
        "    print(f\"P@1\\t{p:.2f}\")\n",
        "    print(f\"R@1\\t{r:.2f}\")\n",
        "    print(f\"Acc\\t{r:.2f}\")"
      ]
    },
    {
      "cell_type": "code",
      "execution_count": null,
      "metadata": {
        "id": "8qqQXM9zDThq"
      },
      "outputs": [],
      "source": [
        "print_results(*model.test(\"impresso-lid-test.tsv\"))"
      ]
    },
    {
      "cell_type": "markdown",
      "source": [
        "Detaillierte Evaluation zu jedem einzelnen Label:\n",
        " - Precision: Anteil korrekter Klassifikationen einer Klasse\n",
        " - Recall: Anteil korrekt klassifizierter Elemente einer Klasse\n",
        " - f1score: Harmonisches Mittel von Precision und Recall"
      ],
      "metadata": {
        "id": "5bAUu9DuVEXv"
      }
    },
    {
      "cell_type": "code",
      "source": [
        "model.test_label('impresso-lid-test.tsv',k=1)"
      ],
      "metadata": {
        "id": "aVaCjOcbSWVJ"
      },
      "execution_count": null,
      "outputs": []
    },
    {
      "cell_type": "markdown",
      "metadata": {
        "id": "bZcTfumNDThn"
      },
      "source": [
        "## Vorhersagen und Wahrheit anzeigen"
      ]
    },
    {
      "cell_type": "code",
      "execution_count": null,
      "metadata": {
        "id": "470gKPX_DTho"
      },
      "outputs": [],
      "source": [
        "test_data = []\n",
        "with open(\"impresso-lid-test.tsv\", mode=\"r\",encoding=\"utf-8\") as testfile:\n",
        "    for line in testfile:\n",
        "        test_data.append(line.strip().split(\"\\t\"))\n",
        "test_data[:3]\n"
      ]
    },
    {
      "cell_type": "code",
      "source": [
        "from collections import Counter\n",
        "confusion_matrix = Counter()\n",
        "# If given a list of strings, it will return a list of results as usually received for a single line of text.\n",
        "predictions,probs = model.predict([text for _,text in test_data])\n",
        "print('Predictions',predictions)\n",
        "print('Probabilities',probs)\n",
        "for i,preds in enumerate(predictions):\n",
        "    confusion_matrix[(test_data[i][0],preds[0])] += 1\n",
        "\n",
        "for p in confusion_matrix.most_common():\n",
        "    print(p)"
      ],
      "metadata": {
        "id": "RIx-qm5-bUV0"
      },
      "execution_count": null,
      "outputs": []
    },
    {
      "cell_type": "markdown",
      "metadata": {
        "id": "4_HB89vqDThm"
      },
      "source": [
        "# Verbessern des Modells\n",
        "Verbessern des Modells: Z.B. mehr Epochen, mehr Dimensionen, längere Buchstaben-N-Gramme, ...\n",
        "\n",
        "Wichtigste Parameter:\n",
        "```\n",
        "   epoch N  # Beim Lernen wird das ganze Trainingsset N mal benutzt. Beeinflusst die Dauer des Trainings linear!\n",
        "   dim N    # Länge der gelernten Vektoren für Wörter und Buchstaben-N-Gramme\n",
        "   lr 0.N   # Initiale Lernrate: Bestimmt, wie stark die Vektoren verändert werden, wenn Fehler passieren. Während des Lernens wird die Lernrate immer kleiner.\n",
        "   mmin N   # Minimale Länge der Subwords, d.h. Buchstaben-N-Gramme\n",
        "   maxn N   # Maximale Länger der Subwords, d.h. Buchstaben-N-Gramme (falls N=0, werden keine Subwords benutzt, nur Wörter)\n",
        "```"
      ]
    },
    {
      "cell_type": "code",
      "source": [
        "model = fasttext.train_supervised(\n",
        "    input='impresso-lid-train.tsv', \n",
        "    epoch=10,  # Wie oft werden die Trainingsdaten benutzt\n",
        "    minn=2,    # Minimale Subword-Länge in Buchstaben  \n",
        "    maxn=2,    # Maximale Subword-Länge in Buchstaben \n",
        "    dim=5,     # Dimensionalität der Vektoren für die Repräsentation der Wörter und Subwords\n",
        "    lr=0.1     # Learning Rate (Lernrate): Wie stark wird ein Fehler bestraft? \n",
        "    )\n",
        "print_results(*model.test(\"impresso-lid-test.tsv\"))\n",
        "model.test_label('impresso-lid-test.tsv',k=1)"
      ],
      "metadata": {
        "id": "2n7rBpwhWynE"
      },
      "execution_count": null,
      "outputs": []
    },
    {
      "cell_type": "markdown",
      "metadata": {
        "id": "KOyEz_nQDThq"
      },
      "source": [
        "# LID Shared-Task\n",
        "Arbeitet in Zweiergruppen und versucht, ein besseres Modell zu trainieren. Tragt die beste Konfiguration im Spreadsheet https://cutt.ly/casdmit-fs21-lid ein.\n",
        "\n",
        " - Reflexion: Welche Hyperparameter scheinen keinen wesentlichen Einfluss zu haben? Welche den grössten Einfluss?"
      ]
    }
  ],
  "metadata": {
    "celltoolbar": "Slideshow",
    "kernelspec": {
      "display_name": "Python 3",
      "language": "python",
      "name": "python3"
    },
    "language_info": {
      "codemirror_mode": {
        "name": "ipython",
        "version": 3
      },
      "file_extension": ".py",
      "mimetype": "text/x-python",
      "name": "python",
      "nbconvert_exporter": "python",
      "pygments_lexer": "ipython3",
      "version": "3.8.5"
    },
    "livereveal": {
      "center": true,
      "embedded": false,
      "enable_chalkboard": true,
      "scroll": true,
      "start_slideshow_at": "selected",
      "theme": "simple",
      "transition": "fade"
    },
    "colab": {
      "name": "impresso-lid.ipynb",
      "provenance": [],
      "include_colab_link": true
    }
  },
  "nbformat": 4,
  "nbformat_minor": 0
}