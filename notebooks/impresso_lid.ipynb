{
  "cells": [
    {
      "cell_type": "markdown",
      "metadata": {
        "id": "view-in-github",
        "colab_type": "text"
      },
      "source": [
        "<a href=\"https://colab.research.google.com/github/simon-clematide/casdmit-fs21/blob/master/notebooks/impresso_lid.ipynb\" target=\"_parent\"><img src=\"https://colab.research.google.com/assets/colab-badge.svg\" alt=\"Open In Colab\"/></a>"
      ]
    },
    {
      "cell_type": "markdown",
      "metadata": {
        "id": "2yA0jk-dDThY"
      },
      "source": [
        "# Sprachidentifikation mit fasttext\n",
        "Dieses Notebook demonstriert, wie einfach man ein gutes LID-Modell mit fastText trainieren kann.\n",
        "Wir arbeiten mit der fasttext Python-Bibliothek.\n",
        "Aus Effizienzgründen arbeiten wir hier mit einem kleineren Trainingsdatensatz."
      ]
    },
    {
      "cell_type": "markdown",
      "metadata": {
        "id": "Z10aNgGXDThd"
      },
      "source": [
        "# Installation\n",
        "## Nur notwendig, wenn nicht in colab/binder VM\n",
        "Conda-Umgebung mit FastText bereitstellen im Terminal und dann Jupyter Notebook nochmals starten.\n",
        "\n",
        "```bash\n",
        "conda activate base\n",
        "conda create --name lid --clone base\n",
        "conda activate lid\n",
        "conda install -c conda-forge fasttext\n",
        "# danach neues Terminal öffnen und conda aktivieren\n",
        "\n",
        "# fasttext Python Modul installieren\n",
        "# pip install fasttext # hat Bug bei test_label()\n",
        "pip install git+https://github.com/facebookresearch/fastText.git@b64e359d5485dda4b4b5074494155d18e25c8d13  # braucht mehr Zeit fürs Kompilieren\n",
        "\n",
        "# danach Jupyter neu starten\n",
        "jupyter notebook\n",
        "```"
      ]
    },
    {
      "cell_type": "markdown",
      "source": [
        "# In colab das Python fasttext Package installieren\n",
        "Aktuellere Version hat [Bug](https://stackoverflow.com/questions/61787119/fasttext-0-9-2-why-is-recall-nan) in der fasttext Evaluationsfunktion korrigiert. Wir verwenden aber unsere eigene Evaluation"
      ],
      "metadata": {
        "id": "cawmGkN5EGOD"
      }
    },
    {
      "cell_type": "code",
      "execution_count": 48,
      "metadata": {
        "id": "t-FhvBZODThd",
        "colab": {
          "base_uri": "https://localhost:8080/"
        },
        "outputId": "fc57d47c-ec3f-4745-e683-4d4d2e5d8bbe"
      },
      "outputs": [
        {
          "output_type": "stream",
          "name": "stdout",
          "text": [
            "Requirement already satisfied: fasttext in /usr/local/lib/python3.10/dist-packages (0.9.2)\n",
            "Requirement already satisfied: pybind11>=2.2 in /usr/local/lib/python3.10/dist-packages (from fasttext) (2.11.1)\n",
            "Requirement already satisfied: setuptools>=0.7.0 in /usr/local/lib/python3.10/dist-packages (from fasttext) (67.7.2)\n",
            "Requirement already satisfied: numpy in /usr/local/lib/python3.10/dist-packages (from fasttext) (1.25.2)\n"
          ]
        }
      ],
      "source": [
        "! pip install fasttext # schnell zu installieren, aber hat Bug bei test_label()\n",
        "#! pip install git+https://github.com/facebookresearch/fastText.git@b64e359d5485dda4b4b5074494155d18e25c8d13  # braucht mehr Zeit fürs Kompilieren"
      ]
    },
    {
      "cell_type": "markdown",
      "metadata": {
        "id": "5ayoKk0DDThf"
      },
      "source": [
        "# Datenset"
      ]
    },
    {
      "cell_type": "code",
      "execution_count": 49,
      "metadata": {
        "id": "izaArcRJDThf",
        "colab": {
          "base_uri": "https://localhost:8080/"
        },
        "outputId": "e4380af4-6479-4fd8-e2ed-89db01c01c4f"
      },
      "outputs": [
        {
          "output_type": "stream",
          "name": "stdout",
          "text": [
            "  % Total    % Received % Xferd  Average Speed   Time    Time     Time  Current\n",
            "                                 Dload  Upload   Total   Spent    Left  Speed\n",
            "100  382k  100  382k    0     0   327k      0  0:00:01  0:00:01 --:--:--  327k\n"
          ]
        }
      ],
      "source": [
        "! curl https://files.ifi.uzh.ch/cl/siclemat/lehre/fs21/casdmit/impresso-lid/impresso-lid.tsv -o impresso-lid.tsv"
      ]
    },
    {
      "cell_type": "markdown",
      "metadata": {
        "id": "UmQL4uuiDThh"
      },
      "source": [
        "### Format des Datensets\n",
        " - Pro tabulator-separierte Zeile gibt es 2 Spalten\n",
        " - Spalte 1: Sprachlabel\n",
        " - Spalte 2: Textstücke (ca. 400 Buchstaben)"
      ]
    },
    {
      "cell_type": "code",
      "execution_count": 50,
      "metadata": {
        "id": "oBRIuu9LDThh",
        "colab": {
          "base_uri": "https://localhost:8080/"
        },
        "outputId": "ba93a792-9ef6-4093-f383-c5336bde4dfa"
      },
      "outputs": [
        {
          "output_type": "stream",
          "name": "stdout",
          "text": [
            "__label__fr\tPhoenix Bergban ... . . —it Siemens Halske . . . V» Ve Internat. Bank Ltuemb. — _ _ Deutsche Bank.. . . . . . °, Dresdncr Bank . . . . .— y« Discontc-Gesellschaft: . .— . so/* Berliner Handelsges. . . . \\“la Rdchsbank. .- .\n",
            "__label__lb\tDen englesche plang fir Palestina Den englesche plang fir Palestina get den arabeschen delegatio'nen an der jüddescher agence virgeluegt. No gewessen informatio'nen soll dese plang follgend ponkten emfâssen: . Schafong vun cantonen. e jüddeschen an en arabeschen. . Dreiparteien-centralregirong zu Jerusalem. . Drei dietricter zu Jerusalem, e jüddeschen, en arabeschen an e klengeren fir 'Araber müss\n",
            "__label__de\toie »or regeln formte ; nur müßte unfer SKilttärtocfen »oüfiänbiger unb foftjpteliger toerben unb mügten »ir benÄönig »on al« oberften Ärieg«berrn aners ïenr.en. Bir geben ju, bag ba« Sanb bei ginfüb= rung ber beutfdjen $anbel«gefeggebung, be« beutfdjen tyofc unb ïelegrapbenœefen« «. f. »., toie lrt. be« SJÎeformprojefte« fagt, getttnnen formte; toir feljen aud) bengali, toa« toir aber\n",
            "__label__de\tFRIEDENSPROBLEME. DE JOUVENEL ÜBER DIE ERSTARKUNG DEUTSCHLANDS. IN DER „NEUEN ZÜRICHER ZEITUNG\" BEFASST SICH DER BEKANNTE FRANZÖSISCHE POLITIKER HENRY DE I> UDTNEL MIT DEM ERGEBNIS DER © ENERAL& POLITIF, DIE DURCH AL »LERLEI KONTROLLEN UND VORSCHRIFTENDOUI>' CHLAN!>< »WIEDERAUFSTIEG ZU VERHINDERN GESUCHT, AÜER GENAU BAS GEGENTEIL ERREICHT HABE. ES HEISST DA V. A.: „DIE TRIUMPHE, DIE M DEN LETZ EN WI\n",
            "__label__fr\tVoit-on, à présent, la puissance de la graphologie, et en quoi elle est redoutable. J’entends bien que l’on me dit: pourquoi n’apprenez-vous pas cette soience? „Oh! je l’aurais voulu, et j’ai essayé. Mais on naît graphologue; on ne le devient pas, hélas! Il faut le don. C’est comme pour la poésie. Sans doute, de même que de simples versificateurs se disent poètes, de même aussi de vulgaires expert\n",
            "__label__de\tLUXEMBURG— BELGIEN. AUS LUXEMBURG WIRB DER „FRANKS, ZCITG.\" GESCHRIEBEN: „' ÜA'Ü ZWILCHEN BELGIEN UNO LCUZEMBUIG SCHWIEILGLEITCN BESTEHEN, DIE SICH AUF DIE VERZINSUNG DER ANLEIHE VON MILLIONEN BEZIEHEN, DIE BELGIEN LUXEMBURG I. . GEWÄHRTE, DÜRFTE BEKANNT SEIN, '. DANEBEN GIB! ES JEDOCH NOCY ANDERE SINANZIELLE FRAGEN, ÜBER WELCHE VEIYANDCLT WIRD. SO VOR ALLEMÜBER DIE PROZENTIGE STEM MBURAISCHEN BÖR\n",
            "__label__fr\tLa société chorale Sainte Cécile „La Hammoise\" à Bruxelles. Les talentueux chanteurs de la société chorale de Hamm lez Luxembourg, ayant été invité à venir se faire entendre à Bruxelles, arrivaient dans la capitale belge mercredi à h. . A l'initiative de Monsieur Léon Metz, président du Comité officiel de réception grand-ducale à Bruxelles, les diverses sociétés luxembourgeoises de Bruxe et bonne \n",
            "__label__de\tMit dem kleinsten Teleskop oder Opernglas unterscheitet man sie als eine langlichte dunkle Stelle, unfern vom Centrum. Die gan;e Länge mißt in runder Zahl über , englische Meilen der Sonnenobcrflachc, die Breite wechselt zwischen , und , Meilen. Es lassen sich un. gcfahr einzelne Flecken zählen, deren Halbschatten sp«nuin!»i-ao) mit ungleichen Rändern in einander fließen.\n",
            "__label__de\tanderten zwar nicht sogleich, denn der Weg ist zu weit; aber ter Pilger in über* zeugt, daß seine Binder in Amenk», hätten fie ta< von Kunde, innige Theilnohme an dieser weltbewe> gcnden Wallfahrt nehmen » ürdcn , und et läßt sie durch den Himmel auf übernaturfidje Weise Ahnung davon erhallen: daher dem, tiefe« Wahrnehmend« Festzöge und ihre« Gepränges an dem girmamente. (Loilsetzung folg!.)\n",
            "__label__de\te Mittheilungen aus dem Bericht der internationalen Sanitätscon» ferenz. Das in demselben Enthaltene bildet die wissenschaftliche, »ir möchten sagen dogmatische Grundlage für den zweiten praktischen Theil der Aufgabe der Conferenz, für die Aufstellung eines praktischen Regulativs zur Abhaltung der asiatischen Cholera von Europa. Möge sie ihre Aufgabe zu aller Heil mit Glück lösen! (A. A. .)\n"
          ]
        }
      ],
      "source": [
        "! head -n 10 impresso-lid.tsv"
      ]
    },
    {
      "cell_type": "markdown",
      "source": [
        "### Statistiken zum Datenset"
      ],
      "metadata": {
        "id": "z6MnzVp7E_sB"
      }
    },
    {
      "cell_type": "code",
      "execution_count": 51,
      "metadata": {
        "id": "lL2yiOGADThi",
        "colab": {
          "base_uri": "https://localhost:8080/"
        },
        "outputId": "b16e56b4-4c72-4b0b-c5d3-a33ad9680bc1"
      },
      "outputs": [
        {
          "output_type": "stream",
          "name": "stdout",
          "text": [
            "  1000  60519 391400 impresso-lid.tsv\n"
          ]
        }
      ],
      "source": [
        "! wc impresso-lid.tsv"
      ]
    },
    {
      "cell_type": "code",
      "execution_count": 52,
      "metadata": {
        "id": "K6eXxVbBDThj",
        "colab": {
          "base_uri": "https://localhost:8080/"
        },
        "outputId": "cf1ca6f9-3601-49aa-8eb7-f808a4c8db54"
      },
      "outputs": [
        {
          "output_type": "stream",
          "name": "stdout",
          "text": [
            "    577 __label__de\n",
            "    306 __label__fr\n",
            "     57 __label__lb\n",
            "     33 __label__en\n",
            "     27 __label__it\n"
          ]
        }
      ],
      "source": [
        "!  cut -f 1 < impresso-lid.tsv | sort | uniq -c | sort -rn"
      ]
    },
    {
      "cell_type": "markdown",
      "metadata": {
        "id": "ZOH-9FLFDThk"
      },
      "source": [
        "## Aufteilen der Daten in Trainings- und Testdaten\n",
        "Erstellen von Training und Testdaten (Originaldaten sind zufällig geordnet)"
      ]
    },
    {
      "cell_type": "code",
      "execution_count": 53,
      "metadata": {
        "id": "Kq5ZOladDThk"
      },
      "outputs": [],
      "source": [
        "! head -n 900 < impresso-lid.tsv > impresso-lid-train.tsv\n",
        "! tail -n 100 < impresso-lid.tsv > impresso-lid-test.tsv"
      ]
    },
    {
      "cell_type": "code",
      "source": [
        "! echo TRAINING DATA STATISTICS\n",
        "! cut -f 1 < impresso-lid-train.tsv | sort | uniq -c | sort -rn\n",
        "! echo TEST DATA STATISTICS\n",
        "! cut -f 1 < impresso-lid-test.tsv | sort | uniq -c | sort -rn"
      ],
      "metadata": {
        "id": "cM69z1KmHaEW",
        "colab": {
          "base_uri": "https://localhost:8080/"
        },
        "outputId": "1255511d-b879-456f-c161-ea0a9516fac9"
      },
      "execution_count": 54,
      "outputs": [
        {
          "output_type": "stream",
          "name": "stdout",
          "text": [
            "TRAINING DATA STATISTICS\n",
            "    518 __label__de\n",
            "    278 __label__fr\n",
            "     51 __label__lb\n",
            "     31 __label__en\n",
            "     22 __label__it\n",
            "TEST DATA STATISTICS\n",
            "     59 __label__de\n",
            "     28 __label__fr\n",
            "      6 __label__lb\n",
            "      5 __label__it\n",
            "      2 __label__en\n"
          ]
        }
      ]
    },
    {
      "cell_type": "markdown",
      "metadata": {
        "id": "e4_msKJSDTho"
      },
      "source": [
        "# Trainieren von Modell mit Python-Package\n",
        " - Dokumentation siehe https://fasttext.cc/docs/en/python-module.html"
      ]
    },
    {
      "cell_type": "code",
      "execution_count": 55,
      "metadata": {
        "id": "40vFiCAQDTho"
      },
      "outputs": [],
      "source": [
        "import fasttext"
      ]
    },
    {
      "cell_type": "code",
      "execution_count": 56,
      "metadata": {
        "id": "XKtx28_CDTho"
      },
      "outputs": [],
      "source": [
        "model = fasttext.train_supervised(\n",
        "    input='impresso-lid-train.tsv',\n",
        "    epoch=10,  # Wie oft werden die Trainingsdaten benutzt\n",
        "    minn=2,    # Minimal Subword-Länge in Buchstaben\n",
        "    maxn=2,    # Maximale Subword-Länge in Buchstaben\n",
        "    dim=5,     # Dimensionalität der Vektoren für die Repräsentation der Wörter und Subwords\n",
        "    lr=0.1     # Learning Rate (Lernrate): Wie stark wird ein Fehler bestraft?\n",
        "    )"
      ]
    },
    {
      "cell_type": "markdown",
      "source": [
        "## Inspizieren des gelernten Modells"
      ],
      "metadata": {
        "id": "IQuLDqMdPEsy"
      }
    },
    {
      "cell_type": "markdown",
      "source": [
        "Welche Labels/Klassen kennt das Modell?"
      ],
      "metadata": {
        "id": "j2YSVXdZP9yO"
      }
    },
    {
      "cell_type": "code",
      "execution_count": 57,
      "metadata": {
        "id": "Aq7TtoJTDThp",
        "colab": {
          "base_uri": "https://localhost:8080/"
        },
        "outputId": "87c04aa1-5a64-4f3b-c598-3a7892f925a9"
      },
      "outputs": [
        {
          "output_type": "stream",
          "name": "stdout",
          "text": [
            "['__label__de', '__label__fr', '__label__lb', '__label__en', '__label__it']\n"
          ]
        }
      ],
      "source": [
        "print(model.labels)"
      ]
    },
    {
      "cell_type": "markdown",
      "source": [
        "Einen String klassifizieren und die Wahrscheinlichkeitsverteilung über allen möglichen Sprachen erhalten:"
      ],
      "metadata": {
        "id": "gUHd0gFMQGzs"
      }
    },
    {
      "cell_type": "code",
      "execution_count": 58,
      "metadata": {
        "id": "leavip9EDThp",
        "colab": {
          "base_uri": "https://localhost:8080/"
        },
        "outputId": "507839bf-3bc3-4208-f097-1ad8cf68d4eb"
      },
      "outputs": [
        {
          "output_type": "execute_result",
          "data": {
            "text/plain": [
              "(('__label__de', '__label__fr', '__label__lb', '__label__en', '__label__it'),\n",
              " array([0.63970125, 0.23558697, 0.0601043 , 0.03515252, 0.02950506]))"
            ]
          },
          "metadata": {},
          "execution_count": 58
        }
      ],
      "source": [
        "model.predict(\"Welche Sprache ist das? Luxemburgisch?\",\n",
        "              k=5  # Gib die 5 besten Klassen aus\n",
        "              )\n"
      ]
    },
    {
      "cell_type": "markdown",
      "source": [
        "Den gelernten Vektor eines Worts anzeigen."
      ],
      "metadata": {
        "id": "iskbiqoWQXqA"
      }
    },
    {
      "cell_type": "code",
      "source": [
        "word_id = model.get_word_id(\"Sprache\")\n",
        "print(word_id)\n",
        "model.get_input_vector(word_id)"
      ],
      "metadata": {
        "id": "tr8lu1bSQe73",
        "colab": {
          "base_uri": "https://localhost:8080/"
        },
        "outputId": "33f26e25-441f-4eb7-b35b-c63fc66e6b0a"
      },
      "execution_count": 59,
      "outputs": [
        {
          "output_type": "stream",
          "name": "stdout",
          "text": [
            "16199\n"
          ]
        },
        {
          "output_type": "execute_result",
          "data": {
            "text/plain": [
              "array([ 0.1948833 ,  0.13617264,  0.13072939,  0.14742012, -0.18970487],\n",
              "      dtype=float32)"
            ]
          },
          "metadata": {},
          "execution_count": 59
        }
      ]
    },
    {
      "cell_type": "markdown",
      "source": [
        "Ids von Wort und allen seinen Buchstaben-N-Grammen erhalten."
      ],
      "metadata": {
        "id": "HiXQj3ERRRCD"
      }
    },
    {
      "cell_type": "code",
      "execution_count": 60,
      "metadata": {
        "id": "sRFfhASSDThp",
        "colab": {
          "base_uri": "https://localhost:8080/"
        },
        "outputId": "d402e405-4cf1-4239-d8b0-6caf07e60642"
      },
      "outputs": [
        {
          "output_type": "execute_result",
          "data": {
            "text/plain": [
              "(['Sprache', '<S', 'Sp', 'pr', 'ra', 'ac', 'ch', 'he', 'e>'],\n",
              " array([  16199, 1920969, 1366119, 1001592, 1066093, 1075118,  588831,\n",
              "        1388807,  484043]))"
            ]
          },
          "metadata": {},
          "execution_count": 60
        }
      ],
      "source": [
        "model.get_subwords('Sprache')"
      ]
    },
    {
      "cell_type": "markdown",
      "source": [
        "Was passiert hier?"
      ],
      "metadata": {
        "id": "iUo3WjQpRnB-"
      }
    },
    {
      "cell_type": "code",
      "source": [
        "model.get_subwords('???')"
      ],
      "metadata": {
        "id": "Flw15fimRfBk",
        "colab": {
          "base_uri": "https://localhost:8080/"
        },
        "outputId": "5e76cd15-99e6-4a2f-a003-7b7e1132ad68"
      },
      "execution_count": 61,
      "outputs": [
        {
          "output_type": "execute_result",
          "data": {
            "text/plain": [
              "(['<?', '??', '??', '?>'], array([1694301,  409332,  409332, 1631713]))"
            ]
          },
          "metadata": {},
          "execution_count": 61
        }
      ]
    },
    {
      "cell_type": "markdown",
      "source": [
        "Systematisches Testen des Minimodells auf Testdaten"
      ],
      "metadata": {
        "id": "C5TbsDPQNEdx"
      }
    },
    {
      "cell_type": "markdown",
      "metadata": {
        "id": "bZcTfumNDThn"
      },
      "source": [
        "## Vorhersagen und Wahrheit anzeigen"
      ]
    },
    {
      "cell_type": "code",
      "execution_count": 66,
      "metadata": {
        "id": "470gKPX_DTho",
        "colab": {
          "base_uri": "https://localhost:8080/"
        },
        "outputId": "e829eb5b-98d0-4647-b054-70f9190e35ec"
      },
      "outputs": [
        {
          "output_type": "execute_result",
          "data": {
            "text/plain": [
              "[['__label__fr',\n",
              "  'dans cette pensée. Qu\\'est-ce qu\\'une égalité apparente et toute fondé sur ce qui nous échappe chaque jour, à côté de la noblesse permanente et accessible à tous les enfants de Dieu? Comme on l\\'a dit de la Suisse, notre être ne peut grandir que du côté du ciel. Soyons des valeurs: notre foi nous y invite, car notre Maître a dit: „Soyez parfaits ...\" et nous n\\'aurons rien à envier aux autres. G.'],\n",
              " ['__label__fr',\n",
              "  'LIGNE DU NORD. MAT. MAT. LOIR. LOIR. LOIR. M. MAT. MAT. MAT. LOIR. LM.IA.DP. IS IS T IUJ OOLOYN. DTP. J DOMMALDANGA T IS ST S» AIA-LA-OHAP. J J WFTLF.RD.AGE. IS AN-ARA J LORANTAMALLAT — JHRNAELLM.... LLNTGEN IS S< — LTFJE SNIGK S IJ ORAOITOM .. I . — IS • ! PFTRLO.TER. D. SPA — OOLETAR-BERG. POPLNITAR.AR. — ORNOBTOO . . . . S — RARRIAN .. MANOK LITRE LINTSFON BRMXOLLAA ... I.ORONTSWEUOR — ...... W'],\n",
              " ['__label__fr',\n",
              "  \"IBLES AUX MOISSONS ET NUISIBLES AUX PRAIRIES. POUR ÊTRE COMPLET, FÉLICITONS LE CHER FRÈRE ABEL DE SA SUPERBE EXPOSITION DE PLANTES D'ORNEMENT : FICUS, PALMIERS, ORANGERS, ORAUCARIAS, DRACŒNAS, ETC... VOILÀ DE BEAUX ET PRATIQUES RÉSULTATS AJOUTÉS PAR L'ÉCOLE D'AGRICULTURE, À CEUX DU PENSIONNAT, QUI COMPTE, CETTE ANNÉE, VINGT-SIX BACHELIERS ET PLUSIEURS ÉLÈVES ADMIS DANS D'AUTRES EXAMENS.\"]]"
            ]
          },
          "metadata": {},
          "execution_count": 66
        }
      ],
      "source": [
        "test_data = []\n",
        "with open(\"impresso-lid-test.tsv\", mode=\"r\",encoding=\"utf-8\") as testfile:\n",
        "    for line in testfile:\n",
        "        test_data.append(line.strip().split(\"\\t\"))\n",
        "test_data[:3]\n"
      ]
    },
    {
      "cell_type": "markdown",
      "source": [
        "## Detaillierte Evaluation mit Konfusionsmatrix und Klassifikationsresultaten pro Klasse erstellen\n",
        "In der Sprachidentifikation und anderen Klassifikationsaufgaben sind die Metriken Accuracy, Recall, Precision und F1-Score zentrale Maße zur Bewertung der Leistung eines Modells. Hier sind kompakte Definitionen dieser Metriken, einschließlich ihrer Formeln und einem beispielhaften Zahlenbeispiel, bei dem Recall und Precision unterschiedliche Werte aufweisen:\n",
        "\n",
        "### Accuracy (Genauigkeit)\n",
        "Accuracy gibt den Anteil der insgesamt richtig vorhergesagten Sprachidentifikationen an der Gesamtzahl der Vorhersagen an.\n",
        "\n",
        "$ \\text{Accuracy} = \\frac{\\text{Anzahl der richtigen Vorhersagen}}{\\text{Gesamtzahl der Vorhersagen}} $\n",
        "\n",
        "### Recall (Sensitivität)\n",
        "Recall misst den Anteil der korrekt identifizierten Instanzen einer bestimmten Sprache an der Gesamtzahl der tatsächlichen Instanzen dieser Sprache.\n",
        "\n",
        "$ \\text{Recall} = \\frac{\\text{True Positives (TP)}}{\\text{True Positives (TP) + False Negatives (FN)}} $\n",
        "\n",
        "### Precision (Präzision)\n",
        "Precision gibt den Anteil der korrekt identifizierten Instanzen einer bestimmten Sprache an der Gesamtzahl der als diese Sprache identifizierten Instanzen an.\n",
        "\n",
        "$ \\text{Precision} = \\frac{\\text{True Positives (TP)}}{\\text{True Positives (TP) + False Positives (FP)}} $\n",
        "\n",
        "### F1-Score\n",
        "Der F1-Score ist das harmonische Mittel von Precision und Recall und bietet eine einzige Metrik zur Beurteilung der Balance zwischen diesen beiden Maßen.\n",
        "\n",
        "$ \\text{F1-Score} = 2 \\cdot \\frac{\\text{Precision} \\cdot \\text{Recall}}{\\text{Precision} + \\text{Recall}} $\n",
        "\n",
        "#### Zahlenbeispiel:\n",
        "Angenommen, ein Sprachidentifikationsmodell klassifiziert 100 Texte, wobei 80 Texte korrekt als Deutsch und 20 Texte fälschlicherweise als Französisch identifiziert werden. In Wirklichkeit sind jedoch 90 Texte auf Deutsch und 10 auf Französisch.\n",
        "\n",
        "- **True Positives (TP)**: 80 (Texte korrekt als Deutsch identifiziert)\n",
        "- **False Positives (FP)**: 20 (Texte fälschlicherweise als Deutsch identifiziert)\n",
        "- **False Negatives (FN)**: 10 (Deutsche Texte, die nicht als Deutsch identifiziert wurden)\n",
        "- **True Negatives (TN)**: Nicht direkt relevant für Precision und Recall im Kontext eines Zahlenbeispiels mit fokussierten Klassen\n",
        "\n",
        "Daraus ergeben sich folgende Werte:\n",
        "\n",
        "- **Accuracy**: $\\frac{80}{100} = 0.8$ oder 80%\n",
        "- **Recall** für Deutsch: $\\frac{80}{90} \\approx 0.89$ oder 89%\n",
        "- **Precision** für Deutsch: $\\frac{80}{100} = 0.8$ oder 80%\n",
        "- **F1-Score** für Deutsch: $2 \\cdot \\frac{0.89 \\cdot 0.8}{0.89 + 0.8} \\approx 0.84$\n",
        "\n",
        "In diesem Beispiel ist der Recall höher als die Precision, was darauf hindeutet, dass das Modell relativ gut darin ist, deutsche Texte zu identifizieren, dabei aber auch eine signifikante Anzahl von Texten fälschlicherweise als Deutsch klassifiziert."
      ],
      "metadata": {
        "id": "v50r2fj-K0jt"
      }
    },
    {
      "cell_type": "code",
      "source": [
        "from sklearn.metrics import confusion_matrix, precision_recall_fscore_support, classification_report, ConfusionMatrixDisplay\n",
        "import matplotlib.pyplot as plt\n",
        "\n",
        "def evaluate_model(model, test_data):\n",
        "    \"\"\"\n",
        "    Evaluate the model using test data.\n",
        "\n",
        "    Parameters:\n",
        "    - model: The trained fastText model.\n",
        "    - test_data: A list of tuples containing the true labels and texts.\n",
        "\n",
        "    Prints out the confusion matrix, precision, recall, and F1-score for each class.\n",
        "    \"\"\"\n",
        "    true_labels = [label for label, _ in test_data]\n",
        "    predicted_labels = [model.predict(text)[0][0] for _, text in test_data]\n",
        "\n",
        "    # Compute the confusion matrix\n",
        "    labels = list(set(true_labels + predicted_labels))  # Ensure all labels are included\n",
        "    cm = confusion_matrix(true_labels, predicted_labels, labels=labels)\n",
        "\n",
        "    # Display the confusion matrix with labels\n",
        "    disp = ConfusionMatrixDisplay(confusion_matrix=cm, display_labels=labels)\n",
        "    disp.plot(include_values=True, cmap='Reds', xticks_rotation='vertical', values_format='.0f')\n",
        "    plt.title('Confusion Matrix')\n",
        "    plt.show()\n",
        "\n",
        "\n",
        "    # Compute precision, recall, and F1-score\n",
        "    precision, recall, f1, _ = precision_recall_fscore_support(true_labels, predicted_labels, labels=labels,zero_division=0)\n",
        "\n",
        "    # Print detailed classification report\n",
        "    print(\"\\nDetailed Classification Report:\\n\")\n",
        "    print(classification_report(true_labels, predicted_labels, labels=labels,zero_division=0))\n"
      ],
      "metadata": {
        "id": "5HmssGZqKzHB"
      },
      "execution_count": 67,
      "outputs": []
    },
    {
      "cell_type": "code",
      "source": [
        "evaluate_model(model,test_data)"
      ],
      "metadata": {
        "id": "RIx-qm5-bUV0",
        "colab": {
          "base_uri": "https://localhost:8080/",
          "height": 797
        },
        "outputId": "753146a7-d7e2-4b33-a0e5-183a46720f1b"
      },
      "execution_count": 68,
      "outputs": [
        {
          "output_type": "display_data",
          "data": {
            "text/plain": [
              "<Figure size 640x480 with 2 Axes>"
            ],
            "image/png": "[encoded data removed]"
          },
          "metadata": {}
        },
        {
          "output_type": "stream",
          "name": "stdout",
          "text": [
            "\n",
            "Detailed Classification Report:\n",
            "\n",
            "              precision    recall  f1-score   support\n",
            "\n",
            " __label__fr       1.00      0.11      0.19        28\n",
            " __label__it       0.00      0.00      0.00         5\n",
            " __label__lb       0.00      0.00      0.00         6\n",
            " __label__en       0.00      0.00      0.00         2\n",
            " __label__de       0.61      1.00      0.76        59\n",
            "\n",
            "    accuracy                           0.62       100\n",
            "   macro avg       0.32      0.22      0.19       100\n",
            "weighted avg       0.64      0.62      0.50       100\n",
            "\n"
          ]
        }
      ]
    },
    {
      "cell_type": "markdown",
      "metadata": {
        "id": "4_HB89vqDThm"
      },
      "source": [
        "# Verbessern des Modells\n",
        "Verbessern des Modells: Z.B. mehr Epochen, mehr Dimensionen, längere Buchstaben-N-Gramme, ...\n",
        "\n",
        "Wichtigste Parameter:\n",
        "```\n",
        "   epoch N  # Beim Lernen wird das ganze Trainingsset N mal benutzt. Beeinflusst die Dauer des Trainings linear!\n",
        "   dim N    # Länge der gelernten Vektoren für Wörter und Buchstaben-N-Gramme\n",
        "   lr 0.N   # Initiale Lernrate: Bestimmt, wie stark die Vektoren verändert werden, wenn Fehler passieren. Während des Lernens wird die Lernrate immer kleiner.\n",
        "   mmin N   # Minimale Länge der Subwords, d.h. Buchstaben-N-Gramme\n",
        "   maxn N   # Maximale Länger der Subwords, d.h. Buchstaben-N-Gramme (falls N=0, werden keine Subwords benutzt, nur Wörter)\n",
        "```"
      ]
    },
    {
      "cell_type": "code",
      "source": [
        "model = fasttext.train_supervised(\n",
        "    input='impresso-lid-train.tsv',\n",
        "    epoch=10,  # Wie oft werden die Trainingsdaten benutzt\n",
        "    minn=2,    # Minimale Subword-Länge in Buchstaben\n",
        "    maxn=2,    # Maximale Subword-Länge in Buchstaben\n",
        "    dim=15,     # Dimensionalität der Vektoren für die Repräsentation der Wörter und Subwords\n",
        "    lr=0.1     # Learning Rate (Lernrate): Wie stark wird ein Fehler bestraft?\n",
        "    )\n",
        "evaluate_model(model,test_data)"
      ],
      "metadata": {
        "id": "2n7rBpwhWynE",
        "colab": {
          "base_uri": "https://localhost:8080/",
          "height": 797
        },
        "outputId": "11e20d56-c0d3-43fe-b981-b5bc3740668a"
      },
      "execution_count": 69,
      "outputs": [
        {
          "output_type": "display_data",
          "data": {
            "text/plain": [
              "<Figure size 640x480 with 2 Axes>"
            ],
            "image/png": "[encoded data removed]"
          },
          "metadata": {}
        },
        {
          "output_type": "stream",
          "name": "stdout",
          "text": [
            "\n",
            "Detailed Classification Report:\n",
            "\n",
            "              precision    recall  f1-score   support\n",
            "\n",
            " __label__fr       1.00      0.29      0.44        28\n",
            " __label__it       0.00      0.00      0.00         5\n",
            " __label__lb       0.00      0.00      0.00         6\n",
            " __label__en       0.00      0.00      0.00         2\n",
            " __label__de       0.64      1.00      0.78        59\n",
            "\n",
            "    accuracy                           0.67       100\n",
            "   macro avg       0.33      0.26      0.25       100\n",
            "weighted avg       0.66      0.67      0.59       100\n",
            "\n"
          ]
        }
      ]
    },
    {
      "cell_type": "markdown",
      "metadata": {
        "id": "KOyEz_nQDThq"
      },
      "source": [
        "# LID Mini-Shared-Task\n",
        "Arbeitet in Zweiergruppen und versucht, ein besseres Modell zu trainieren. Tragt die beste Konfiguration im Spreadsheet https://cutt.ly/casdmit-fs21-lid ein.\n",
        "\n",
        " - Reflexion: Welche Hyperparameter scheinen keinen wesentlichen Einfluss zu haben? Welche den grössten Einfluss?"
      ]
    }
  ],
  "metadata": {
    "celltoolbar": "Slideshow",
    "kernelspec": {
      "display_name": "Python 3",
      "language": "python",
      "name": "python3"
    },
    "language_info": {
      "codemirror_mode": {
        "name": "ipython",
        "version": 3
      },
      "file_extension": ".py",
      "mimetype": "text/x-python",
      "name": "python",
      "nbconvert_exporter": "python",
      "pygments_lexer": "ipython3",
      "version": "3.8.5"
    },
    "livereveal": {
      "center": true,
      "embedded": false,
      "enable_chalkboard": true,
      "scroll": true,
      "start_slideshow_at": "selected",
      "theme": "simple",
      "transition": "fade"
    },
    "colab": {
      "name": "impresso-lid.ipynb",
      "provenance": [],
      "toc_visible": true,
      "include_colab_link": true
    }
  },
  "nbformat": 4,
  "nbformat_minor": 0
}