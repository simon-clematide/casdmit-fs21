{
 "cells": [
  {
   "cell_type": "markdown",
   "metadata": {},
   "source": [
    "# Sprachidentifikation mit fasttext\n",
    "Dieses Notebook demonstriert, wie einfach man ein gutes LID-Modell mit fastText trainieren kann.\n",
    "Wir können mit dem fasttext Befehlszeilen-Werkzeug oder mit der Python-Bibliothek arbeiten.\n",
    "Aus Effizienzgründen arbeiten wir hier mit einem kleineren Trainingsdatensatz."
   ]
  },
  {
   "cell_type": "markdown",
   "metadata": {
    "slideshow": {
     "slide_type": "slide"
    }
   },
   "source": [
    "Conda-Umgebung mit FastText bereitstellen im Terminal und dann Jupyter Notebook nochmals starten.\n",
    "\n",
    "```bash\n",
    "conda activate base\n",
    "conda create --name lid --clone base\n",
    "conda activate lid\n",
    "conda install -c conda-forge fasttext \n",
    "# danach neues Terminal öffnen und conda aktivieren\n",
    "\n",
    "# fasttext Python Modul installieren\n",
    "pip install fasttext\n",
    "\n",
    "# danach Jupyter neu starten\n",
    "jupyter notebook\n",
    "```"
   ]
  },
  {
   "cell_type": "code",
   "execution_count": null,
   "metadata": {
    "slideshow": {
     "slide_type": "-"
    }
   },
   "outputs": [],
   "source": [
    "! which fasttext"
   ]
  },
  {
   "cell_type": "markdown",
   "metadata": {
    "slideshow": {
     "slide_type": "slide"
    }
   },
   "source": [
    "Datenset runterladen"
   ]
  },
  {
   "cell_type": "code",
   "execution_count": 1,
   "metadata": {
    "slideshow": {
     "slide_type": "-"
    }
   },
   "outputs": [
    {
     "name": "stdout",
     "output_type": "stream",
     "text": [
      "  % Total    % Received % Xferd  Average Speed   Time    Time     Time  Current\n",
      "                                 Dload  Upload   Total   Spent    Left  Speed\n",
      "100  382k  100  382k    0     0  2147k      0 --:--:-- --:--:-- --:--:-- 2135k:-- 1953k\n"
     ]
    }
   ],
   "source": [
    "! curl https://files.ifi.uzh.ch/cl/siclemat/lehre/fs21/casdmit/impresso-lid/impresso-lid.tsv -o impresso-lids.tsv"
   ]
  },
  {
   "cell_type": "markdown",
   "metadata": {
    "slideshow": {
     "slide_type": "slide"
    }
   },
   "source": [
    "Datenset kennenlernen"
   ]
  },
  {
   "cell_type": "code",
   "execution_count": 2,
   "metadata": {},
   "outputs": [
    {
     "name": "stdout",
     "output_type": "stream",
     "text": [
      "__label__fr\tPhoenix Bergban ... . . —it Siemens Halske . . . V» Ve Internat. Bank Ltuemb. — _ _ Deutsche Bank.. . . . . . °, Dresdncr Bank . . . . .— y« Discontc-Gesellschaft: . .— . so/* Berliner Handelsges. . . . \\“la Rdchsbank. .- .\r\n",
      "__label__lb\tDen englesche plang fir Palestina Den englesche plang fir Palestina get den arabeschen delegatio'nen an der jüddescher agence virgeluegt. No gewessen informatio'nen soll dese plang follgend ponkten emfâssen: . Schafong vun cantonen. e jüddeschen an en arabeschen. . Dreiparteien-centralregirong zu Jerusalem. . Drei dietricter zu Jerusalem, e jüddeschen, en arabeschen an e klengeren fir 'Araber müss\r\n",
      "__label__de\toie »or regeln formte ; nur müßte unfer SKilttärtocfen »oüfiänbiger unb foftjpteliger toerben unb mügten »ir benÄönig »on al« oberften Ärieg«berrn aners ïenr.en. Bir geben ju, bag ba« Sanb bei ginfüb= rung ber beutfdjen $anbel«gefeggebung, be« beutfdjen tyofc unb ïelegrapbenœefen« «. f. »., toie lrt. be« SJÎeformprojefte« fagt, getttnnen formte; toir feljen aud) bengali, toa« toir aber\r\n",
      "__label__de\tFRIEDENSPROBLEME. DE JOUVENEL ÜBER DIE ERSTARKUNG DEUTSCHLANDS. IN DER „NEUEN ZÜRICHER ZEITUNG\" BEFASST SICH DER BEKANNTE FRANZÖSISCHE POLITIKER HENRY DE I> UDTNEL MIT DEM ERGEBNIS DER © ENERAL& POLITIF, DIE DURCH AL »LERLEI KONTROLLEN UND VORSCHRIFTENDOUI>' CHLAN!>< »WIEDERAUFSTIEG ZU VERHINDERN GESUCHT, AÜER GENAU BAS GEGENTEIL ERREICHT HABE. ES HEISST DA V. A.: „DIE TRIUMPHE, DIE M DEN LETZ EN WI\r\n",
      "__label__fr\tVoit-on, à présent, la puissance de la graphologie, et en quoi elle est redoutable. J’entends bien que l’on me dit: pourquoi n’apprenez-vous pas cette soience? „Oh! je l’aurais voulu, et j’ai essayé. Mais on naît graphologue; on ne le devient pas, hélas! Il faut le don. C’est comme pour la poésie. Sans doute, de même que de simples versificateurs se disent poètes, de même aussi de vulgaires expert\r\n",
      "__label__de\tLUXEMBURG— BELGIEN. AUS LUXEMBURG WIRB DER „FRANKS, ZCITG.\" GESCHRIEBEN: „' ÜA'Ü ZWILCHEN BELGIEN UNO LCUZEMBUIG SCHWIEILGLEITCN BESTEHEN, DIE SICH AUF DIE VERZINSUNG DER ANLEIHE VON MILLIONEN BEZIEHEN, DIE BELGIEN LUXEMBURG I. . GEWÄHRTE, DÜRFTE BEKANNT SEIN, '. DANEBEN GIB! ES JEDOCH NOCY ANDERE SINANZIELLE FRAGEN, ÜBER WELCHE VEIYANDCLT WIRD. SO VOR ALLEMÜBER DIE PROZENTIGE STEM MBURAISCHEN BÖR\r\n",
      "__label__fr\tLa société chorale Sainte Cécile „La Hammoise\" à Bruxelles. Les talentueux chanteurs de la société chorale de Hamm lez Luxembourg, ayant été invité à venir se faire entendre à Bruxelles, arrivaient dans la capitale belge mercredi à h. . A l'initiative de Monsieur Léon Metz, président du Comité officiel de réception grand-ducale à Bruxelles, les diverses sociétés luxembourgeoises de Bruxe et bonne \r\n",
      "__label__de\tMit dem kleinsten Teleskop oder Opernglas unterscheitet man sie als eine langlichte dunkle Stelle, unfern vom Centrum. Die gan;e Länge mißt in runder Zahl über , englische Meilen der Sonnenobcrflachc, die Breite wechselt zwischen , und , Meilen. Es lassen sich un. gcfahr einzelne Flecken zählen, deren Halbschatten sp«nuin!»i-ao) mit ungleichen Rändern in einander fließen.\r\n",
      "__label__de\tanderten zwar nicht sogleich, denn der Weg ist zu weit; aber ter Pilger in über* zeugt, daß seine Binder in Amenk», hätten fie ta< von Kunde, innige Theilnohme an dieser weltbewe> gcnden Wallfahrt nehmen » ürdcn , und et läßt sie durch den Himmel auf übernaturfidje Weise Ahnung davon erhallen: daher dem, tiefe« Wahrnehmend« Festzöge und ihre« Gepränges an dem girmamente. (Loilsetzung folg!.)\r\n",
      "__label__de\te Mittheilungen aus dem Bericht der internationalen Sanitätscon» ferenz. Das in demselben Enthaltene bildet die wissenschaftliche, »ir möchten sagen dogmatische Grundlage für den zweiten praktischen Theil der Aufgabe der Conferenz, für die Aufstellung eines praktischen Regulativs zur Abhaltung der asiatischen Cholera von Europa. Möge sie ihre Aufgabe zu aller Heil mit Glück lösen! (A. A. .)\r\n"
     ]
    }
   ],
   "source": [
    "! head -n 10 impresso-lid.tsv"
   ]
  },
  {
   "cell_type": "code",
   "execution_count": 3,
   "metadata": {},
   "outputs": [
    {
     "name": "stdout",
     "output_type": "stream",
     "text": [
      "  1000  60519 391400 impresso-lid.tsv\r\n"
     ]
    }
   ],
   "source": [
    "! wc impresso-lid.tsv"
   ]
  },
  {
   "cell_type": "code",
   "execution_count": 4,
   "metadata": {},
   "outputs": [
    {
     "name": "stdout",
     "output_type": "stream",
     "text": [
      "    577 __label__de\r\n",
      "     33 __label__en\r\n",
      "    306 __label__fr\r\n",
      "     27 __label__it\r\n",
      "     57 __label__lb\r\n"
     ]
    }
   ],
   "source": [
    "!  cut -f 1 < impresso-lid.tsv | sort | uniq -c "
   ]
  },
  {
   "cell_type": "markdown",
   "metadata": {
    "slideshow": {
     "slide_type": "slide"
    }
   },
   "source": [
    "Erstellen von Training und Testdaten (Originaldaten sind zufällig geordnet)"
   ]
  },
  {
   "cell_type": "code",
   "execution_count": 5,
   "metadata": {},
   "outputs": [],
   "source": [
    "! head -n 900 < impresso-lid.tsv > impresso-lid-train.tsv\n",
    "! tail -n 100 < impresso-lid.tsv > impresso-lid-test.tsv"
   ]
  },
  {
   "cell_type": "markdown",
   "metadata": {
    "slideshow": {
     "slide_type": "slide"
    }
   },
   "source": [
    "## Trainieren von Minimodell auf der Kommandozeile\n",
    "Erstellt die binäre Modelldatei impresso-lid.bin und die Textdatei impresso-lid.bin.vec, mit den Wörtern in der ersten Spalte und den 10-dimensionalen Vektor in den restlichen Spalten.\n",
    "Falls das Kommandozeilenwerkzeug fasttext nicht installiert werden kann, siehe unten für Python-Interface\n"
   ]
  },
  {
   "cell_type": "code",
   "execution_count": 6,
   "metadata": {},
   "outputs": [
    {
     "name": "stdout",
     "output_type": "stream",
     "text": [
      "\r",
      "Read 0M words\r\n",
      "Number of words:  25553\r\n",
      "Number of labels: 5\r\n",
      "\r",
      "Progress: 0.0%  words/sec/thread: 217613  lr: 0.100000  loss: 1.075568  eta: -596523h-14m \r",
      "Progress: 0.9%  words/sec/thread: 673257  lr: 0.099062  loss: 1.290681  eta: 0h0m \r",
      "Progress: 1.6%  words/sec/thread: 1157738  lr: 0.098382  loss: 1.382873  eta: 0h0m \r",
      "Progress: 2.4%  words/sec/thread: 1158112  lr: 0.097576  loss: 1.434090  eta: 0h0m \r",
      "Progress: 3.2%  words/sec/thread: 1194154  lr: 0.096839  loss: 1.466683  eta: 0h0m \r",
      "Progress: 3.9%  words/sec/thread: 1422409  lr: 0.096061  loss: 1.489248  eta: 0h0m \r",
      "Progress: 4.6%  words/sec/thread: 1543379  lr: 0.095409  loss: 1.505795  eta: 0h0m \r",
      "Progress: 5.4%  words/sec/thread: 1366083  lr: 0.094612  loss: 1.518449  eta: 0h0m \r",
      "Progress: 6.3%  words/sec/thread: 1510743  lr: 0.093739  loss: 1.528438  eta: 0h0m \r",
      "Progress: 6.9%  words/sec/thread: 1641252  lr: 0.093135  loss: 1.536525  eta: 0h0m \r",
      "Progress: 7.8%  words/sec/thread: 1484034  lr: 0.092237  loss: 1.543206  eta: 0h0m \r",
      "Progress: 9.1%  words/sec/thread: 1696229  lr: 0.090890  loss: 1.548817  eta: 0h0m \r",
      "Progress: 9.9%  words/sec/thread: 1597017  lr: 0.090074  loss: 1.553597  eta: 0h0m \r",
      "Progress: 100.0%  words/sec/thread: 2079738  lr: 0.000000  loss: 1.553597  eta: 0h0m \r\n"
     ]
    }
   ],
   "source": [
    "! fasttext supervised -input impresso-lid-train.tsv -output impresso-lid  \\\n",
    "  -minn 2 -maxn 2 -epoch 2 -dim 10 -bucket 2000 -lr 0.1"
   ]
  },
  {
   "cell_type": "code",
   "execution_count": 7,
   "metadata": {},
   "outputs": [
    {
     "name": "stdout",
     "output_type": "stream",
     "text": [
      "E.>A. -0.032914 -0.0016127 -0.0010814 0.021594 -0.066347 -0.0097248 -0.028648 0.01295 -0.044182 0.013695 \r\n",
      "Rhein, -0.014979 0.0019735 0.010733 -0.014917 -0.040745 -0.041285 0.0082548 0.028197 -0.029087 0.027753 \r\n",
      "E..U, -0.015263 0.032085 0.02272 0.0019828 0.00076419 -0.027352 -0.0086408 0.01078 -0.019888 0.0095381 \r\n",
      "z?j -0.0016278 0.019604 -0.024708 -0.024287 0.009169 -0.0027684 0.034293 0.011582 -0.04343 0.054782 \r\n",
      "Ludw,-Befb. -0.018409 0.01405 0.015361 0.008566 0.0057746 -0.0050782 -0.0060172 0.015789 -0.028111 0.025906 \r\n",
      "E,.U. 0.0022321 0.025047 0.0031072 0.033288 0.010047 0.0091517 -0.0026759 0.013451 -0.030512 0.019293 \r\n",
      "Franz,.Osteir. 0.018798 0.0014039 -0.00177 0.0087512 -0.038055 0.015682 -0.013943 0.013332 -0.027953 0.019872 \r\n",
      "E..U. -0.027672 0.025487 -0.0024582 0.019228 -0.0017994 0.0014774 -0.026825 0.00082545 -0.036302 0.0049875 \r\n",
      "Frcntfuit -0.0084553 -0.0044217 0.019875 0.018095 -0.045599 0.016002 0.0085338 0.026802 -0.020121 0.0042561 \r\n",
      "M.. -0.0067887 0.030199 -0.010099 -0.0085391 -0.0088435 0.017765 -0.048403 -0.021265 -0.003933 0.045441 \r\n"
     ]
    }
   ],
   "source": [
    "! tail impresso-lid.bin.vec"
   ]
  },
  {
   "cell_type": "markdown",
   "metadata": {
    "slideshow": {
     "slide_type": "slide"
    }
   },
   "source": [
    "## Evaluieren von Minimodell"
   ]
  },
  {
   "cell_type": "code",
   "execution_count": 8,
   "metadata": {},
   "outputs": [
    {
     "name": "stdout",
     "output_type": "stream",
     "text": [
      "N\t100\r\n",
      "P@1\t0.59\r\n",
      "R@1\t0.59\r\n",
      "Number of examples: 100\r\n"
     ]
    }
   ],
   "source": [
    "! fasttext test impresso-lid.bin impresso-lid-test.tsv"
   ]
  },
  {
   "cell_type": "markdown",
   "metadata": {
    "slideshow": {
     "slide_type": "slide"
    }
   },
   "source": [
    "## Verbessern des Modells\n",
    "Verbessern des Modells: Z.B. mehr Epochen, mehr Dimensionen, längere Buchstaben-N-Gramme, ...\n",
    "\n",
    "Wichtigste Parameter:\n",
    "```\n",
    "   -epoch N  # Beim Lernen wird das ganze Trainingsset N mal benutzt.\n",
    "   -dim N    # Länge der gelernten Vektoren für Wörter und Buchstaben-N-Gramme\n",
    "   -bucket N # Maximale Anzahl verschiedener Merkmale, die repräsentierbar sind. Falls es mehr Merkmale als Platz im \"bucket\", überlagern sich die Merkmale.\n",
    "   -lr 0.N   # Initiale Lernrate: Bestimmt, wie stark die Vektoren verändert werden, wenn Fehler passieren. Während des Lernens wird die Lernrate immer kleiner.\n",
    "   -mmin N   # Minimale Länge der Subwords, d.h. Buchstaben-N-Gramme\n",
    "   -maxn N   # Maximale Länger der Subwords, d.h. Buchstaben-N-Gramme (falls N=0, werden keine Subwords benutzt, nur Wörter)\n",
    "   -minCount N # Minimales Vorkommen von Wörtern, um einbezogen zu werden\n",
    "```"
   ]
  },
  {
   "cell_type": "code",
   "execution_count": 27,
   "metadata": {},
   "outputs": [
    {
     "name": "stdout",
     "output_type": "stream",
     "text": [
      "Read 0M words\n",
      "Number of words:  25553\n",
      "Number of labels: 5\n",
      "Progress: 100.0%  words/sec/thread: 1765579  lr: 0.000000  loss: 0.010311  eta: 0h0m ords/sec/thread: 1789978  lr: 0.459592  loss: 0.201550  eta: 0h0m 1774104  lr: 0.232200  loss: 0.017781  eta: 0h0m 1771734  lr: 0.091878  loss: 0.012066  eta: 0h0m 0.061393  loss: 0.010959  eta: 0h0m \n",
      "N\t100\n",
      "P@1\t0.97\n",
      "R@1\t0.97\n",
      "Number of examples: 100\n"
     ]
    }
   ],
   "source": [
    "! fasttext supervised -input impresso-lid-train.tsv -output impresso-lid  \\\n",
    "  -minn 2 -maxn 2 -epoch 100 -dim 20 -bucket 20000 -lr 0.5 -minCount 0\n",
    "! fasttext test impresso-lid.bin impresso-lid-test.tsv"
   ]
  },
  {
   "cell_type": "markdown",
   "metadata": {
    "slideshow": {
     "slide_type": "slide"
    }
   },
   "source": [
    "Verwechslungskandidaten anzeigen"
   ]
  },
  {
   "cell_type": "code",
   "execution_count": 11,
   "metadata": {},
   "outputs": [
    {
     "name": "stdout",
     "output_type": "stream",
     "text": [
      "     59 __label__de\t__label__de\r\n",
      "     26 __label__fr\t__label__fr\r\n",
      "      6 __label__lb\t__label__de\r\n",
      "      5 __label__it\t__label__fr\r\n",
      "      2 __label__fr\t__label__de\r\n",
      "      2 __label__en\t__label__fr\r\n"
     ]
    }
   ],
   "source": [
    "! cut -f 1 < impresso-lid-test.tsv > impresso-lid-test.gold.label.tsv\n",
    "! fasttext predict impresso-lid.bin impresso-lid-test.tsv > impresso-lid-test.system.label.tsv\n",
    "! paste impresso-lid-test.gold.label.tsv impresso-lid-test.system.label.tsv | sort | uniq -c | sort -rn"
   ]
  },
  {
   "cell_type": "markdown",
   "metadata": {
    "slideshow": {
     "slide_type": "slide"
    }
   },
   "source": [
    "## Trainieren von FastText aus Python\n",
    "Siehe https://fasttext.cc/docs/en/python-module.html"
   ]
  },
  {
   "cell_type": "code",
   "execution_count": 12,
   "metadata": {},
   "outputs": [],
   "source": [
    "import fasttext"
   ]
  },
  {
   "cell_type": "code",
   "execution_count": 13,
   "metadata": {
    "slideshow": {
     "slide_type": "slide"
    }
   },
   "outputs": [],
   "source": [
    "model = fasttext.train_supervised(input='impresso-lid-train.tsv', minn=2,maxn=2,epoch=20,dim=10,bucket=2000,lr=0.1)"
   ]
  },
  {
   "cell_type": "code",
   "execution_count": 14,
   "metadata": {},
   "outputs": [
    {
     "data": {
      "text/plain": [
       "(['Sprache', '<S', 'Sp', 'pr', 'ra', 'ac', 'ch', 'he', 'e>'],\n",
       " array([ 7243, 26969, 26119, 25592, 26093, 27118, 26831, 26807, 26043]))"
      ]
     },
     "execution_count": 14,
     "metadata": {},
     "output_type": "execute_result"
    }
   ],
   "source": [
    "model.get_subwords('Sprache')"
   ]
  },
  {
   "cell_type": "code",
   "execution_count": 15,
   "metadata": {},
   "outputs": [
    {
     "name": "stdout",
     "output_type": "stream",
     "text": [
      "['__label__de', '__label__fr', '__label__lb', '__label__en', '__label__it']\n"
     ]
    }
   ],
   "source": [
    "print(model.labels)"
   ]
  },
  {
   "cell_type": "code",
   "execution_count": 16,
   "metadata": {
    "slideshow": {
     "slide_type": "slide"
    }
   },
   "outputs": [
    {
     "data": {
      "text/plain": [
       "(('__label__fr', '__label__de', '__label__lb', '__label__en', '__label__it'),\n",
       " array([0.5468235 , 0.23518349, 0.09703483, 0.06793454, 0.05307357]))"
      ]
     },
     "execution_count": 16,
     "metadata": {},
     "output_type": "execute_result"
    }
   ],
   "source": [
    "model.predict(\"Welche Sprache ist das? Luxemburgisch?\",k=5)"
   ]
  },
  {
   "cell_type": "code",
   "execution_count": 17,
   "metadata": {},
   "outputs": [
    {
     "data": {
      "text/plain": [
       "(100, 0.85, 0.85)"
      ]
     },
     "execution_count": 17,
     "metadata": {},
     "output_type": "execute_result"
    }
   ],
   "source": [
    "model.test(\"impresso-lid-test.tsv\")"
   ]
  },
  {
   "cell_type": "code",
   "execution_count": 18,
   "metadata": {},
   "outputs": [],
   "source": [
    "def print_results(N, p, r):\n",
    "    print(f\"N\\t{N}\")\n",
    "    print(f\"P@1\\t{p:.2f}\")\n",
    "    print(f\"R@1\\t{r:.2f}\")"
   ]
  },
  {
   "cell_type": "code",
   "execution_count": 19,
   "metadata": {},
   "outputs": [
    {
     "name": "stdout",
     "output_type": "stream",
     "text": [
      "N\t100\n",
      "P@1\t0.85\n",
      "R@1\t0.85\n"
     ]
    }
   ],
   "source": [
    "print_results(*model.test(\"impresso-lid-test.tsv\"))"
   ]
  },
  {
   "cell_type": "markdown",
   "metadata": {
    "slideshow": {
     "slide_type": "slide"
    }
   },
   "source": [
    "# LID Shared-Task\n",
    "Arbeitet in Zweiergruppen in Breakout-Rooms und versucht, ein besseres Modell zu trainieren. Tragt die beste Konfiguration im Spreadsheet https://cutt.ly/casdmit-fs21-lid ein.\n",
    "\n",
    " - Reflexion: Welche Hyperparameter scheinen keinen wesentlichen Einfluss zu haben? Welche den grössten Einfluss?"
   ]
  },
  {
   "cell_type": "code",
   "execution_count": null,
   "metadata": {},
   "outputs": [],
   "source": []
  }
 ],
 "metadata": {
  "celltoolbar": "Slideshow",
  "kernelspec": {
   "display_name": "Python 3",
   "language": "python",
   "name": "python3"
  },
  "language_info": {
   "codemirror_mode": {
    "name": "ipython",
    "version": 3
   },
   "file_extension": ".py",
   "mimetype": "text/x-python",
   "name": "python",
   "nbconvert_exporter": "python",
   "pygments_lexer": "ipython3",
   "version": "3.8.5"
  },
  "livereveal": {
   "center": true,
   "embedded": false,
   "enable_chalkboard": true,
   "scroll": true,
   "start_slideshow_at": "selected",
   "theme": "simple",
   "transition": "fade"
  }
 },
 "nbformat": 4,
 "nbformat_minor": 4
}
