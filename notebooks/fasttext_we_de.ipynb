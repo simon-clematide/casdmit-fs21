{
  "cells": [
    {
      "cell_type": "markdown",
      "metadata": {
        "id": "view-in-github",
        "colab_type": "text"
      },
      "source": [
        "<a href=\"https://colab.research.google.com/github/simon-clematide/casdmit-fs21/blob/master/notebooks/fasttext_we_de.ipynb\" target=\"_parent\"><img src=\"https://colab.research.google.com/assets/colab-badge.svg\" alt=\"Open In Colab\"/></a>"
      ]
    },
    {
      "cell_type": "markdown",
      "metadata": {
        "id": "98bn1bwuqxd4"
      },
      "source": [
        "# Creating Word Embeddings with fasttext\n",
        "Our tabseparated text corpus:"
      ]
    },
    {
      "cell_type": "code",
      "execution_count": null,
      "metadata": {
        "id": "PS9xFVssqxd7"
      },
      "outputs": [],
      "source": [
        "! ls -lh parlament_transcriptions_tokenized_de.tsv\n",
        "! tail -n 1 parlament_transcriptions_tokenized_de.tsv "
      ]
    },
    {
      "cell_type": "markdown",
      "metadata": {
        "id": "t8TWtSEJqxd8"
      },
      "source": [
        "Download the precomputed file if needed"
      ]
    },
    {
      "cell_type": "code",
      "execution_count": null,
      "metadata": {
        "id": "nI40Z7DGqxd8"
      },
      "outputs": [],
      "source": [
        "! wget https://files.ifi.uzh.ch/cl/siclemat/lehre/hs19/tm/parlament_transcriptions_tokenized_de.tsv -O parlament_transcriptions_tokenized_de.tsv"
      ]
    },
    {
      "cell_type": "markdown",
      "metadata": {
        "id": "FGdekG9Nqxd9"
      },
      "source": [
        "## Building word embeddings with fasttext"
      ]
    },
    {
      "cell_type": "code",
      "execution_count": null,
      "metadata": {
        "id": "kYAuLlFBqxd9"
      },
      "outputs": [],
      "source": [
        "! cut -f 3 parlament_transcriptions_tokenized_de.tsv > parlament_transcriptions_tokenized_de.txt"
      ]
    },
    {
      "cell_type": "markdown",
      "metadata": {
        "id": "58zDU5shqxd9"
      },
      "source": [
        "That's pretty large. Takes about 2 hours on a 1 CPU binder VM, but several minutes on a modern multicore. "
      ]
    },
    {
      "cell_type": "code",
      "execution_count": null,
      "metadata": {
        "id": "lAgDlA0sqxd-"
      },
      "outputs": [],
      "source": [
        "import fasttext\n",
        "model = fasttext.train_unsupervised('parlament_transcriptions_tokenized_de.txt', minCount=3, dim=100, epoch=10)\n",
        "model.save_model('de.fasttext.bin')\n",
        "print(\"Done\",file=sys.stderr)"
      ]
    },
    {
      "cell_type": "markdown",
      "metadata": {
        "id": "AqM1VO8Zqxd-"
      },
      "source": [
        "We can also just download a prebuilt model instead of waiting."
      ]
    },
    {
      "cell_type": "code",
      "execution_count": 1,
      "metadata": {
        "id": "NpVVDxDQqxd_",
        "outputId": "14cab73a-9ed8-477c-92b0-cd24bd854c6d",
        "colab": {
          "base_uri": "https://localhost:8080/"
        }
      },
      "outputs": [
        {
          "output_type": "stream",
          "name": "stdout",
          "text": [
            "--2022-04-28 19:35:37--  https://files.ifi.uzh.ch/cl/siclemat/lehre/hs19/tm/de.fasttext.bin\n",
            "Resolving files.ifi.uzh.ch (files.ifi.uzh.ch)... 130.60.155.125\n",
            "Connecting to files.ifi.uzh.ch (files.ifi.uzh.ch)|130.60.155.125|:443... connected.\n",
            "HTTP request sent, awaiting response... 200 OK\n",
            "Length: 928782979 (886M) [application/octet-stream]\n",
            "Saving to: ‘de.fasttext.bin’\n",
            "\n",
            "de.fasttext.bin     100%[===================>] 885.76M  26.5MB/s    in 34s     \n",
            "\n",
            "2022-04-28 19:36:12 (26.2 MB/s) - ‘de.fasttext.bin’ saved [928782979/928782979]\n",
            "\n"
          ]
        }
      ],
      "source": [
        "! wget https://files.ifi.uzh.ch/cl/siclemat/lehre/hs19/tm/de.fasttext.bin -O de.fasttext.bin"
      ]
    },
    {
      "cell_type": "code",
      "execution_count": null,
      "metadata": {
        "id": "HbBmeTLsqxd_"
      },
      "outputs": [],
      "source": [
        "import fasttext\n",
        "model = fasttext.load_model('de.fasttext.bin')"
      ]
    },
    {
      "cell_type": "code",
      "execution_count": null,
      "metadata": {
        "id": "nk5porwcqxeA"
      },
      "outputs": [],
      "source": [
        "model.words"
      ]
    },
    {
      "cell_type": "code",
      "execution_count": null,
      "metadata": {
        "id": "5edtxixpqxeA"
      },
      "outputs": [],
      "source": [
        "model[\"partei\"]"
      ]
    },
    {
      "cell_type": "code",
      "execution_count": null,
      "metadata": {
        "id": "U_QZbvmSqxeA"
      },
      "outputs": [],
      "source": [
        "model.get_nearest_neighbors('verkehr',20)"
      ]
    },
    {
      "cell_type": "markdown",
      "metadata": {
        "id": "go92eBNsqxeA"
      },
      "source": [
        "A is to B, like ? is to C\n",
        "`model.get_analogies(A,B,C)`"
      ]
    },
    {
      "cell_type": "code",
      "execution_count": null,
      "metadata": {
        "id": "x8w7lcR3qxeA"
      },
      "outputs": [],
      "source": [
        "model.get_analogies(\"bundesrat\",\"mann\",\"frau\")"
      ]
    },
    {
      "cell_type": "markdown",
      "metadata": {
        "id": "l8DobxIrqxeB"
      },
      "source": [
        "## Building a mini-corpus"
      ]
    },
    {
      "cell_type": "code",
      "execution_count": null,
      "metadata": {
        "id": "WLVKLAwZqxeB"
      },
      "outputs": [],
      "source": [
        "! grep europa parlament_transcriptions_tokenized_de.txt > europa_de.txt\n",
        "! ls -lh europa_de.txt"
      ]
    },
    {
      "cell_type": "code",
      "execution_count": null,
      "metadata": {
        "id": "7qo2RffOqxeB"
      },
      "outputs": [],
      "source": [
        "import fasttext\n",
        "europa_model = fasttext.train_unsupervised('europa_de.txt',dim=30,minCount=2,maxn=0,ws=10)"
      ]
    },
    {
      "cell_type": "code",
      "execution_count": null,
      "metadata": {
        "id": "581ck5M0qxeB"
      },
      "outputs": [],
      "source": [
        "europa_model.get_nearest_neighbors('frieden',20)"
      ]
    },
    {
      "cell_type": "markdown",
      "metadata": {
        "id": "jmGtYaeJqxeC"
      },
      "source": [
        "# Text classification with fasttext\n",
        "For text classification, fasttext generate task-specific embeddings. These are dense representations that support the classification task optimally."
      ]
    },
    {
      "cell_type": "markdown",
      "metadata": {
        "id": "NaewmRtjqxeC"
      },
      "source": [
        "Preparing the input file"
      ]
    },
    {
      "cell_type": "code",
      "execution_count": null,
      "metadata": {
        "id": "b5WGjVKZqxeC"
      },
      "outputs": [],
      "source": [
        "! test -e parlament_transcriptions_tokenized_de.tsv || wget https://files.ifi.uzh.ch/cl/siclemat/lehre/hs19/tm/parlament_transcriptions_tokenized_de.tsv -O parlament_transcriptions_tokenized_de.tsv"
      ]
    },
    {
      "cell_type": "code",
      "execution_count": null,
      "metadata": {
        "id": "4k1YfzwVqxeC"
      },
      "outputs": [],
      "source": [
        "%%bash\n",
        "cut -f 1 <parlament_transcriptions_tokenized_de.tsv | sort | uniq -c |sort -rn "
      ]
    },
    {
      "cell_type": "code",
      "execution_count": null,
      "metadata": {
        "id": "wL-1uqUAqxeC"
      },
      "outputs": [],
      "source": [
        "%%bash\n",
        "grep  SozialdemokratischeFraktion < parlament_transcriptions_tokenized_de.tsv \\\n",
        " | cut -f 1,3 \\\n",
        " | sed 's/^/__label__/' \\\n",
        " | shuf --random-source=parlament_transcriptions_tokenized_de.tsv \\\n",
        " | head -n 2000 > sp_de.tsv\n",
        "\n",
        "grep  FraktionderSchweizerischenVolkspartei < parlament_transcriptions_tokenized_de.tsv \\\n",
        " | cut -f 1,3 \\\n",
        " | sed 's/^/__label__/' \\\n",
        " | shuf --random-source=parlament_transcriptions_tokenized_de.tsv \\\n",
        " | head -n 2000 > svp_de.tsv\n"
      ]
    },
    {
      "cell_type": "code",
      "execution_count": null,
      "metadata": {
        "id": "jLTAdd3PqxeD"
      },
      "outputs": [],
      "source": [
        "! head sp_de.tsv"
      ]
    },
    {
      "cell_type": "code",
      "execution_count": null,
      "metadata": {
        "id": "I9kbS2VRqxeD"
      },
      "outputs": [],
      "source": [
        "%%bash\n",
        "head -n 1800 < sp_de.tsv > sp_de.train.tsv\n",
        "tail -n 200 < sp_de.tsv > sp_de.test.tsv\n",
        "head -n 1800 < svp_de.tsv > svp_de.train.tsv\n",
        "tail -n 200 < svp_de.tsv > svp_de.test.tsv\n",
        "\n",
        "cat sp_de.train.tsv svp_de.train.tsv > svpandsp_de.train.tsv\n",
        "cat sp_de.test.tsv svp_de.test.tsv > svpandsp_de.test.tsv\n"
      ]
    },
    {
      "cell_type": "code",
      "execution_count": null,
      "metadata": {
        "id": "AQeAECRHqxeD"
      },
      "outputs": [],
      "source": [
        "! wc -l svpandsp_de.train.tsv  svpandsp_de.test.tsv"
      ]
    },
    {
      "cell_type": "code",
      "execution_count": null,
      "metadata": {
        "id": "LZ1plp-CqxeD"
      },
      "outputs": [],
      "source": [
        "import fasttext\n",
        "model = fasttext.train_supervised(input=\"svpandsp_de.train.tsv\")"
      ]
    },
    {
      "cell_type": "code",
      "execution_count": null,
      "metadata": {
        "id": "lFmT9SyhqxeD"
      },
      "outputs": [],
      "source": [
        "model.test(\"svpandsp_de.test.tsv\")"
      ]
    },
    {
      "cell_type": "markdown",
      "metadata": {
        "id": "cOpjWc2WqxeE"
      },
      "source": [
        "Default values: https://fasttext.cc/docs/en/python-module.html#train_supervised-parameters"
      ]
    },
    {
      "cell_type": "markdown",
      "metadata": {
        "id": "LqKAnwRmqxeE"
      },
      "source": [
        "Take some text from \n",
        "https://www.sp-ps.ch/de/kampagnen/unterschriftensammlungen/nein-zum-steuerbonus-fur-reiche-eltern"
      ]
    },
    {
      "cell_type": "code",
      "execution_count": null,
      "metadata": {
        "id": "T4tY2K3gqxeE"
      },
      "outputs": [],
      "source": [
        "model.predict(\"\"\"Wir sagen NEIN zum Steuerbonus für reiche Eltern ! SVP , FDP und CVP haben beschlossen, die Kinderabzüge bei der Bundessteuer auf 10‘000 Franken zu erhöhen. Was als Familienförderung verkauft wird , ist ein reiner Bonus für Topverdiener . Denn von den Abzügen bei der direkten Bundessteuer profitieren nur jene , die es nicht nötig haben .\"\"\".lower())"
      ]
    },
    {
      "cell_type": "markdown",
      "metadata": {
        "id": "YaTIxxHhqxeE"
      },
      "source": [
        "Take some text from \n",
        "https://www.sp-ps.ch/de/kampagnen/unterschriftensammlungen/nein-zum-steuerbonus-fur-reiche-eltern"
      ]
    },
    {
      "cell_type": "code",
      "execution_count": null,
      "metadata": {
        "id": "o3pIk27cqxeE"
      },
      "outputs": [],
      "source": [
        "model.predict(\"\"\"Die Menschen in den Grenzregionen leiden unter der brutalen Kriminalität, die wegen der offenen Grenzen fast täglich in die Schweiz schwappt.\"\"\".lower())"
      ]
    },
    {
      "cell_type": "markdown",
      "metadata": {
        "id": "U2pXCTQ8qxeE"
      },
      "source": [
        "## Your task: Try to improve the training parameters \n",
        "https://fasttext.cc/docs/en/supervised-tutorial.html\n"
      ]
    },
    {
      "cell_type": "code",
      "execution_count": null,
      "metadata": {
        "id": "ddjiLaoBqxeF"
      },
      "outputs": [],
      "source": [
        "model = fasttext.train_supervised(input='svpandsp_de.train.tsv', autotuneValidationFile='svpandsp_de.test.tsv', autotuneDuration=60)"
      ]
    },
    {
      "cell_type": "code",
      "execution_count": null,
      "metadata": {
        "id": "RD-o43sBqxeF"
      },
      "outputs": [],
      "source": [
        "model.test(\"svpandsp_de.test.tsv\")"
      ]
    },
    {
      "cell_type": "code",
      "execution_count": null,
      "metadata": {
        "id": "2ipgbp7nqxeF"
      },
      "outputs": [],
      "source": [
        "model.ws,model.lr,model.epoch"
      ]
    },
    {
      "cell_type": "markdown",
      "metadata": {
        "id": "CMEjMpZuqxeF"
      },
      "source": [
        "# Identifying politicians\n"
      ]
    },
    {
      "cell_type": "code",
      "execution_count": null,
      "metadata": {
        "id": "W17YEnkiqxeF"
      },
      "outputs": [],
      "source": [
        "%%bash\n",
        "cut -f 2 <parlament_transcriptions_tokenized_de.tsv | sort | uniq -c |sort -rn "
      ]
    },
    {
      "cell_type": "code",
      "execution_count": null,
      "metadata": {
        "id": "nTf7TwXjqxeF"
      },
      "outputs": [],
      "source": [
        "%%bash\n",
        "grep  WidmerSchlumpfEveline < parlament_transcriptions_tokenized_de.tsv \\\n",
        " | cut -f 2,3 \\\n",
        " | sed 's/^/__label__/' \\\n",
        " | shuf --random-source=parlament_transcriptions_tokenized_de.tsv \\\n",
        " | head -n 1000 > wse_de.tsv\n",
        "\n",
        "grep  BlocherChristoph < parlament_transcriptions_tokenized_de.tsv \\\n",
        " | cut -f 2,3 \\\n",
        " | sed 's/^/__label__/' \\\n",
        " | shuf --random-source=parlament_transcriptions_tokenized_de.tsv \\\n",
        " | head -n 1000 > bc_de.tsv\n"
      ]
    },
    {
      "cell_type": "code",
      "execution_count": null,
      "metadata": {
        "id": "YZ9nVyjpqxeF"
      },
      "outputs": [],
      "source": [
        "%%bash\n",
        "head -n 900 < wse_de.tsv > wse_de.train.tsv\n",
        "tail -n 100 < wse_de.tsv > wse_de.test.tsv\n",
        "head -n 900 < bc_de.tsv > bc_de.train.tsv\n",
        "tail -n 100 < bc_de.tsv > bc_de.test.tsv\n",
        "\n",
        "cat wse_de.train.tsv bc_de.train.tsv > wsebc.train.tsv\n",
        "cat wse_de.test.tsv bc_de.test.tsv > wsebc.test.tsv\n"
      ]
    },
    {
      "cell_type": "code",
      "execution_count": null,
      "metadata": {
        "id": "ohLZ9ZQSqxeG"
      },
      "outputs": [],
      "source": [
        "model = fasttext.train_supervised(input=\"wsebc.train.tsv\",epoch=50,dim=10,wordNgrams=1)"
      ]
    },
    {
      "cell_type": "code",
      "execution_count": null,
      "metadata": {
        "id": "WTZ6rFLcqxeG"
      },
      "outputs": [],
      "source": [
        "model.test(\"wsebc.test.tsv\")"
      ]
    },
    {
      "cell_type": "code",
      "execution_count": null,
      "metadata": {
        "id": "X0z-KAGNqxeG"
      },
      "outputs": [],
      "source": [
        "!head bc_de.test.tsv"
      ]
    },
    {
      "cell_type": "code",
      "execution_count": null,
      "metadata": {
        "id": "QxubA3B9qxeG"
      },
      "outputs": [],
      "source": [
        "model.predict(\"schlägt der mann sämtliche scheiben ein . man weiss nicht , was man mit ihm machen soll . er kommt für zwei tage in den fürsorgerischen freiheitsentzug . er muss entlassen werden , und er macht am dritten tag das gleiche . in den weisungen der strafjustiz heisst es , man müsse ihn irgendwo unterbringen . sie sagen nun , es gebe keine administrative verwahrung ; ich meine ja nicht eine verwahrung für zehn monate\")"
      ]
    },
    {
      "cell_type": "code",
      "execution_count": null,
      "metadata": {
        "id": "s7C3spqSqxeG"
      },
      "outputs": [],
      "source": [
        "!head wse_de.test.tsv"
      ]
    },
    {
      "cell_type": "code",
      "execution_count": null,
      "metadata": {
        "id": "SBPsapUjqxeG"
      },
      "outputs": [],
      "source": [
        "model.predict(\"der einlegerschutz seit inkrafttreten des neuen bankeninsolvenzrechts 2004 nicht mehr nur auf spareinlagen beschränkt ist , sondern sämtliche einlagen von kunden umfasst . zudem ist festzuhalten , dass wertschriften , die sich bei der bank \")"
      ]
    },
    {
      "cell_type": "markdown",
      "metadata": {
        "id": "ihd49nnRqxeG"
      },
      "source": [
        "## Your turn\n",
        "What happens if you add a third politician? e.g. LeuenbergerMoritz"
      ]
    }
  ],
  "metadata": {
    "kernelspec": {
      "display_name": "Python 3",
      "language": "python",
      "name": "python3"
    },
    "language_info": {
      "codemirror_mode": {
        "name": "ipython",
        "version": 3
      },
      "file_extension": ".py",
      "mimetype": "text/x-python",
      "name": "python",
      "nbconvert_exporter": "python",
      "pygments_lexer": "ipython3"
    },
    "colab": {
      "name": "fasttext_we.ipynb",
      "provenance": [],
      "include_colab_link": true
    }
  },
  "nbformat": 4,
  "nbformat_minor": 0
}