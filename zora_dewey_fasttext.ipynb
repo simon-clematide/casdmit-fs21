{
  "cells": [
    {
      "cell_type": "markdown",
      "metadata": {
        "id": "view-in-github",
        "colab_type": "text"
      },
      "source": [
        "<a href=\"https://colab.research.google.com/github/simon-clematide/casdmit-fs21/blob/master/zora_dewey_fasttext.ipynb\" target=\"_parent\"><img src=\"https://colab.research.google.com/assets/colab-badge.svg\" alt=\"Open In Colab\"/></a>"
      ]
    },
    {
      "cell_type": "markdown",
      "metadata": {
        "id": "2yA0jk-dDThY"
      },
      "source": [
        "# Dewey-Klassifikation mit fasttext\n",
        "Dieses Notebook demonstriert, wie einfach man ein gutes Klassifikations-Modell mit fastText trainieren kann.\n",
        "Wir arbeiten mit der fasttext Python-Bibliothek.\n",
        "Aus Effizienzgründen arbeiten wir hier mit einem kleineren Trainingsdatensatz."
      ]
    },
    {
      "cell_type": "markdown",
      "source": [
        "## Das Python fasttext Package installieren\n",
        "Aktuellere Version hat [Bug](https://stackoverflow.com/questions/61787119/fasttext-0-9-2-why-is-recall-nan) in der Evaluationsfunktion korrigiert "
      ],
      "metadata": {
        "id": "cawmGkN5EGOD"
      }
    },
    {
      "cell_type": "code",
      "execution_count": 1,
      "metadata": {
        "id": "t-FhvBZODThd",
        "outputId": "8cfa6ae6-1fd0-4277-aaa7-7916806a1cae",
        "colab": {
          "base_uri": "https://localhost:8080/"
        }
      },
      "outputs": [
        {
          "output_type": "stream",
          "name": "stdout",
          "text": [
            "Looking in indexes: https://pypi.org/simple, https://us-python.pkg.dev/colab-wheels/public/simple/\n",
            "Collecting git+https://github.com/facebookresearch/fastText.git\n",
            "  Cloning https://github.com/facebookresearch/fastText.git to /tmp/pip-req-build-bqx440ss\n",
            "  Running command git clone --filter=blob:none --quiet https://github.com/facebookresearch/fastText.git /tmp/pip-req-build-bqx440ss\n",
            "  Resolved https://github.com/facebookresearch/fastText.git to commit 0622aad8571861d290b237e83e04e9a07a28839d\n",
            "  Preparing metadata (setup.py) ... \u001b[?25l\u001b[?25hdone\n",
            "Collecting pybind11>=2.2 (from fasttext==0.9.2)\n",
            "  Using cached pybind11-2.10.4-py3-none-any.whl (222 kB)\n",
            "Requirement already satisfied: setuptools>=0.7.0 in /usr/local/lib/python3.10/dist-packages (from fasttext==0.9.2) (67.7.2)\n",
            "Requirement already satisfied: numpy in /usr/local/lib/python3.10/dist-packages (from fasttext==0.9.2) (1.22.4)\n",
            "Building wheels for collected packages: fasttext\n",
            "  Building wheel for fasttext (setup.py) ... \u001b[?25l\u001b[?25hdone\n",
            "  Created wheel for fasttext: filename=fasttext-0.9.2-cp310-cp310-linux_x86_64.whl size=4384420 sha256=df108c37d26d4d8502bac4ee51762e35df8b309960106c38302d832acbaa2f55\n",
            "  Stored in directory: /tmp/pip-ephem-wheel-cache-dclezgzh/wheels/3d/b7/8f/678f8b04408b579e2acad5f2416797aee4ebfe3529049a03b2\n",
            "Successfully built fasttext\n",
            "Installing collected packages: pybind11, fasttext\n",
            "Successfully installed fasttext-0.9.2 pybind11-2.10.4\n"
          ]
        }
      ],
      "source": [
        "# ! pip install fasttext # schnell zu installieren, aber hat Bug bei test_label()\n",
        "! pip install git+https://github.com/facebookresearch/fastText.git  # braucht mehr Zeit fürs Kompilieren"
      ]
    },
    {
      "cell_type": "code",
      "source": [
        "! pip install spacy"
      ],
      "metadata": {
        "id": "F5xv5Gu0Dpjw",
        "outputId": "68d6db4d-fcc3-4750-8483-dfc1c8f108cf",
        "colab": {
          "base_uri": "https://localhost:8080/"
        }
      },
      "execution_count": null,
      "outputs": [
        {
          "output_type": "stream",
          "name": "stdout",
          "text": [
            "Looking in indexes: https://pypi.org/simple, https://us-python.pkg.dev/colab-wheels/public/simple/\n",
            "Requirement already satisfied: spacy in /usr/local/lib/python3.10/dist-packages (3.5.2)\n",
            "Requirement already satisfied: spacy-legacy<3.1.0,>=3.0.11 in /usr/local/lib/python3.10/dist-packages (from spacy) (3.0.12)\n",
            "Requirement already satisfied: spacy-loggers<2.0.0,>=1.0.0 in /usr/local/lib/python3.10/dist-packages (from spacy) (1.0.4)\n",
            "Requirement already satisfied: murmurhash<1.1.0,>=0.28.0 in /usr/local/lib/python3.10/dist-packages (from spacy) (1.0.9)\n",
            "Requirement already satisfied: cymem<2.1.0,>=2.0.2 in /usr/local/lib/python3.10/dist-packages (from spacy) (2.0.7)\n",
            "Requirement already satisfied: preshed<3.1.0,>=3.0.2 in /usr/local/lib/python3.10/dist-packages (from spacy) (3.0.8)\n",
            "Requirement already satisfied: thinc<8.2.0,>=8.1.8 in /usr/local/lib/python3.10/dist-packages (from spacy) (8.1.9)\n",
            "Requirement already satisfied: wasabi<1.2.0,>=0.9.1 in /usr/local/lib/python3.10/dist-packages (from spacy) (1.1.1)\n",
            "Requirement already satisfied: srsly<3.0.0,>=2.4.3 in /usr/local/lib/python3.10/dist-packages (from spacy) (2.4.6)\n",
            "Requirement already satisfied: catalogue<2.1.0,>=2.0.6 in /usr/local/lib/python3.10/dist-packages (from spacy) (2.0.8)\n",
            "Requirement already satisfied: typer<0.8.0,>=0.3.0 in /usr/local/lib/python3.10/dist-packages (from spacy) (0.7.0)\n",
            "Requirement already satisfied: pathy>=0.10.0 in /usr/local/lib/python3.10/dist-packages (from spacy) (0.10.1)\n",
            "Requirement already satisfied: smart-open<7.0.0,>=5.2.1 in /usr/local/lib/python3.10/dist-packages (from spacy) (6.3.0)\n",
            "Requirement already satisfied: tqdm<5.0.0,>=4.38.0 in /usr/local/lib/python3.10/dist-packages (from spacy) (4.65.0)\n",
            "Requirement already satisfied: numpy>=1.15.0 in /usr/local/lib/python3.10/dist-packages (from spacy) (1.22.4)\n",
            "Requirement already satisfied: requests<3.0.0,>=2.13.0 in /usr/local/lib/python3.10/dist-packages (from spacy) (2.27.1)\n",
            "Requirement already satisfied: pydantic!=1.8,!=1.8.1,<1.11.0,>=1.7.4 in /usr/local/lib/python3.10/dist-packages (from spacy) (1.10.7)\n",
            "Requirement already satisfied: jinja2 in /usr/local/lib/python3.10/dist-packages (from spacy) (3.1.2)\n",
            "Requirement already satisfied: setuptools in /usr/local/lib/python3.10/dist-packages (from spacy) (67.7.2)\n",
            "Requirement already satisfied: packaging>=20.0 in /usr/local/lib/python3.10/dist-packages (from spacy) (23.1)\n",
            "Requirement already satisfied: langcodes<4.0.0,>=3.2.0 in /usr/local/lib/python3.10/dist-packages (from spacy) (3.3.0)\n",
            "Requirement already satisfied: typing-extensions>=4.2.0 in /usr/local/lib/python3.10/dist-packages (from pydantic!=1.8,!=1.8.1,<1.11.0,>=1.7.4->spacy) (4.5.0)\n",
            "Requirement already satisfied: urllib3<1.27,>=1.21.1 in /usr/local/lib/python3.10/dist-packages (from requests<3.0.0,>=2.13.0->spacy) (1.26.15)\n",
            "Requirement already satisfied: certifi>=2017.4.17 in /usr/local/lib/python3.10/dist-packages (from requests<3.0.0,>=2.13.0->spacy) (2022.12.7)\n",
            "Requirement already satisfied: charset-normalizer~=2.0.0 in /usr/local/lib/python3.10/dist-packages (from requests<3.0.0,>=2.13.0->spacy) (2.0.12)\n",
            "Requirement already satisfied: idna<4,>=2.5 in /usr/local/lib/python3.10/dist-packages (from requests<3.0.0,>=2.13.0->spacy) (3.4)\n",
            "Requirement already satisfied: blis<0.8.0,>=0.7.8 in /usr/local/lib/python3.10/dist-packages (from thinc<8.2.0,>=8.1.8->spacy) (0.7.9)\n",
            "Requirement already satisfied: confection<1.0.0,>=0.0.1 in /usr/local/lib/python3.10/dist-packages (from thinc<8.2.0,>=8.1.8->spacy) (0.0.4)\n",
            "Requirement already satisfied: click<9.0.0,>=7.1.1 in /usr/local/lib/python3.10/dist-packages (from typer<0.8.0,>=0.3.0->spacy) (8.1.3)\n",
            "Requirement already satisfied: MarkupSafe>=2.0 in /usr/local/lib/python3.10/dist-packages (from jinja2->spacy) (2.1.2)\n"
          ]
        }
      ]
    },
    {
      "cell_type": "code",
      "source": [
        "! python3 -m spacy download en_core_web_sm"
      ],
      "metadata": {
        "id": "Tg_fEomTDwWp",
        "outputId": "d0720dd6-270f-4a09-a1fc-ca47cb158b4b",
        "colab": {
          "base_uri": "https://localhost:8080/"
        }
      },
      "execution_count": null,
      "outputs": [
        {
          "output_type": "stream",
          "name": "stdout",
          "text": [
            "2023-05-10 19:07:53.543241: I tensorflow/core/platform/cpu_feature_guard.cc:182] This TensorFlow binary is optimized to use available CPU instructions in performance-critical operations.\n",
            "To enable the following instructions: AVX2 FMA, in other operations, rebuild TensorFlow with the appropriate compiler flags.\n",
            "2023-05-10 19:07:54.895004: W tensorflow/compiler/tf2tensorrt/utils/py_utils.cc:38] TF-TRT Warning: Could not find TensorRT\n",
            "Looking in indexes: https://pypi.org/simple, https://us-python.pkg.dev/colab-wheels/public/simple/\n",
            "Collecting en-core-web-sm==3.5.0\n",
            "  Downloading https://github.com/explosion/spacy-models/releases/download/en_core_web_sm-3.5.0/en_core_web_sm-3.5.0-py3-none-any.whl (12.8 MB)\n",
            "\u001b[2K     \u001b[90m━━━━━━━━━━━━━━━━━━━━━━━━━━━━━━━━━━━━━━━━\u001b[0m \u001b[32m12.8/12.8 MB\u001b[0m \u001b[31m54.4 MB/s\u001b[0m eta \u001b[36m0:00:00\u001b[0m\n",
            "\u001b[?25hRequirement already satisfied: spacy<3.6.0,>=3.5.0 in /usr/local/lib/python3.10/dist-packages (from en-core-web-sm==3.5.0) (3.5.2)\n",
            "Requirement already satisfied: spacy-legacy<3.1.0,>=3.0.11 in /usr/local/lib/python3.10/dist-packages (from spacy<3.6.0,>=3.5.0->en-core-web-sm==3.5.0) (3.0.12)\n",
            "Requirement already satisfied: spacy-loggers<2.0.0,>=1.0.0 in /usr/local/lib/python3.10/dist-packages (from spacy<3.6.0,>=3.5.0->en-core-web-sm==3.5.0) (1.0.4)\n",
            "Requirement already satisfied: murmurhash<1.1.0,>=0.28.0 in /usr/local/lib/python3.10/dist-packages (from spacy<3.6.0,>=3.5.0->en-core-web-sm==3.5.0) (1.0.9)\n",
            "Requirement already satisfied: cymem<2.1.0,>=2.0.2 in /usr/local/lib/python3.10/dist-packages (from spacy<3.6.0,>=3.5.0->en-core-web-sm==3.5.0) (2.0.7)\n",
            "Requirement already satisfied: preshed<3.1.0,>=3.0.2 in /usr/local/lib/python3.10/dist-packages (from spacy<3.6.0,>=3.5.0->en-core-web-sm==3.5.0) (3.0.8)\n",
            "Requirement already satisfied: thinc<8.2.0,>=8.1.8 in /usr/local/lib/python3.10/dist-packages (from spacy<3.6.0,>=3.5.0->en-core-web-sm==3.5.0) (8.1.9)\n",
            "Requirement already satisfied: wasabi<1.2.0,>=0.9.1 in /usr/local/lib/python3.10/dist-packages (from spacy<3.6.0,>=3.5.0->en-core-web-sm==3.5.0) (1.1.1)\n",
            "Requirement already satisfied: srsly<3.0.0,>=2.4.3 in /usr/local/lib/python3.10/dist-packages (from spacy<3.6.0,>=3.5.0->en-core-web-sm==3.5.0) (2.4.6)\n",
            "Requirement already satisfied: catalogue<2.1.0,>=2.0.6 in /usr/local/lib/python3.10/dist-packages (from spacy<3.6.0,>=3.5.0->en-core-web-sm==3.5.0) (2.0.8)\n",
            "Requirement already satisfied: typer<0.8.0,>=0.3.0 in /usr/local/lib/python3.10/dist-packages (from spacy<3.6.0,>=3.5.0->en-core-web-sm==3.5.0) (0.7.0)\n",
            "Requirement already satisfied: pathy>=0.10.0 in /usr/local/lib/python3.10/dist-packages (from spacy<3.6.0,>=3.5.0->en-core-web-sm==3.5.0) (0.10.1)\n",
            "Requirement already satisfied: smart-open<7.0.0,>=5.2.1 in /usr/local/lib/python3.10/dist-packages (from spacy<3.6.0,>=3.5.0->en-core-web-sm==3.5.0) (6.3.0)\n",
            "Requirement already satisfied: tqdm<5.0.0,>=4.38.0 in /usr/local/lib/python3.10/dist-packages (from spacy<3.6.0,>=3.5.0->en-core-web-sm==3.5.0) (4.65.0)\n",
            "Requirement already satisfied: numpy>=1.15.0 in /usr/local/lib/python3.10/dist-packages (from spacy<3.6.0,>=3.5.0->en-core-web-sm==3.5.0) (1.22.4)\n",
            "Requirement already satisfied: requests<3.0.0,>=2.13.0 in /usr/local/lib/python3.10/dist-packages (from spacy<3.6.0,>=3.5.0->en-core-web-sm==3.5.0) (2.27.1)\n",
            "Requirement already satisfied: pydantic!=1.8,!=1.8.1,<1.11.0,>=1.7.4 in /usr/local/lib/python3.10/dist-packages (from spacy<3.6.0,>=3.5.0->en-core-web-sm==3.5.0) (1.10.7)\n",
            "Requirement already satisfied: jinja2 in /usr/local/lib/python3.10/dist-packages (from spacy<3.6.0,>=3.5.0->en-core-web-sm==3.5.0) (3.1.2)\n",
            "Requirement already satisfied: setuptools in /usr/local/lib/python3.10/dist-packages (from spacy<3.6.0,>=3.5.0->en-core-web-sm==3.5.0) (67.7.2)\n",
            "Requirement already satisfied: packaging>=20.0 in /usr/local/lib/python3.10/dist-packages (from spacy<3.6.0,>=3.5.0->en-core-web-sm==3.5.0) (23.1)\n",
            "Requirement already satisfied: langcodes<4.0.0,>=3.2.0 in /usr/local/lib/python3.10/dist-packages (from spacy<3.6.0,>=3.5.0->en-core-web-sm==3.5.0) (3.3.0)\n",
            "Requirement already satisfied: typing-extensions>=4.2.0 in /usr/local/lib/python3.10/dist-packages (from pydantic!=1.8,!=1.8.1,<1.11.0,>=1.7.4->spacy<3.6.0,>=3.5.0->en-core-web-sm==3.5.0) (4.5.0)\n",
            "Requirement already satisfied: urllib3<1.27,>=1.21.1 in /usr/local/lib/python3.10/dist-packages (from requests<3.0.0,>=2.13.0->spacy<3.6.0,>=3.5.0->en-core-web-sm==3.5.0) (1.26.15)\n",
            "Requirement already satisfied: certifi>=2017.4.17 in /usr/local/lib/python3.10/dist-packages (from requests<3.0.0,>=2.13.0->spacy<3.6.0,>=3.5.0->en-core-web-sm==3.5.0) (2022.12.7)\n",
            "Requirement already satisfied: charset-normalizer~=2.0.0 in /usr/local/lib/python3.10/dist-packages (from requests<3.0.0,>=2.13.0->spacy<3.6.0,>=3.5.0->en-core-web-sm==3.5.0) (2.0.12)\n",
            "Requirement already satisfied: idna<4,>=2.5 in /usr/local/lib/python3.10/dist-packages (from requests<3.0.0,>=2.13.0->spacy<3.6.0,>=3.5.0->en-core-web-sm==3.5.0) (3.4)\n",
            "Requirement already satisfied: blis<0.8.0,>=0.7.8 in /usr/local/lib/python3.10/dist-packages (from thinc<8.2.0,>=8.1.8->spacy<3.6.0,>=3.5.0->en-core-web-sm==3.5.0) (0.7.9)\n",
            "Requirement already satisfied: confection<1.0.0,>=0.0.1 in /usr/local/lib/python3.10/dist-packages (from thinc<8.2.0,>=8.1.8->spacy<3.6.0,>=3.5.0->en-core-web-sm==3.5.0) (0.0.4)\n",
            "Requirement already satisfied: click<9.0.0,>=7.1.1 in /usr/local/lib/python3.10/dist-packages (from typer<0.8.0,>=0.3.0->spacy<3.6.0,>=3.5.0->en-core-web-sm==3.5.0) (8.1.3)\n",
            "Requirement already satisfied: MarkupSafe>=2.0 in /usr/local/lib/python3.10/dist-packages (from jinja2->spacy<3.6.0,>=3.5.0->en-core-web-sm==3.5.0) (2.1.2)\n",
            "\u001b[38;5;2m✔ Download and installation successful\u001b[0m\n",
            "You can now load the package via spacy.load('en_core_web_sm')\n"
          ]
        }
      ]
    },
    {
      "cell_type": "code",
      "source": [
        "import logging\n",
        "import spacy\n",
        "nlp = spacy.load('en_core_web_sm')\n",
        "nlp.disable_pipes(\"parser\", \"ner\")"
      ],
      "metadata": {
        "id": "1k9yNADPFoix",
        "outputId": "4cc40e11-51a4-4014-d458-bca168415412",
        "colab": {
          "base_uri": "https://localhost:8080/"
        }
      },
      "execution_count": null,
      "outputs": [
        {
          "output_type": "execute_result",
          "data": {
            "text/plain": [
              "['parser', 'ner']"
            ]
          },
          "metadata": {},
          "execution_count": 44
        }
      ]
    },
    {
      "cell_type": "markdown",
      "metadata": {
        "id": "5ayoKk0DDThf"
      },
      "source": [
        "# Datenset: Zufällig ausgewählte"
      ]
    },
    {
      "cell_type": "code",
      "execution_count": null,
      "metadata": {
        "id": "izaArcRJDThf",
        "outputId": "dc239c1f-bc41-438a-945c-0004fdb50681",
        "colab": {
          "base_uri": "https://localhost:8080/"
        }
      },
      "outputs": [
        {
          "output_type": "stream",
          "name": "stdout",
          "text": [
            "  % Total    % Received % Xferd  Average Speed   Time    Time     Time  Current\n",
            "                                 Dload  Upload   Total   Spent    Left  Speed\n",
            "100 15.1M  100 15.1M    0     0  8286k      0  0:00:01  0:00:01 --:--:-- 8282k\n"
          ]
        }
      ],
      "source": [
        "! curl https://files.ifi.uzh.ch/cl/siclemat/lehre/fs23/bibliosuisse/data/zora-eng-dewey.fasttext.tsv -o zora-eng-dewey.fasttext.tsv"
      ]
    },
    {
      "cell_type": "markdown",
      "metadata": {
        "id": "UmQL4uuiDThh"
      },
      "source": [
        "### Format des Datensets \n",
        " - Pro tabulator-separierte Zeile gibt es 2 Spalten\n",
        " - Spalte 1: Deweylabels\n",
        " - Spalte 2: Titel und Abstract untokenisiert"
      ]
    },
    {
      "cell_type": "code",
      "execution_count": null,
      "metadata": {
        "id": "oBRIuu9LDThh",
        "outputId": "da20527b-05a2-4e8b-de8a-f8659049e677",
        "colab": {
          "base_uri": "https://localhost:8080/"
        }
      },
      "outputs": [
        {
          "output_type": "stream",
          "name": "stdout",
          "text": [
            "__label__300\tOrangutan activity budgets and diet: a comparison between species, populations and habitats The chapter examines differences in the activity budgets of wild orangutans (Pongo spp.) within and between a large number of study sites in Sumatra and Borneo. The authors of the chapter found that each orangutan population appeared to follow one of two distinct foraging strategies: either (1) ‘sit and wait’, in which orangutans aim to minimize their energy expenditure by spending long periods of time resting and relatively short periods feeding and travelling; or (2) ‘search and find’ in which orangutans aim to maximize their energy intake by resting little and mainly feeding or moving in search of food. Orangutans adopt the first strategy in mixed-dipterocarp forests characterized by mast-fruiting events and irregular fruit availability; and adopt the second strategy in swamp forests with a regular supply of fruit, or in dryland forests with high strangling-fig density. The chapter proposes that the determining factor for which strategy is adopted is the temporal availability of fruit in the habitat, as opposed to other possibilities such as orangutan taxonomy.\n",
            "__label__570\tKnowledge-based design of reagentless fluorescent biosensors from a designed ankyrin repeat protein Designed ankyrin repeat proteins (DARPins) can be selected from combinatorial libraries to bind any target antigen. They show high levels of recombinant expression, solubility and stability, and contain no cysteine residue. The possibility of obtaining, from any DARPin and at high yields, fluorescent conjugates which respond to the binding of the antigen by a variation of fluorescence, would have numerous applications in micro- and nano-analytical sciences. This possibility was explored with Off7, a DARPin directed against the maltose binding protein (MalE) from Escherichia coli, with known crystal structure of the complex. Eight residues of Off7, whose solvent accessible surface area varies on association with the antigen but which are not in direct contact with the antigen, were individually mutated into cysteine and then chemically coupled with a fluorophore. The conjugates were ranked according to their relative sensitivities. All of them showed an increase in their fluorescence intensity on antigen binding by >1.7-fold. The best conjugate retained the same affinity as the parental DARPin. Its signal increased linearly and specifically with the concentration of antigen, up to 15-fold in buffer and 3-fold in serum when fully saturated, the difference being mainly due to the absorption of light by serum. Its lower limit of detection was equal to 0.3 nM with a standard spectrofluorometer. Titrations with potassium iodide indicated that the fluorescence variation was due to a shielding of the fluorescent group from the solvent by the antigen. These results suggest rules for the design of reagentless fluorescent biosensors from any DARPin.\n",
            "__label__150\tInterpersonal Problems Associated With Multidimensional Personality Questionnaire Traits in Women During the Transition to Adulthood Personality traits are known to be associated with a host of important life outcomes, including interpersonal dysfunction. The interpersonal circumplex offers a comprehensive system for articulating the kinds of interpersonal problems associated with personality traits. In the current study, traits as measured by the Multidimensional Personality Questionnaire in a sample of 124 young women were correlated with interpersonal dysfunction as measured by the Inventory of Interpersonal Problems–Circumplex. Results suggest that Multidimensional Personality Questionnaire traits vary in their associations with interpersonal distress and in their coverage of specific kinds of interpersonal difficulties among women undergoing the transition to adulthood.\n",
            "__label__330\tStructural Change and the Kaldor Facts of Economic Growth \"We present a model in which two of the most important features of the long-run growth process are reconciled: the massive changes in the structure of production and employment; and the Kaldor facts of economic growth. We assume that households expand their consumption along a hierarchy of needs and firms introduce continuously new products. In equilibrium industries with an expanding and those with a declining employment share co-exist, and each such industry goes (or has already gone) through a cycle of take-off, maturity, and stagnation. Nonetheless macroeconomic aggregates grow pari passu at a constant rate.\"\n",
            "__label__150\tMalingering on the Personality Assessment Inventory: Identification of Specific Feigned Disorders Profile validity is a primary consideration in the clinical assessment of psychopathology. Several indicators of negative impression management have been developed for the Personality Assessment Inventory (PAI; Morey, 1991) that can both indicate its presence and help differentiate effortful negative distortion from distortion arising from cognitive sets associated with psychopathology. In this study, we tested a method designed to delineate the specific Clinical scales relevant for interpretation of deliberately feigned disorders. We used associations between the Negative Impression Management (NIM) scale and Clinical scales in the normative standardization sample to derive NIM predicted scale scores in a regression framework. We contrasted these predicted scores with observed scores on Clinical scales to yield NIM predicted discrepancies hypothesized to identify those Clinical scales most salient for the interpretation of negative distortion. We found this method to be effective in identifying particular distortion on the relevant scales for individuals attempting to feign 3 specific diagnoses (major depressive disorder, generalized anxiety disorder, and schizophrenia).\n",
            "__label__570\tMultiple requirements for the receptor serine/threonine kinase thick veins reveal novel functions of TGF beta homologs during Drosophila embryogenesis. Differentiation of distinct cell types at specific locations within a developing organism depends largely on the ability of cells to communicate. A major class of signalling proteins implicated in cell to cell communication is represented by members of the TGF beta superfamily. A corresponding class of transmembrane serine/threonine kinases has recently been discovered that act as cell surface receptors for ligands of the TGF beta superfamily. The product of the Drosophila gene decapentaplegic (dpp) encodes a TGF beta homolog that plays multiple roles during embryogenesis and the development of imaginal discs. Here we describe the complex expression pattern of thick veins (tkv), which encodes a receptor for dpp. We make use of tkv loss-of-function mutations to examine the consequences of the failure of embryonic cells to respond to dpp and/or other TGF beta homologs. We find that while maternal tkv product allows largely normal dorsoventral pattering of the embryo, zygotic tkv activity is indispensable for dorsal closure of the embryo after germ band retraction. Furthermore, tkv activity is crucial for patterning the visceral mesoderm; in the absence of functional tkv gene product, visceral mesoderm parasegment 7 cells fail to express Ultrabithorax, but instead accumulate Antennapedia protein. The tkv receptor is therefore involved in delimiting the expression domains of homeotic genes in the visceral mesoderm. Interestingly, tkv mutants fail to establish a proper tracheal network. Tracheal braches formed by cells migrating in dorsal or ventral directions are absent in tkv mutants. The requirements for tkv in dorsal closure, visceral mesoderm and trachea development assign novel functions to dpp or a closely related member of the TGF beta superfamily.\n",
            "__label__610\tVasodilators and low-dose acetylsalicylic acid are associated with a lower incidence of distinct primary myocardial disease manifestations in systemic sclerosis: results of the DeSScipher inception cohort study OBJECTIVES To investigate the influence of vasodilator drugs on the occurrence of features depending on myocardial ischaemia/fibrosis (ventricular arrhythmias, Q waves, cardiac blocks, pacemaker implantation, left ventricular ejection fraction (LVEF) <55%, and/or congestive heart failure and sudden cardiac death) in systemic sclerosis (SSc). METHODS 601 patients with SSc were enrolled from 1 December 2012 to 30 November 2015 and had a second visit 0.5-4 years apart. 153 received no vasodilators; 448 received vasodilator therapy (ie, calcium channel blockers and/or ACE inhibitors or angiotensin II receptor blockers or combinations of them), 89 of them being also treated with either endothelin receptor antagonists or PDE5 inhibitors or prostanoids. Associations between the occurrence of myocardial disease manifestations and any demographic, disease and therapeutic aspect were investigated by Cox regression analysis. A Cox frailty survival model with centre of enrolment as random effect was performed. RESULTS During 914 follow-up patient-years, 12 ventricular arrhythmias, 5 Q waves, 40 cardiac blocks, 6 pacemaker implantations and 19 reduced LVEF and/or congestive heart failure (CHF) occurred. In multivariate Cox regression analysis, vasodilator therapy was associated with a lower incidence of ventricular arrhythmias (p=0.03); low-dose acetylsalicylic acid (ASA) with a lower incidence of cardiac blocks and/or Q waves and/or pacemaker implantation (p=0.02); active disease with a higher incidence of LVEF <55% and/or CHF and cardiac blocks and/or Q waves and/or pacemaker implantation (p=0.05). CONCLUSIONS The present study might suggest a preventative effect on the occurrence of distinct myocardial manifestations by vasodilator therapy and low-dose ASA.\n",
            "__label__610\tAdjuvant treatment of resectable biliary tract cancer with cisplatin plus gemcitabine: A prospective single center phase II study BACKGROUND Biliary tract cancer (BTC) is a dismal disease, even after curative intent surgery. We conducted this prospective, non-randomized phase II study to evaluate the feasibility and efficacy of cisplatin and gemcitabine as adjuvant treatment in patients with resected BTC. METHODS Patients initially received gemcitabine 1000 mg/m2 alone on days 1, 8 and 15 every 28-days for a total of six cycles (single agent cohort), and after protocol amendment a combination therapy with gemcitabine 1000 mg/m2 and cisplatin 25 mg/m2 on days 1 and 8 was administered every 21 days for a total of eight cycles (combined regimen cohort). Treatment was planned to start within eight weeks after curative intent resection. Adverse events, disease-free survival and overall survival were assessed. RESULTS Overall 30 patients were enrolled in the study from August 2008 and last patient was enrolled at 2nd December 2014. The follow-up of the patients ended at 31st December 2016. The first 9 patients received single-agent gemcitabine. The interim analysis met the predefined feasibility criteria and, from September 2010 on, the second group of 21 patients received the combination of cisplatin plus gemcitabine. In the single-agent cohort with gemcitabine the median relative dose intensity (RDI) was 100% (IQR 88.3-100). Patients treated with the combination cisplatin-gemcitabine received an overall median RDI of 100% (IQR 50-100) for cisplatin and 100% (IQR 75-100) for gemcitabine respectively. The most significant non-hematological adverse events (grade 3 or 4) were fatigue (20%), infections during neutropenia (10%), and two cases of biliary sepsis (7%). Abnormal liver function was seen in 10% of the patients. One patient died due to infectious complications during treatment with cisplatin and gemcitabine. The median disease-free survival (DFS) was 14.9 months (95% CI 0-33.8) with a corresponding 3-year DFS of 43.1 ± 9.1%. The median overall survival (OS) was 40.6 months (95% CI 18.8-62.3) with a 3-year OS of 55.7 ± 9.2%. No statistically significant differences in survival were seen between the two treatment cohorts. CONCLUSION Adjuvant chemotherapy with gemcitabine with or without cisplatin was well tolerated and resulted in promising survival of the patients. TRIAL REGISTRATION The study was retrospectively registered on 25th June 2009 at clinicaltrials.gov ( NCT01073839 ).\n",
            "__label__570 __label__610\tThe prion protein is an agonistic ligand of the G protein-coupled receptor Adgrg6 Ablation of the cellular prion protein PrPC leads to a chronic demyelinating polyneuropathy affecting Schwann cells. Neuron-restricted expression of PrPC prevents the disease1, suggesting that PrPC acts in trans through an unidentified Schwann cell receptor. Here we show that the cAMP concentration in sciatic nerves from PrPC-deficient mice is reduced, suggesting that PrPC acts via a G protein-coupled receptor (GPCR). The amino-terminal flexible tail (residues 23–120) of PrPC triggered a concentration-dependent increase in cAMP in primary Schwann cells, in the Schwann cell line SW10, and in HEK293T cells overexpressing the GPCR Adgrg6 (also known as Gpr126). By contrast, naive HEK293T cells and HEK293T cells expressing several other GPCRs did not react to the flexible tail, and ablation of Gpr126 from SW10 cells abolished the flexible tail-induced cAMP response. The flexible tail contains a polycationic cluster (KKRPKPG) similar to the GPRGKPG motif of the Gpr126 agonist type-IV collagen2. A KKRPKPG-containing PrPC-derived peptide (FT23–50) sufficed to induce a Gpr126-dependent cAMP response in cells and mice, and improved myelination in hypomorphic gpr126 mutant zebrafish (Danio rerio). Substitution of the cationic residues with alanines abolished the biological activity of both FT23–50 and the equivalent type-IV collagen peptide. We conclude that PrPC promotes myelin homeostasis through flexible tail-mediated Gpr126 agonism. As well as clarifying the physiological role of PrPC, these observations are relevant to the pathogenesis of demyelinating polyneuropathies—common debilitating diseases for which there are limited therapeutic options.\n",
            "__label__570 __label__610\tBend, Push, Stretch: Remarkable Structure and Mechanics of Single Intermediate Filaments and Meshworks The cytoskeleton of the eukaryotic cell provides a structural and functional scaffold enabling biochemical and cellular functions. While actin and microtubules form the main framework of the cell, intermediate filament networks provide unique mechanical properties that increase the resilience of both the cytoplasm and the nucleus, thereby maintaining cellular function while under mechanical pressure. Intermediate filaments (IFs) are imperative to a plethora of regulatory and signaling functions in mechanotransduction. Mutations in all types of IF proteins are known to affect the architectural integrity and function of cellular processes, leading to debilitating diseases. The basic building block of all IFs are elongated α-helical coiled-coils that assemble hierarchically into complex meshworks. A remarkable mechanical feature of IFs is the capability of coiled-coils to metamorphize into β-sheets under stress, making them one of the strongest and most resilient mechanical entities in nature. Here, we discuss structural and mechanical aspects of IFs with a focus on nuclear lamins and vimentin.\n"
          ]
        }
      ],
      "source": [
        "! head -n 10 zora-eng-dewey.fasttext.tsv"
      ]
    },
    {
      "cell_type": "markdown",
      "source": [
        "### Statistiken zum Datenset"
      ],
      "metadata": {
        "id": "z6MnzVp7E_sB"
      }
    },
    {
      "cell_type": "code",
      "execution_count": null,
      "metadata": {
        "id": "lL2yiOGADThi",
        "outputId": "7b2da6aa-1023-4dbd-f188-159c0f245152",
        "colab": {
          "base_uri": "https://localhost:8080/"
        }
      },
      "outputs": [
        {
          "output_type": "stream",
          "name": "stdout",
          "text": [
            "   10267  2270564 15910028 zora-eng-dewey.fasttext.tsv\n"
          ]
        }
      ],
      "source": [
        "! wc zora-eng-dewey.fasttext.tsv"
      ]
    },
    {
      "cell_type": "code",
      "execution_count": null,
      "metadata": {
        "id": "K6eXxVbBDThj",
        "outputId": "1267a0d2-8864-4397-8798-af43dfebe0fd",
        "colab": {
          "base_uri": "https://localhost:8080/"
        }
      },
      "outputs": [
        {
          "output_type": "stream",
          "name": "stdout",
          "text": [
            "   4020 __label__610\n",
            "    927 __label__570 __label__610\n",
            "    603 __label__570\n",
            "    537 __label__330\n",
            "    447 __label__150\n",
            "    440 __label__530\n",
            "    355 __label__910\n",
            "    328 __label__570 __label__590\n",
            "    288 __label__570 __label__630\n",
            "    260 __label__540\n",
            "    226 __label__000\n",
            "    193 __label__510\n",
            "    180 __label__580\n",
            "    130 __label__170 __label__610\n",
            "    112 __label__300\n",
            "    104 __label__320\n",
            "     83 __label__142 __label__610\n",
            "     77 __label__560\n",
            "     65 __label__370\n",
            "     65 __label__070\n",
            "     57 __label__000 __label__410\n",
            "     50 __label__142\n",
            "     47 __label__820\n",
            "     46 __label__142 __label__570 __label__610\n",
            "     41 __label__340 __label__610\n",
            "     40 __label__570 __label__610 __label__600\n",
            "     40 __label__100\n",
            "     37 __label__610 __label__540\n",
            "     37 __label__340\n",
            "     28 __label__800 __label__470 __label__410 __label__440 __label__460 __label__450\n",
            "     26 __label__490 __label__890 __label__410\n",
            "     23 __label__900\n",
            "     19 __label__170 __label__330\n",
            "     17 __label__340 __label__610 __label__510\n",
            "     16 __label__790 __label__390 __label__300\n",
            "     13 __label__700 __label__900\n",
            "     13 __label__700\n",
            "     13 __label__570 __label__170 __label__610\n",
            "     10 __label__950\n",
            "     10 __label__180 __label__290\n",
            "     10 __label__142 __label__570\n",
            "     10 __label__142 __label__530\n",
            "      9 __label__490 __label__410\n",
            "      9 __label__470 __label__480\n",
            "      8 __label__570 __label__610 __label__540\n",
            "      8 __label__430\n",
            "      8 __label__300 __label__390\n",
            "      8 __label__142 __label__150\n",
            "      7 __label__570 __label__590 __label__610\n",
            "      7 __label__150 __label__610\n",
            "      6 __label__200 __label__290 __label__930\n",
            "      6 __label__170\n",
            "      5 __label__630\n",
            "      5 __label__570 __label__150 __label__610\n",
            "      5 __label__230\n",
            "      5 __label__142 __label__580\n",
            "      5 __label__000 __label__820 __label__410\n",
            "      4 __label__200\n",
            "      4 __label__142 __label__570 __label__610 __label__600\n",
            "      4 __label__142 __label__330\n",
            "      3 __label__950 __label__180 __label__910\n",
            "      3 __label__950 __label__180\n",
            "      3 __label__570 __label__590 __label__580\n",
            "      3 __label__570 __label__580 __label__610\n",
            "      3 __label__570 __label__580\n",
            "      3 __label__470 __label__410 __label__450 __label__800 __label__440 __label__460\n",
            "      3 __label__410 __label__000\n",
            "      3 __label__360 __label__610 __label__300\n",
            "      3 __label__320 __label__950 __label__180\n",
            "      3 __label__320 __label__340 __label__900\n",
            "      3 __label__320 __label__340\n",
            "      3 __label__230 __label__200\n",
            "      3 __label__142 __label__910\n",
            "      3 __label__100 __label__170\n",
            "      2 __label__950 __label__290 __label__180\n",
            "      2 __label__570 __label__600 __label__610\n",
            "      2 __label__370 __label__300\n",
            "      2 __label__170 __label__340 __label__610\n",
            "      2 __label__150 __label__300\n",
            "      2 __label__150 __label__170 __label__610\n",
            "      2 __label__142 __label__510\n",
            "      2 __label__142 __label__000\n",
            "      1 __label__950 __label__180 __label__290\n",
            "      1 __label__910 __label__921\n",
            "      1 __label__900 __label__330\n",
            "      1 __label__820 __label__410 __label__000\n",
            "      1 __label__790 __label__390 __label__950 __label__300 __label__180\n",
            "      1 __label__610 __label__540 __label__330\n",
            "      1 __label__610 __label__360 __label__300\n",
            "      1 __label__570 __label__610 __label__630\n",
            "      1 __label__570 __label__610 __label__600 __label__510\n",
            "      1 __label__570 __label__610 __label__510\n",
            "      1 __label__570 __label__610 __label__330\n",
            "      1 __label__570 __label__590 __label__540\n",
            "      1 __label__570 __label__590 __label__300\n",
            "      1 __label__570 __label__540\n",
            "      1 __label__570 __label__490 __label__590 __label__890 __label__410\n",
            "      1 __label__570 __label__490 __label__150 __label__890 __label__410 __label__610\n",
            "      1 __label__570 __label__150 __label__170 __label__610\n",
            "      1 __label__490 __label__800 __label__890\n",
            "      1 __label__410 __label__440 __label__450 __label__460 __label__470 __label__800 __label__810 __label__820 __label__830 __label__840 __label__850 __label__860\n",
            "      1 __label__410\n",
            "      1 __label__400 __label__410\n",
            "      1 __label__400 __label__150 __label__370\n",
            "      1 __label__390 __label__950 __label__300 __label__790 __label__180\n",
            "      1 __label__390 __label__300 __label__790\n",
            "      1 __label__360 __label__300\n",
            "      1 __label__340 __label__300\n",
            "      1 __label__330 __label__510\n",
            "      1 __label__320 __label__330 __label__200\n",
            "      1 __label__320 __label__070\n",
            "      1 __label__320 __label__000 __label__410\n",
            "      1 __label__300 __label__610\n",
            "      1 __label__300 __label__580\n",
            "      1 __label__300 __label__390 __label__610 __label__960\n",
            "      1 __label__300 __label__330\n",
            "      1 __label__300 __label__000\n",
            "      1 __label__230 __label__170\n",
            "      1 __label__200 __label__300\n",
            "      1 __label__200 __label__290 __label__900 __label__930\n",
            "      1 __label__180\n",
            "      1 __label__170 __label__300 __label__320 __label__390\n",
            "      1 __label__170 __label__300\n",
            "      1 __label__150 __label__400 __label__410 __label__490\n",
            "      1 __label__142 __label__900\n",
            "      1 __label__142 __label__800 __label__470 __label__410 __label__440 __label__460 __label__450\n",
            "      1 __label__142 __label__570 __label__590\n",
            "      1 __label__142 __label__340 __label__610\n",
            "      1 __label__142 __label__320\n",
            "      1 __label__142 __label__300\n",
            "      1 __label__142 __label__170 __label__610\n",
            "      1 __label__000 __label__610\n",
            "      1 __label__000 __label__570 __label__610 __label__300\n",
            "      1 __label__000 __label__490 __label__890 __label__410\n",
            "      1 __label__000 __label__330\n"
          ]
        }
      ],
      "source": [
        "!  cut -f 1 < zora-eng-dewey.fasttext.tsv | sort | uniq -c | sort -rn "
      ]
    },
    {
      "cell_type": "code",
      "source": [
        "def lemmatize_tsv(inputfile, outputfile, spacy_nlp, limit=999999):\n",
        "    with open(outputfile,\"w\",encoding=\"utf-8\")as output:\n",
        "        with open(inputfile,\"r\",encoding=\"utf-8\") as input:\n",
        "            for i,line in enumerate(input):\n",
        "                labels, text = line.strip().split(\"\\t\")\n",
        "                doc = nlp(text)\n",
        "                print(labels,' '.join(token.lemma_ for token in doc).lower(),sep=\"\\t\",file=output)\n",
        "                if i > limit:\n",
        "                    break\n",
        "                if i % 100 == 0:\n",
        "                    print(f\"Processed {i} records\")\n"
      ],
      "metadata": {
        "id": "OUqaKnqKFGl1"
      },
      "execution_count": null,
      "outputs": []
    },
    {
      "cell_type": "code",
      "source": [
        "lemmatize_tsv(\"zora-eng-dewey.fasttext.tsv\",\"zora-eng-dewey-10.lemmatized.fasttext.tsv\",nlp,limit=10)"
      ],
      "metadata": {
        "id": "6N2Y7-UEGwuD",
        "outputId": "9cb084fb-c4b0-4201-8dad-e33b9bca048b",
        "colab": {
          "base_uri": "https://localhost:8080/"
        }
      },
      "execution_count": null,
      "outputs": [
        {
          "output_type": "stream",
          "name": "stdout",
          "text": [
            "Processed 0 records\n"
          ]
        }
      ]
    },
    {
      "cell_type": "code",
      "source": [
        "! head zora-eng-dewey-10.lemmatized.fasttext.tsv"
      ],
      "metadata": {
        "id": "X7tvPloV1dXT",
        "outputId": "f6b9d6e4-1fc3-4f21-cad8-d75f10317218",
        "colab": {
          "base_uri": "https://localhost:8080/"
        }
      },
      "execution_count": null,
      "outputs": [
        {
          "output_type": "stream",
          "name": "stdout",
          "text": [
            "__label__300\torangutan activity budget and diet : a comparison between specie , population and habitat the chapter examine difference in the activity budget of wild orangutan ( pongo spp . ) within and between a large number of study site in sumatra and borneo . the author of the chapter find that each orangutan population appear to follow one of two distinct forage strategy : either ( 1 ) ' sit and wait ' , in which orangutan aim to minimize their energy expenditure by spend long period of time rest and relatively short period feed and travelling ; or ( 2 ) ' search and find ' in which orangutan aim to maximize their energy intake by rest little and mainly feed or move in search of food . orangutan adopt the first strategy in mixed - dipterocarp forest characterize by mast - fruit event and irregular fruit availability ; and adopt the second strategy in swamp forest with a regular supply of fruit , or in dryland forest with high strangle - fig density . the chapter propose that the determine factor for which strategy be adopt be the temporal availability of fruit in the habitat , as oppose to other possibility such as orangutan taxonomy .\n",
            "__label__570\tknowledge - base design of reagentless fluorescent biosensor from a design ankyrin repeat protein design ankyrin repeat protein ( darpins ) can be select from combinatorial library to bind any target antigen . they show high level of recombinant expression , solubility and stability , and contain no cysteine residue . the possibility of obtain , from any darpin and at high yield , fluorescent conjugate which respond to the binding of the antigen by a variation of fluorescence , would have numerous application in micro- and nano - analytical science . this possibility be explore with off7 , a darpin direct against the maltose bind protein ( male ) from escherichia coli , with know crystal structure of the complex . eight residue of off7 , whose solvent accessible surface area vary on association with the antigen but which be not in direct contact with the antigen , be individually mutate into cysteine and then chemically couple with a fluorophore . the conjugate be rank accord to their relative sensitivity . all of they show an increase in their fluorescence intensity on antigen bind by > 1.7 - fold . the good conjugate retain the same affinity as the parental darpin . its signal increase linearly and specifically with the concentration of antigen , up to 15 - fold in buffer and 3 - fold in serum when fully saturate , the difference be mainly due to the absorption of light by serum . its low limit of detection be equal to 0.3 nm with a standard spectrofluorometer . titration with potassium iodide indicate that the fluorescence variation be due to a shielding of the fluorescent group from the solvent by the antigen . these result suggest rule for the design of reagentless fluorescent biosensor from any darpin .\n",
            "__label__150\tinterpersonal problems associate with multidimensional personality questionnaire traits in woman during the transition to adulthood personality trait be know to be associate with a host of important life outcome , include interpersonal dysfunction . the interpersonal circumplex offer a comprehensive system for articulate the kind of interpersonal problem associate with personality trait . in the current study , trait as measure by the multidimensional personality questionnaire in a sample of 124 young woman be correlate with interpersonal dysfunction as measure by the inventory of interpersonal problems – circumplex . result suggest that multidimensional personality questionnaire trait vary in their association with interpersonal distress and in their coverage of specific kind of interpersonal difficulty among woman undergo the transition to adulthood .\n",
            "__label__330\tstructural change and the kaldor facts of economic growth \" we present a model in which two of the most important feature of the long - run growth process be reconcile : the massive change in the structure of production and employment ; and the kaldor fact of economic growth . we assume that household expand their consumption along a hierarchy of need and firm introduce continuously new product . in equilibrium industry with an expanding and those with a decline employment share co - exist , and each such industry go ( or have already go ) through a cycle of take - off , maturity , and stagnation . nonetheless macroeconomic aggregate grow pari passu at a constant rate . \"\n",
            "__label__150\tmalinger on the personality assessment inventory : identification of specific feigned disorders profile validity be a primary consideration in the clinical assessment of psychopathology . several indicator of negative impression management have be develop for the personality assessment inventory ( pai ; morey , 1991 ) that can both indicate its presence and help differentiate effortful negative distortion from distortion arise from cognitive set associate with psychopathology . in this study , we test a method design to delineate the specific clinical scale relevant for interpretation of deliberately feigned disorder . we use association between the negative impression management ( nim ) scale and clinical scale in the normative standardization sample to derive nim predict scale score in a regression framework . we contrast these predict score with observed score on clinical scale to yield nim predict discrepancy hypothesize to identify those clinical scale most salient for the interpretation of negative distortion . we find this method to be effective in identify particular distortion on the relevant scale for individual attempt to feign 3 specific diagnosis ( major depressive disorder , generalize anxiety disorder , and schizophrenia ) .\n",
            "__label__570\tmultiple requirement for the receptor serine / threonine kinase thick vein reveal novel function of tgf beta homolog during drosophila embryogenesis . differentiation of distinct cell type at specific location within a develop organism depend largely on the ability of cell to communicate . a major class of signal protein implicate in cell to cell communication be represent by member of the tgf beta superfamily . a corresponding class of transmembrane serine / threonine kinase have recently be discover that act as cell surface receptor for ligand of the tgf beta superfamily . the product of the drosophila gene decapentaplegic ( dpp ) encode a tgf beta homolog that play multiple role during embryogenesis and the development of imaginal disc . here we describe the complex expression pattern of thick vein ( tkv ) , which encode a receptor for dpp . we make use of tkv loss - of - function mutation to examine the consequence of the failure of embryonic cell to respond to dpp and/or other tgf beta homolog . we find that while maternal tkv product allow largely normal dorsoventral pattering of the embryo , zygotic tkv activity be indispensable for dorsal closure of the embryo after germ band retraction . furthermore , tkv activity be crucial for pattern the visceral mesoderm ; in the absence of functional tkv gene product , visceral mesoderm parasegment 7 cell fail to express ultrabithorax , but instead accumulate antennapedia protein . the tkv receptor be therefore involve in delimit the expression domain of homeotic gene in the visceral mesoderm . interestingly , tkv mutant fail to establish a proper tracheal network . tracheal brache form by cell migrate in dorsal or ventral direction be absent in tkv mutant . the requirement for tkv in dorsal closure , visceral mesoderm and trachea development assign novel function to dpp or a closely relate member of the tgf beta superfamily .\n",
            "__label__610\tvasodilator and low - dose acetylsalicylic acid be associate with a low incidence of distinct primary myocardial disease manifestation in systemic sclerosis : result of the desscipher inception cohort study objective to investigate the influence of vasodilator drug on the occurrence of feature depend on myocardial ischaemia / fibrosis ( ventricular arrhythmia , q wave , cardiac block , pacemaker implantation , leave ventricular ejection fraction ( lvef ) < 55 % , and/or congestive heart failure and sudden cardiac death ) in systemic sclerosis ( ssc ) . methods 601 patient with ssc be enrol from 1 december 2012 to 30 november 2015 and have a second visit 0.5 - 4 year apart . 153 receive no vasodilator ; 448 receive vasodilator therapy ( ie , calcium channel blocker and/or ace inhibitor or angiotensin ii receptor blocker or combination of they ) , 89 of they be also treat with either endothelin receptor antagonist or pde5 inhibitor or prostanoid . association between the occurrence of myocardial disease manifestation and any demographic , disease and therapeutic aspect be investigate by cox regression analysis . a cox frailty survival model with centre of enrolment as random effect be perform . results during 914 follow - up patient - year , 12 ventricular arrhythmia , 5 q wave , 40 cardiac block , 6 pacemaker implantation and 19 reduce lvef and/or congestive heart failure ( chf ) occur . in multivariate cox regression analysis , vasodilator therapy be associate with a low incidence of ventricular arrhythmia ( p=0.03 ) ; low - dose acetylsalicylic acid ( asa ) with a low incidence of cardiac block and/or q wave and/or pacemaker implantation ( p=0.02 ) ; active disease with a high incidence of lvef < 55 % and/or chf and cardiac block and/or q wave and/or pacemaker implantation ( p=0.05 ) . conclusion the present study might suggest a preventative effect on the occurrence of distinct myocardial manifestation by vasodilator therapy and low - dose asa .\n",
            "__label__610\tadjuvant treatment of resectable biliary tract cancer with cisplatin plus gemcitabine : a prospective single center phase ii study background biliary tract cancer ( btc ) be a dismal disease , even after curative intent surgery . we conduct this prospective , non - randomized phase ii study to evaluate the feasibility and efficacy of cisplatin and gemcitabine as adjuvant treatment in patient with resected btc . methods patient initially receive gemcitabine 1000 mg / m2 alone on day 1 , 8 and 15 every 28 - day for a total of six cycle ( single agent cohort ) , and after protocol amendment a combination therapy with gemcitabine 1000 mg / m2 and cisplatin 25 mg / m2 on day 1 and 8 be administer every 21 day for a total of eight cycle ( combine regimen cohort ) . treatment be plan to start within eight week after curative intent resection . adverse event , disease - free survival and overall survival be assess . result overall 30 patient be enrol in the study from august 2008 and last patient be enrol at 2nd december 2014 . the follow - up of the patient end at 31st december 2016 . the first 9 patient receive single - agent gemcitabine . the interim analysis meet the predefine feasibility criterion and , from september 2010 on , the second group of 21 patient receive the combination of cisplatin plus gemcitabine . in the single - agent cohort with gemcitabine the median relative dose intensity ( rdi ) be 100 % ( iqr 88.3 - 100 ) . patient treat with the combination cisplatin - gemcitabine receive an overall median rdi of 100 % ( iqr 50 - 100 ) for cisplatin and 100 % ( iqr 75 - 100 ) for gemcitabine respectively . the most significant non - hematological adverse event ( grade 3 or 4 ) be fatigue ( 20 % ) , infection during neutropenia ( 10 % ) , and two case of biliary sepsis ( 7 % ) . abnormal liver function be see in 10 % of the patient . one patient die due to infectious complication during treatment with cisplatin and gemcitabine . the median disease - free survival ( dfs ) be 14.9 month ( 95 % ci 0 - 33.8 ) with a corresponding 3 - year dfs of 43.1 ± 9.1 % . the median overall survival ( os ) be 40.6 month ( 95 % ci 18.8 - 62.3 ) with a 3 - year os of 55.7 ± 9.2 % . no statistically significant difference in survival be see between the two treatment cohort . conclusion adjuvant chemotherapy with gemcitabine with or without cisplatin be well tolerate and result in promise survival of the patient . trial registration the study be retrospectively register on 25th june 2009 at clinicaltrials.gov ( nct01073839 ) .\n",
            "__label__570 __label__610\tthe prion protein be an agonistic ligand of the g protein - couple receptor adgrg6 ablation of the cellular prion protein prpc lead to a chronic demyelinate polyneuropathy affect schwann cell . neuron - restrict expression of prpc prevent the disease1 , suggest that prpc act in tran through an unidentified schwann cell receptor . here we show that the camp concentration in sciatic nerve from prpc - deficient mouse be reduce , suggest that prpc act via a g protein - couple receptor ( gpcr ) . the amino - terminal flexible tail ( residue 23–120 ) of prpc trigger a concentration - dependent increase in camp in primary schwann cell , in the schwann cell line sw10 , and in hek293 t cell overexpresse the gpcr adgrg6 ( also know as gpr126 ) . by contrast , naive hek293 t cell and hek293 t cell express several other gpcr do not react to the flexible tail , and ablation of gpr126 from sw10 cell abolish the flexible tail - induce camp response . the flexible tail contain a polycationic cluster ( kkrpkpg ) similar to the gprgkpg motif of the gpr126 agonist type - iv collagen2 . a kkrpkpg - contain prpc - derive peptide ( ft23–50 ) suffice to induce a gpr126 - dependent camp response in cell and mouse , and improve myelination in hypomorphic gpr126 mutant zebrafish ( danio rerio ) . substitution of the cationic residue with alanine abolish the biological activity of both ft23–50 and the equivalent type - iv collagen peptide . we conclude that prpc promote myelin homeostasis through flexible tail - mediate gpr126 agonism . as well as clarify the physiological role of prpc , these observation be relevant to the pathogenesis of demyelinate polyneuropathie — common debilitate disease for which there be limited therapeutic option .\n",
            "__label__570 __label__610\tbend , push , stretch : remarkable structure and mechanics of single intermediate filaments and meshworks the cytoskeleton of the eukaryotic cell provide a structural and functional scaffold enable biochemical and cellular function . while actin and microtubule form the main framework of the cell , intermediate filament network provide unique mechanical property that increase the resilience of both the cytoplasm and the nucleus , thereby maintain cellular function while under mechanical pressure . intermediate filament ( ifs ) be imperative to a plethora of regulatory and signal function in mechanotransduction . mutation in all type of if protein be know to affect the architectural integrity and function of cellular process , lead to debilitate disease . the basic building block of all ifs be elongate α - helical coil - coil that assemble hierarchically into complex meshwork . a remarkable mechanical feature of ifs be the capability of coil - coil to metamorphize into β - sheet under stress , make they one of the strong and most resilient mechanical entity in nature . here , we discuss structural and mechanical aspect of ifs with a focus on nuclear lamin and vimentin .\n"
          ]
        }
      ]
    },
    {
      "cell_type": "code",
      "source": [
        "# Download precomputed lemmatized data\n",
        "! curl https://files.ifi.uzh.ch/cl/siclemat/lehre/fs23/bibliosuisse/data/zora-eng-dewey.lemmatized.fasttext.tsv -o zora-eng-dewey.lemmatized.fasttext.tsv"
      ],
      "metadata": {
        "id": "UOMKmQo01b6h",
        "colab": {
          "base_uri": "https://localhost:8080/"
        },
        "outputId": "5b072679-2468-49e6-9bd8-5b9a9f030edd"
      },
      "execution_count": 5,
      "outputs": [
        {
          "output_type": "stream",
          "name": "stdout",
          "text": [
            "  % Total    % Received % Xferd  Average Speed   Time    Time     Time  Current\n",
            "                                 Dload  Upload   Total   Spent    Left  Speed\n",
            "100 15.0M  100 15.0M    0     0  3706k      0  0:00:04  0:00:04 --:--:-- 3706k\n"
          ]
        }
      ]
    },
    {
      "cell_type": "code",
      "source": [
        "lemmatize_tsv(\"zora-eng-dewey.fasttext.tsv\",\"zora-eng-dewey.lemmatized.fasttext.tsv\",nlp)"
      ],
      "metadata": {
        "id": "-1TNlSROMByF",
        "outputId": "e7f3c554-9c02-4300-a4b4-311593be13eb",
        "colab": {
          "base_uri": "https://localhost:8080/"
        }
      },
      "execution_count": null,
      "outputs": [
        {
          "output_type": "stream",
          "name": "stdout",
          "text": [
            "Processed 0 records\n",
            "Processed 100 records\n",
            "Processed 200 records\n",
            "Processed 300 records\n",
            "Processed 400 records\n",
            "Processed 500 records\n",
            "Processed 600 records\n",
            "Processed 700 records\n",
            "Processed 800 records\n",
            "Processed 900 records\n",
            "Processed 1000 records\n",
            "Processed 1100 records\n",
            "Processed 1200 records\n",
            "Processed 1300 records\n",
            "Processed 1400 records\n",
            "Processed 1500 records\n",
            "Processed 1600 records\n",
            "Processed 1700 records\n",
            "Processed 1800 records\n",
            "Processed 1900 records\n",
            "Processed 2000 records\n",
            "Processed 2100 records\n",
            "Processed 2200 records\n",
            "Processed 2300 records\n",
            "Processed 2400 records\n",
            "Processed 2500 records\n",
            "Processed 2600 records\n",
            "Processed 2700 records\n",
            "Processed 2800 records\n",
            "Processed 2900 records\n",
            "Processed 3000 records\n",
            "Processed 3100 records\n",
            "Processed 3200 records\n",
            "Processed 3300 records\n",
            "Processed 3400 records\n",
            "Processed 3500 records\n",
            "Processed 3600 records\n",
            "Processed 3700 records\n",
            "Processed 3800 records\n",
            "Processed 3900 records\n",
            "Processed 4000 records\n",
            "Processed 4100 records\n",
            "Processed 4200 records\n",
            "Processed 4300 records\n",
            "Processed 4400 records\n",
            "Processed 4500 records\n",
            "Processed 4600 records\n",
            "Processed 4700 records\n",
            "Processed 4800 records\n",
            "Processed 4900 records\n",
            "Processed 5000 records\n",
            "Processed 5100 records\n",
            "Processed 5200 records\n",
            "Processed 5300 records\n",
            "Processed 5400 records\n",
            "Processed 5500 records\n",
            "Processed 5600 records\n",
            "Processed 5700 records\n",
            "Processed 5800 records\n",
            "Processed 5900 records\n",
            "Processed 6000 records\n",
            "Processed 6100 records\n",
            "Processed 6200 records\n",
            "Processed 6300 records\n",
            "Processed 6400 records\n",
            "Processed 6500 records\n",
            "Processed 6600 records\n",
            "Processed 6700 records\n",
            "Processed 6800 records\n",
            "Processed 6900 records\n",
            "Processed 7000 records\n",
            "Processed 7100 records\n",
            "Processed 7200 records\n",
            "Processed 7300 records\n",
            "Processed 7400 records\n",
            "Processed 7500 records\n",
            "Processed 7600 records\n",
            "Processed 7700 records\n",
            "Processed 7800 records\n",
            "Processed 7900 records\n",
            "Processed 8000 records\n",
            "Processed 8100 records\n",
            "Processed 8200 records\n",
            "Processed 8300 records\n",
            "Processed 8400 records\n",
            "Processed 8500 records\n",
            "Processed 8600 records\n",
            "Processed 8700 records\n",
            "Processed 8800 records\n",
            "Processed 8900 records\n",
            "Processed 9000 records\n",
            "Processed 9100 records\n",
            "Processed 9200 records\n",
            "Processed 9300 records\n",
            "Processed 9400 records\n",
            "Processed 9500 records\n",
            "Processed 9600 records\n",
            "Processed 9700 records\n",
            "Processed 9800 records\n",
            "Processed 9900 records\n",
            "Processed 10000 records\n",
            "Processed 10100 records\n",
            "Processed 10200 records\n"
          ]
        }
      ]
    },
    {
      "cell_type": "code",
      "source": [
        "! head zora-eng-dewey.lemmatized.fasttext.tsv"
      ],
      "metadata": {
        "id": "1MehmfPOcEhh",
        "outputId": "ab4a004d-f25d-4cbd-c551-13ad95a5c2c4",
        "colab": {
          "base_uri": "https://localhost:8080/"
        }
      },
      "execution_count": 6,
      "outputs": [
        {
          "output_type": "stream",
          "name": "stdout",
          "text": [
            "__label__300\torangutan activity budget and diet : a comparison between specie , population and habitat the chapter examine difference in the activity budget of wild orangutan ( pongo spp . ) within and between a large number of study site in sumatra and borneo . the author of the chapter find that each orangutan population appear to follow one of two distinct forage strategy : either ( 1 ) ' sit and wait ' , in which orangutan aim to minimize their energy expenditure by spend long period of time rest and relatively short period feed and travelling ; or ( 2 ) ' search and find ' in which orangutan aim to maximize their energy intake by rest little and mainly feed or move in search of food . orangutan adopt the first strategy in mixed - dipterocarp forest characterize by mast - fruit event and irregular fruit availability ; and adopt the second strategy in swamp forest with a regular supply of fruit , or in dryland forest with high strangle - fig density . the chapter propose that the determine factor for which strategy be adopt be the temporal availability of fruit in the habitat , as oppose to other possibility such as orangutan taxonomy .\n",
            "__label__570\tknowledge - base design of reagentless fluorescent biosensor from a design ankyrin repeat protein design ankyrin repeat protein ( darpins ) can be select from combinatorial library to bind any target antigen . they show high level of recombinant expression , solubility and stability , and contain no cysteine residue . the possibility of obtain , from any darpin and at high yield , fluorescent conjugate which respond to the binding of the antigen by a variation of fluorescence , would have numerous application in micro- and nano - analytical science . this possibility be explore with off7 , a darpin direct against the maltose bind protein ( male ) from escherichia coli , with know crystal structure of the complex . eight residue of off7 , whose solvent accessible surface area vary on association with the antigen but which be not in direct contact with the antigen , be individually mutate into cysteine and then chemically couple with a fluorophore . the conjugate be rank accord to their relative sensitivity . all of they show an increase in their fluorescence intensity on antigen bind by > 1.7 - fold . the good conjugate retain the same affinity as the parental darpin . its signal increase linearly and specifically with the concentration of antigen , up to 15 - fold in buffer and 3 - fold in serum when fully saturate , the difference be mainly due to the absorption of light by serum . its low limit of detection be equal to 0.3 nm with a standard spectrofluorometer . titration with potassium iodide indicate that the fluorescence variation be due to a shielding of the fluorescent group from the solvent by the antigen . these result suggest rule for the design of reagentless fluorescent biosensor from any darpin .\n",
            "__label__150\tinterpersonal problems associate with multidimensional personality questionnaire traits in woman during the transition to adulthood personality trait be know to be associate with a host of important life outcome , include interpersonal dysfunction . the interpersonal circumplex offer a comprehensive system for articulate the kind of interpersonal problem associate with personality trait . in the current study , trait as measure by the multidimensional personality questionnaire in a sample of 124 young woman be correlate with interpersonal dysfunction as measure by the inventory of interpersonal problems – circumplex . result suggest that multidimensional personality questionnaire trait vary in their association with interpersonal distress and in their coverage of specific kind of interpersonal difficulty among woman undergo the transition to adulthood .\n",
            "__label__330\tstructural change and the kaldor facts of economic growth \" we present a model in which two of the most important feature of the long - run growth process be reconcile : the massive change in the structure of production and employment ; and the kaldor fact of economic growth . we assume that household expand their consumption along a hierarchy of need and firm introduce continuously new product . in equilibrium industry with an expanding and those with a decline employment share co - exist , and each such industry go ( or have already go ) through a cycle of take - off , maturity , and stagnation . nonetheless macroeconomic aggregate grow pari passu at a constant rate . \"\n",
            "__label__150\tmalinger on the personality assessment inventory : identification of specific feigned disorders profile validity be a primary consideration in the clinical assessment of psychopathology . several indicator of negative impression management have be develop for the personality assessment inventory ( pai ; morey , 1991 ) that can both indicate its presence and help differentiate effortful negative distortion from distortion arise from cognitive set associate with psychopathology . in this study , we test a method design to delineate the specific clinical scale relevant for interpretation of deliberately feigned disorder . we use association between the negative impression management ( nim ) scale and clinical scale in the normative standardization sample to derive nim predict scale score in a regression framework . we contrast these predict score with observed score on clinical scale to yield nim predict discrepancy hypothesize to identify those clinical scale most salient for the interpretation of negative distortion . we find this method to be effective in identify particular distortion on the relevant scale for individual attempt to feign 3 specific diagnosis ( major depressive disorder , generalize anxiety disorder , and schizophrenia ) .\n",
            "__label__570\tmultiple requirement for the receptor serine / threonine kinase thick vein reveal novel function of tgf beta homolog during drosophila embryogenesis . differentiation of distinct cell type at specific location within a develop organism depend largely on the ability of cell to communicate . a major class of signal protein implicate in cell to cell communication be represent by member of the tgf beta superfamily . a corresponding class of transmembrane serine / threonine kinase have recently be discover that act as cell surface receptor for ligand of the tgf beta superfamily . the product of the drosophila gene decapentaplegic ( dpp ) encode a tgf beta homolog that play multiple role during embryogenesis and the development of imaginal disc . here we describe the complex expression pattern of thick vein ( tkv ) , which encode a receptor for dpp . we make use of tkv loss - of - function mutation to examine the consequence of the failure of embryonic cell to respond to dpp and/or other tgf beta homolog . we find that while maternal tkv product allow largely normal dorsoventral pattering of the embryo , zygotic tkv activity be indispensable for dorsal closure of the embryo after germ band retraction . furthermore , tkv activity be crucial for pattern the visceral mesoderm ; in the absence of functional tkv gene product , visceral mesoderm parasegment 7 cell fail to express ultrabithorax , but instead accumulate antennapedia protein . the tkv receptor be therefore involve in delimit the expression domain of homeotic gene in the visceral mesoderm . interestingly , tkv mutant fail to establish a proper tracheal network . tracheal brache form by cell migrate in dorsal or ventral direction be absent in tkv mutant . the requirement for tkv in dorsal closure , visceral mesoderm and trachea development assign novel function to dpp or a closely relate member of the tgf beta superfamily .\n",
            "__label__610\tvasodilator and low - dose acetylsalicylic acid be associate with a low incidence of distinct primary myocardial disease manifestation in systemic sclerosis : result of the desscipher inception cohort study objective to investigate the influence of vasodilator drug on the occurrence of feature depend on myocardial ischaemia / fibrosis ( ventricular arrhythmia , q wave , cardiac block , pacemaker implantation , leave ventricular ejection fraction ( lvef ) < 55 % , and/or congestive heart failure and sudden cardiac death ) in systemic sclerosis ( ssc ) . methods 601 patient with ssc be enrol from 1 december 2012 to 30 november 2015 and have a second visit 0.5 - 4 year apart . 153 receive no vasodilator ; 448 receive vasodilator therapy ( ie , calcium channel blocker and/or ace inhibitor or angiotensin ii receptor blocker or combination of they ) , 89 of they be also treat with either endothelin receptor antagonist or pde5 inhibitor or prostanoid . association between the occurrence of myocardial disease manifestation and any demographic , disease and therapeutic aspect be investigate by cox regression analysis . a cox frailty survival model with centre of enrolment as random effect be perform . results during 914 follow - up patient - year , 12 ventricular arrhythmia , 5 q wave , 40 cardiac block , 6 pacemaker implantation and 19 reduce lvef and/or congestive heart failure ( chf ) occur . in multivariate cox regression analysis , vasodilator therapy be associate with a low incidence of ventricular arrhythmia ( p=0.03 ) ; low - dose acetylsalicylic acid ( asa ) with a low incidence of cardiac block and/or q wave and/or pacemaker implantation ( p=0.02 ) ; active disease with a high incidence of lvef < 55 % and/or chf and cardiac block and/or q wave and/or pacemaker implantation ( p=0.05 ) . conclusion the present study might suggest a preventative effect on the occurrence of distinct myocardial manifestation by vasodilator therapy and low - dose asa .\n",
            "__label__610\tadjuvant treatment of resectable biliary tract cancer with cisplatin plus gemcitabine : a prospective single center phase ii study background biliary tract cancer ( btc ) be a dismal disease , even after curative intent surgery . we conduct this prospective , non - randomized phase ii study to evaluate the feasibility and efficacy of cisplatin and gemcitabine as adjuvant treatment in patient with resected btc . methods patient initially receive gemcitabine 1000 mg / m2 alone on day 1 , 8 and 15 every 28 - day for a total of six cycle ( single agent cohort ) , and after protocol amendment a combination therapy with gemcitabine 1000 mg / m2 and cisplatin 25 mg / m2 on day 1 and 8 be administer every 21 day for a total of eight cycle ( combine regimen cohort ) . treatment be plan to start within eight week after curative intent resection . adverse event , disease - free survival and overall survival be assess . result overall 30 patient be enrol in the study from august 2008 and last patient be enrol at 2nd december 2014 . the follow - up of the patient end at 31st december 2016 . the first 9 patient receive single - agent gemcitabine . the interim analysis meet the predefine feasibility criterion and , from september 2010 on , the second group of 21 patient receive the combination of cisplatin plus gemcitabine . in the single - agent cohort with gemcitabine the median relative dose intensity ( rdi ) be 100 % ( iqr 88.3 - 100 ) . patient treat with the combination cisplatin - gemcitabine receive an overall median rdi of 100 % ( iqr 50 - 100 ) for cisplatin and 100 % ( iqr 75 - 100 ) for gemcitabine respectively . the most significant non - hematological adverse event ( grade 3 or 4 ) be fatigue ( 20 % ) , infection during neutropenia ( 10 % ) , and two case of biliary sepsis ( 7 % ) . abnormal liver function be see in 10 % of the patient . one patient die due to infectious complication during treatment with cisplatin and gemcitabine . the median disease - free survival ( dfs ) be 14.9 month ( 95 % ci 0 - 33.8 ) with a corresponding 3 - year dfs of 43.1 ± 9.1 % . the median overall survival ( os ) be 40.6 month ( 95 % ci 18.8 - 62.3 ) with a 3 - year os of 55.7 ± 9.2 % . no statistically significant difference in survival be see between the two treatment cohort . conclusion adjuvant chemotherapy with gemcitabine with or without cisplatin be well tolerate and result in promise survival of the patient . trial registration the study be retrospectively register on 25th june 2009 at clinicaltrials.gov ( nct01073839 ) .\n",
            "__label__570 __label__610\tthe prion protein be an agonistic ligand of the g protein - couple receptor adgrg6 ablation of the cellular prion protein prpc lead to a chronic demyelinate polyneuropathy affect schwann cell . neuron - restrict expression of prpc prevent the disease1 , suggest that prpc act in tran through an unidentified schwann cell receptor . here we show that the camp concentration in sciatic nerve from prpc - deficient mouse be reduce , suggest that prpc act via a g protein - couple receptor ( gpcr ) . the amino - terminal flexible tail ( residue 23–120 ) of prpc trigger a concentration - dependent increase in camp in primary schwann cell , in the schwann cell line sw10 , and in hek293 t cell overexpresse the gpcr adgrg6 ( also know as gpr126 ) . by contrast , naive hek293 t cell and hek293 t cell express several other gpcr do not react to the flexible tail , and ablation of gpr126 from sw10 cell abolish the flexible tail - induce camp response . the flexible tail contain a polycationic cluster ( kkrpkpg ) similar to the gprgkpg motif of the gpr126 agonist type - iv collagen2 . a kkrpkpg - contain prpc - derive peptide ( ft23–50 ) suffice to induce a gpr126 - dependent camp response in cell and mouse , and improve myelination in hypomorphic gpr126 mutant zebrafish ( danio rerio ) . substitution of the cationic residue with alanine abolish the biological activity of both ft23–50 and the equivalent type - iv collagen peptide . we conclude that prpc promote myelin homeostasis through flexible tail - mediate gpr126 agonism . as well as clarify the physiological role of prpc , these observation be relevant to the pathogenesis of demyelinate polyneuropathie — common debilitate disease for which there be limited therapeutic option .\n",
            "__label__570 __label__610\tbend , push , stretch : remarkable structure and mechanics of single intermediate filaments and meshworks the cytoskeleton of the eukaryotic cell provide a structural and functional scaffold enable biochemical and cellular function . while actin and microtubule form the main framework of the cell , intermediate filament network provide unique mechanical property that increase the resilience of both the cytoplasm and the nucleus , thereby maintain cellular function while under mechanical pressure . intermediate filament ( ifs ) be imperative to a plethora of regulatory and signal function in mechanotransduction . mutation in all type of if protein be know to affect the architectural integrity and function of cellular process , lead to debilitate disease . the basic building block of all ifs be elongate α - helical coil - coil that assemble hierarchically into complex meshwork . a remarkable mechanical feature of ifs be the capability of coil - coil to metamorphize into β - sheet under stress , make they one of the strong and most resilient mechanical entity in nature . here , we discuss structural and mechanical aspect of ifs with a focus on nuclear lamin and vimentin .\n"
          ]
        }
      ]
    },
    {
      "cell_type": "markdown",
      "metadata": {
        "id": "ZOH-9FLFDThk"
      },
      "source": [
        "## Aufteilen der Daten in Trainings- und Testdaten\n",
        "Erstellen von Training und Testdaten (Originaldaten sind zufällig geordnet)"
      ]
    },
    {
      "cell_type": "code",
      "execution_count": 7,
      "metadata": {
        "id": "Kq5ZOladDThk"
      },
      "outputs": [],
      "source": [
        "! head -n 9000 < zora-eng-dewey.lemmatized.fasttext.tsv > zora-eng-dewey.lemmatized.fasttext.train.tsv\n",
        "! tail -n 1000 < zora-eng-dewey.lemmatized.fasttext.tsv > zora-eng-dewey.lemmatized.fasttext.test.tsv"
      ]
    },
    {
      "cell_type": "code",
      "source": [
        "! echo TRAINING DATA STATISTICS\n",
        "! cut -f 1 < zora-eng-dewey.lemmatized.fasttext.train.tsv | sort | uniq -c | sort -rn |head\n",
        "! echo TEST DATA STATISTICS\n",
        "! cut -f 1 < zora-eng-dewey.lemmatized.fasttext.test.tsv | sort | uniq -c | sort -rn |head"
      ],
      "metadata": {
        "id": "cM69z1KmHaEW",
        "outputId": "d8d56c8f-251e-4b3f-c108-424a7b1e0749",
        "colab": {
          "base_uri": "https://localhost:8080/"
        }
      },
      "execution_count": 8,
      "outputs": [
        {
          "output_type": "stream",
          "name": "stdout",
          "text": [
            "TRAINING DATA STATISTICS\n",
            "   3543 __label__610\n",
            "    806 __label__570 __label__610\n",
            "    535 __label__570\n",
            "    475 __label__330\n",
            "    394 __label__150\n",
            "    384 __label__530\n",
            "    306 __label__910\n",
            "    276 __label__570 __label__590\n",
            "    258 __label__570 __label__630\n",
            "    231 __label__540\n",
            "TEST DATA STATISTICS\n",
            "    374 __label__610\n",
            "    104 __label__570 __label__610\n",
            "     58 __label__570\n",
            "     50 __label__330\n",
            "     44 __label__530\n",
            "     43 __label__910\n",
            "     40 __label__150\n",
            "     39 __label__570 __label__590\n",
            "     25 __label__510\n",
            "     25 __label__000\n"
          ]
        }
      ]
    },
    {
      "cell_type": "code",
      "source": [],
      "metadata": {
        "id": "7efDuWdOwMX-"
      },
      "execution_count": null,
      "outputs": []
    },
    {
      "cell_type": "markdown",
      "metadata": {
        "id": "e4_msKJSDTho"
      },
      "source": [
        "# Trainieren von Modell mit Python-Package\n",
        " - Dokumentation siehe https://fasttext.cc/docs/en/python-module.html"
      ]
    },
    {
      "cell_type": "code",
      "execution_count": 20,
      "metadata": {
        "id": "40vFiCAQDTho",
        "colab": {
          "base_uri": "https://localhost:8080/",
          "height": 322
        },
        "outputId": "bbc9d48a-3d16-4206-addd-67129595ed43"
      },
      "outputs": [
        {
          "output_type": "error",
          "ename": "ImportError",
          "evalue": "ignored",
          "traceback": [
            "\u001b[0;31m---------------------------------------------------------------------------\u001b[0m",
            "\u001b[0;31mImportError\u001b[0m                               Traceback (most recent call last)",
            "\u001b[0;32m<ipython-input-20-c9a1ab753430>\u001b[0m in \u001b[0;36m<cell line: 2>\u001b[0;34m()\u001b[0m\n\u001b[1;32m      1\u001b[0m \u001b[0;32mimport\u001b[0m \u001b[0mfasttext\u001b[0m\u001b[0;34m\u001b[0m\u001b[0;34m\u001b[0m\u001b[0m\n\u001b[0;32m----> 2\u001b[0;31m \u001b[0;32mfrom\u001b[0m \u001b[0mfasttext\u001b[0m\u001b[0;34m.\u001b[0m\u001b[0mutil\u001b[0m \u001b[0;32mimport\u001b[0m \u001b[0mload_vectors\u001b[0m\u001b[0;34m\u001b[0m\u001b[0;34m\u001b[0m\u001b[0m\n\u001b[0m",
            "\u001b[0;31mImportError\u001b[0m: cannot import name 'load_vectors' from 'fasttext.util' (/usr/local/lib/python3.10/dist-packages/fasttext/util/__init__.py)",
            "",
            "\u001b[0;31m---------------------------------------------------------------------------\u001b[0;32m\nNOTE: If your import is failing due to a missing package, you can\nmanually install dependencies using either !pip or !apt.\n\nTo view examples of installing some common dependencies, click the\n\"Open Examples\" button below.\n\u001b[0;31m---------------------------------------------------------------------------\u001b[0m\n"
          ],
          "errorDetails": {
            "actions": [
              {
                "action": "open_url",
                "actionText": "Open Examples",
                "url": "/notebooks/snippets/importing_libraries.ipynb"
              }
            ]
          }
        }
      ],
      "source": [
        "import fasttext"
      ]
    },
    {
      "cell_type": "markdown",
      "source": [
        "Word Embeddings auf Wikipedia trainiert auf 50 Dimensionen reduziert"
      ],
      "metadata": {
        "id": "bD8354rOdKn8"
      }
    },
    {
      "cell_type": "code",
      "source": [
        "!  curl https://files.ifi.uzh.ch/cl/siclemat/lehre/fs23/bibliosuisse/data/wiki.en.50.vec -o wiki.en.50.vec"
      ],
      "metadata": {
        "id": "QVDc2kQlcuYK",
        "outputId": "0ae2ce96-069a-4f9b-8522-075122204d47",
        "colab": {
          "base_uri": "https://localhost:8080/"
        }
      },
      "execution_count": 15,
      "outputs": [
        {
          "output_type": "stream",
          "name": "stdout",
          "text": [
            "  % Total    % Received % Xferd  Average Speed   Time    Time     Time  Current\n",
            "                                 Dload  Upload   Total   Spent    Left  Speed\n",
            "100  184M  100  184M    0     0   9.9M      0  0:00:18  0:00:18 --:--:-- 11.9M\n"
          ]
        }
      ]
    },
    {
      "cell_type": "code",
      "execution_count": 23,
      "metadata": {
        "id": "XKtx28_CDTho"
      },
      "outputs": [],
      "source": [
        "\n",
        "model = fasttext.train_supervised(\n",
        "    input='zora-eng-dewey.lemmatized.fasttext.train.tsv', \n",
        "    pretrainedVectors=\"wiki.en.50.vec\", # vortrainierte word embeddings\n",
        "    epoch=10,  # Wie oft werden die Trainingsdaten benutzt\n",
        "    minn=5,    # Minimal Subword-Länge in Buchstaben  \n",
        "    maxn=5,    # Maximale Subword-Länge in Buchstaben \n",
        "    dim=50,    # Dimensionalität der Vektoren für die Repräsentation der Wörter und Subwords\n",
        "    lr=1,      # Learning Rate (Lernrate): Wie stark wird ein Fehler bestraft? \n",
        "    ws=10,\n",
        "    verbose = True\n",
        "    )"
      ]
    },
    {
      "cell_type": "markdown",
      "source": [
        "## Inspizieren des gelernten Modells"
      ],
      "metadata": {
        "id": "IQuLDqMdPEsy"
      }
    },
    {
      "cell_type": "markdown",
      "source": [
        "Welche Labels/Klassen kennt das Modell?"
      ],
      "metadata": {
        "id": "j2YSVXdZP9yO"
      }
    },
    {
      "cell_type": "code",
      "execution_count": 24,
      "metadata": {
        "id": "Aq7TtoJTDThp",
        "outputId": "d778682a-4a48-4db3-e997-8e41427981a0",
        "colab": {
          "base_uri": "https://localhost:8080/"
        }
      },
      "outputs": [
        {
          "output_type": "stream",
          "name": "stdout",
          "text": [
            "['__label__610', '__label__570', '__label__330', '__label__150', '__label__530', '__label__910', '__label__590', '__label__540', '__label__630', '__label__000', '__label__142', '__label__510', '__label__580', '__label__170', '__label__300', '__label__410', '__label__320', '__label__340', '__label__560', '__label__070', '__label__370', '__label__820', '__label__600', '__label__100', '__label__900', '__label__490', '__label__470', '__label__800', '__label__460', '__label__440', '__label__450', '__label__890', '__label__390', '__label__180', '__label__700', '__label__950', '__label__290', '__label__790', '__label__200', '__label__480', '__label__430', '__label__230', '__label__930', '__label__360', '__label__400', '__label__830', '__label__921', '__label__860', '__label__850', '__label__810', '__label__840']\n"
          ]
        }
      ],
      "source": [
        "print(model.labels)"
      ]
    },
    {
      "cell_type": "markdown",
      "source": [
        "Einen String klassifizieren und die Wahrscheinlichkeitsverteilung über allen möglichen Dewey erhalten:"
      ],
      "metadata": {
        "id": "gUHd0gFMQGzs"
      }
    },
    {
      "cell_type": "code",
      "execution_count": 25,
      "metadata": {
        "id": "leavip9EDThp",
        "outputId": "a5e5f570-7941-4dae-81ad-dbe94d31ea1d",
        "colab": {
          "base_uri": "https://localhost:8080/"
        }
      },
      "outputs": [
        {
          "output_type": "stream",
          "name": "stdout",
          "text": [
            "__label__150 1.0\n",
            "__label__330 0.0\n",
            "__label__370 0.0\n",
            "__label__610 0.0\n",
            "__label__170 0.0\n"
          ]
        }
      ],
      "source": [
        "result = model.predict(\"interpersonal problems associate with multidimensional personality questionnaire traits in woman \",  \n",
        "              k=5  # Gib die 5 besten Klassen aus\n",
        "              )\n",
        "for label,prob in zip(*result):\n",
        "    print(label, round(prob,3))"
      ]
    },
    {
      "cell_type": "markdown",
      "source": [
        "Systematisches Testen des Minimodells auf Testdaten"
      ],
      "metadata": {
        "id": "C5TbsDPQNEdx"
      }
    },
    {
      "cell_type": "code",
      "execution_count": 28,
      "metadata": {
        "id": "dM860ZY7DThp",
        "outputId": "b4d60f3e-036b-40f7-8847-a7bf3bbd6e18",
        "colab": {
          "base_uri": "https://localhost:8080/"
        }
      },
      "outputs": [
        {
          "output_type": "execute_result",
          "data": {
            "text/plain": [
              "(1000, 0.7992957746478874, 0.712156862745098)"
            ]
          },
          "metadata": {},
          "execution_count": 28
        }
      ],
      "source": [
        "model.test(\"zora-eng-dewey.lemmatized.fasttext.test.tsv\",k=3,threshold=0.25)"
      ]
    },
    {
      "cell_type": "code",
      "source": [],
      "metadata": {
        "id": "F3PRvvWk5_us"
      },
      "execution_count": 28,
      "outputs": []
    },
    {
      "cell_type": "code",
      "execution_count": 29,
      "metadata": {
        "id": "vTs98FNoDThq"
      },
      "outputs": [],
      "source": [
        "def print_results(N, p, r):\n",
        "    \"Pretty print performance: N=Number of Samples, P/R@1=Precision/Recall of best prediction Acc=Accuracy \"\n",
        "    print(f\"N\\t{N}\")\n",
        "    print(f\"P@k\\t{p:.2f}\")\n",
        "    print(f\"R@k\\t{r:.2f}\")\n",
        "    print(f\"Acc\\t{r:.2f}\")"
      ]
    },
    {
      "cell_type": "code",
      "execution_count": 30,
      "metadata": {
        "id": "8qqQXM9zDThq",
        "outputId": "b54d8ecd-402a-4390-ab2a-9b281b686882",
        "colab": {
          "base_uri": "https://localhost:8080/"
        }
      },
      "outputs": [
        {
          "output_type": "stream",
          "name": "stdout",
          "text": [
            "N\t1000\n",
            "P@k\t0.80\n",
            "R@k\t0.71\n",
            "Acc\t0.71\n"
          ]
        }
      ],
      "source": [
        "print_results(*model.test(\"zora-eng-dewey.lemmatized.fasttext.test.tsv\",k=3,threshold=0.25))"
      ]
    },
    {
      "cell_type": "markdown",
      "source": [
        "Detaillierte Evaluation zu jedem einzelnen Label:\n",
        " - Precision: Anteil korrekter Klassifikationen einer Klasse\n",
        " - Recall: Anteil korrekt klassifizierter Elemente einer Klasse\n",
        " - f1score: Harmonisches Mittel von Precision und Recall"
      ],
      "metadata": {
        "id": "5bAUu9DuVEXv"
      }
    },
    {
      "cell_type": "code",
      "source": [
        "data = model.test_label('zora-eng-dewey.lemmatized.fasttext.test.tsv',k=3, threshold=0.35)\n",
        "sorted_data = sorted(data.items(), key=lambda x: x[1]['f1score'], reverse=True)\n",
        "print(sorted_data)\n",
        "for label, perf in sorted_data:\n",
        "    print(label, perf)"
      ],
      "metadata": {
        "id": "aVaCjOcbSWVJ",
        "outputId": "f7780d15-1519-44a2-b0db-478879102997",
        "colab": {
          "base_uri": "https://localhost:8080/"
        }
      },
      "execution_count": 36,
      "outputs": [
        {
          "output_type": "stream",
          "name": "stdout",
          "text": [
            "[('__label__810', {'precision': nan, 'recall': nan, 'f1score': nan}), ('__label__850', {'precision': nan, 'recall': nan, 'f1score': nan}), ('__label__860', {'precision': nan, 'recall': nan, 'f1score': nan}), ('__label__921', {'precision': nan, 'recall': nan, 'f1score': nan}), ('__label__400', {'precision': nan, 'recall': nan, 'f1score': nan}), ('__label__360', {'precision': nan, 'recall': nan, 'f1score': nan}), ('__label__430', {'precision': nan, 'recall': nan, 'f1score': nan}), ('__label__530', {'precision': 0.9555555555555556, 'recall': 0.9347826086956522, 'f1score': 0.945054945054945}), ('__label__070', {'precision': 1.0, 'recall': 0.8571428571428571, 'f1score': 0.9230769230769231}), ('__label__000', {'precision': 0.8333333333333334, 'recall': 0.6896551724137931, 'f1score': 0.7547169811320755}), ('__label__830', {'precision': nan, 'recall': nan, 'f1score': nan}), ('__label__510', {'precision': 0.8571428571428571, 'recall': 0.96, 'f1score': 0.9056603773584906}), ('__label__840', {'precision': nan, 'recall': nan, 'f1score': nan}), ('__label__560', {'precision': 1.0, 'recall': 0.875, 'f1score': 0.9333333333333333}), ('__label__610', {'precision': 0.9024390243902439, 'recall': 0.8393194706994329, 'f1score': 0.8697355533790402}), ('__label__910', {'precision': 0.8918918918918919, 'recall': 0.75, 'f1score': 0.8148148148148148}), ('__label__330', {'precision': 0.7241379310344828, 'recall': 0.7924528301886793, 'f1score': 0.7567567567567568}), ('__label__570', {'precision': 0.7621621621621621, 'recall': 0.597457627118644, 'f1score': 0.669833729216152}), ('__label__580', {'precision': 0.6428571428571429, 'recall': 0.6428571428571429, 'f1score': 0.6428571428571429}), ('__label__590', {'precision': 0.8695652173913043, 'recall': 0.4878048780487805, 'f1score': 0.625}), ('__label__150', {'precision': 0.5581395348837209, 'recall': 0.5454545454545454, 'f1score': 0.5517241379310345}), ('__label__300', {'precision': 0.5, 'recall': 0.4166666666666667, 'f1score': 0.45454545454545453}), ('__label__320', {'precision': 0.3333333333333333, 'recall': 0.6, 'f1score': 0.42857142857142855}), ('__label__370', {'precision': 0.8, 'recall': 0.26666666666666666, 'f1score': 0.4}), ('__label__630', {'precision': 0.8, 'recall': 0.2, 'f1score': 0.32}), ('__label__410', {'precision': 0.6666666666666666, 'recall': 0.2, 'f1score': 0.3076923076923077}), ('__label__820', {'precision': 1.0, 'recall': 0.1111111111111111, 'f1score': 0.2}), ('__label__170', {'precision': 1.0, 'recall': 0.07692307692307693, 'f1score': 0.14285714285714285}), ('__label__230', {'precision': nan, 'recall': 0.0, 'f1score': 0.0}), ('__label__790', {'precision': nan, 'recall': 0.0, 'f1score': 0.0}), ('__label__290', {'precision': nan, 'recall': 0.0, 'f1score': 0.0}), ('__label__700', {'precision': nan, 'recall': 0.0, 'f1score': 0.0}), ('__label__180', {'precision': nan, 'recall': 0.0, 'f1score': 0.0}), ('__label__390', {'precision': nan, 'recall': 0.0, 'f1score': 0.0}), ('__label__890', {'precision': nan, 'recall': 0.0, 'f1score': 0.0}), ('__label__450', {'precision': nan, 'recall': 0.0, 'f1score': 0.0}), ('__label__440', {'precision': nan, 'recall': 0.0, 'f1score': 0.0}), ('__label__930', {'precision': nan, 'recall': 0.0, 'f1score': 0.0}), ('__label__200', {'precision': nan, 'recall': 0.0, 'f1score': 0.0}), ('__label__340', {'precision': nan, 'recall': 0.0, 'f1score': 0.0}), ('__label__900', {'precision': nan, 'recall': 0.0, 'f1score': 0.0}), ('__label__490', {'precision': nan, 'recall': 0.0, 'f1score': 0.0}), ('__label__142', {'precision': nan, 'recall': 0.0, 'f1score': 0.0}), ('__label__100', {'precision': nan, 'recall': 0.0, 'f1score': 0.0}), ('__label__800', {'precision': nan, 'recall': 0.0, 'f1score': 0.0}), ('__label__600', {'precision': nan, 'recall': 0.0, 'f1score': 0.0}), ('__label__950', {'precision': nan, 'recall': 0.0, 'f1score': 0.0}), ('__label__470', {'precision': nan, 'recall': 0.0, 'f1score': 0.0}), ('__label__480', {'precision': nan, 'recall': nan, 'f1score': nan}), ('__label__540', {'precision': 0.9473684210526315, 'recall': 0.5625, 'f1score': 0.7058823529411765}), ('__label__460', {'precision': nan, 'recall': 0.0, 'f1score': 0.0})]\n",
            "__label__810 {'precision': nan, 'recall': nan, 'f1score': nan}\n",
            "__label__850 {'precision': nan, 'recall': nan, 'f1score': nan}\n",
            "__label__860 {'precision': nan, 'recall': nan, 'f1score': nan}\n",
            "__label__921 {'precision': nan, 'recall': nan, 'f1score': nan}\n",
            "__label__400 {'precision': nan, 'recall': nan, 'f1score': nan}\n",
            "__label__360 {'precision': nan, 'recall': nan, 'f1score': nan}\n",
            "__label__430 {'precision': nan, 'recall': nan, 'f1score': nan}\n",
            "__label__530 {'precision': 0.9555555555555556, 'recall': 0.9347826086956522, 'f1score': 0.945054945054945}\n",
            "__label__070 {'precision': 1.0, 'recall': 0.8571428571428571, 'f1score': 0.9230769230769231}\n",
            "__label__000 {'precision': 0.8333333333333334, 'recall': 0.6896551724137931, 'f1score': 0.7547169811320755}\n",
            "__label__830 {'precision': nan, 'recall': nan, 'f1score': nan}\n",
            "__label__510 {'precision': 0.8571428571428571, 'recall': 0.96, 'f1score': 0.9056603773584906}\n",
            "__label__840 {'precision': nan, 'recall': nan, 'f1score': nan}\n",
            "__label__560 {'precision': 1.0, 'recall': 0.875, 'f1score': 0.9333333333333333}\n",
            "__label__610 {'precision': 0.9024390243902439, 'recall': 0.8393194706994329, 'f1score': 0.8697355533790402}\n",
            "__label__910 {'precision': 0.8918918918918919, 'recall': 0.75, 'f1score': 0.8148148148148148}\n",
            "__label__330 {'precision': 0.7241379310344828, 'recall': 0.7924528301886793, 'f1score': 0.7567567567567568}\n",
            "__label__570 {'precision': 0.7621621621621621, 'recall': 0.597457627118644, 'f1score': 0.669833729216152}\n",
            "__label__580 {'precision': 0.6428571428571429, 'recall': 0.6428571428571429, 'f1score': 0.6428571428571429}\n",
            "__label__590 {'precision': 0.8695652173913043, 'recall': 0.4878048780487805, 'f1score': 0.625}\n",
            "__label__150 {'precision': 0.5581395348837209, 'recall': 0.5454545454545454, 'f1score': 0.5517241379310345}\n",
            "__label__300 {'precision': 0.5, 'recall': 0.4166666666666667, 'f1score': 0.45454545454545453}\n",
            "__label__320 {'precision': 0.3333333333333333, 'recall': 0.6, 'f1score': 0.42857142857142855}\n",
            "__label__370 {'precision': 0.8, 'recall': 0.26666666666666666, 'f1score': 0.4}\n",
            "__label__630 {'precision': 0.8, 'recall': 0.2, 'f1score': 0.32}\n",
            "__label__410 {'precision': 0.6666666666666666, 'recall': 0.2, 'f1score': 0.3076923076923077}\n",
            "__label__820 {'precision': 1.0, 'recall': 0.1111111111111111, 'f1score': 0.2}\n",
            "__label__170 {'precision': 1.0, 'recall': 0.07692307692307693, 'f1score': 0.14285714285714285}\n",
            "__label__230 {'precision': nan, 'recall': 0.0, 'f1score': 0.0}\n",
            "__label__790 {'precision': nan, 'recall': 0.0, 'f1score': 0.0}\n",
            "__label__290 {'precision': nan, 'recall': 0.0, 'f1score': 0.0}\n",
            "__label__700 {'precision': nan, 'recall': 0.0, 'f1score': 0.0}\n",
            "__label__180 {'precision': nan, 'recall': 0.0, 'f1score': 0.0}\n",
            "__label__390 {'precision': nan, 'recall': 0.0, 'f1score': 0.0}\n",
            "__label__890 {'precision': nan, 'recall': 0.0, 'f1score': 0.0}\n",
            "__label__450 {'precision': nan, 'recall': 0.0, 'f1score': 0.0}\n",
            "__label__440 {'precision': nan, 'recall': 0.0, 'f1score': 0.0}\n",
            "__label__930 {'precision': nan, 'recall': 0.0, 'f1score': 0.0}\n",
            "__label__200 {'precision': nan, 'recall': 0.0, 'f1score': 0.0}\n",
            "__label__340 {'precision': nan, 'recall': 0.0, 'f1score': 0.0}\n",
            "__label__900 {'precision': nan, 'recall': 0.0, 'f1score': 0.0}\n",
            "__label__490 {'precision': nan, 'recall': 0.0, 'f1score': 0.0}\n",
            "__label__142 {'precision': nan, 'recall': 0.0, 'f1score': 0.0}\n",
            "__label__100 {'precision': nan, 'recall': 0.0, 'f1score': 0.0}\n",
            "__label__800 {'precision': nan, 'recall': 0.0, 'f1score': 0.0}\n",
            "__label__600 {'precision': nan, 'recall': 0.0, 'f1score': 0.0}\n",
            "__label__950 {'precision': nan, 'recall': 0.0, 'f1score': 0.0}\n",
            "__label__470 {'precision': nan, 'recall': 0.0, 'f1score': 0.0}\n",
            "__label__480 {'precision': nan, 'recall': nan, 'f1score': nan}\n",
            "__label__540 {'precision': 0.9473684210526315, 'recall': 0.5625, 'f1score': 0.7058823529411765}\n",
            "__label__460 {'precision': nan, 'recall': 0.0, 'f1score': 0.0}\n"
          ]
        }
      ]
    },
    {
      "cell_type": "markdown",
      "metadata": {
        "id": "bZcTfumNDThn"
      },
      "source": [
        "## Vorhersagen und Wahrheit anzeigen"
      ]
    },
    {
      "cell_type": "code",
      "source": [
        "!ls -lh"
      ],
      "metadata": {
        "id": "dj0LMb-klIRP",
        "outputId": "92da9dd4-8fed-4e09-ca4b-68743a84bc4c",
        "colab": {
          "base_uri": "https://localhost:8080/"
        }
      },
      "execution_count": null,
      "outputs": [
        {
          "output_type": "stream",
          "name": "stdout",
          "text": [
            "total 4.2G\n",
            "-rw-r--r-- 1 root root  83M May 10 22:34 model_subset.txt\n",
            "drwxr-xr-x 1 root root 4.0K May  9 13:35 sample_data\n",
            "-rw-r--r-- 1 root root 1.4G May 10 21:44 wiki2.en.50.bin\n",
            "-rw-r--r-- 1 root root 1.4G May 10 21:47 wiki2.en.50.txt\n",
            "-rw-r--r-- 1 root root 1.4G May 10 20:58 wiki.en.50.bin\n",
            "-rw-r--r-- 1 root root  196 May 10 19:10 zora-20000.fasttext.tsv\n",
            "-rw-r--r-- 1 root root  196 May 10 18:40 zora_20000.jsonl\n",
            "-rw-r--r-- 1 root root  17K May 10 22:43 zora-eng-dewey-10.lemmatized.fasttext.tsv\n",
            "-rw-r--r-- 1 root root  16M May 10 19:11 zora-eng-dewey.fasttext.tsv\n",
            "-rw-r--r-- 1 root root 1.5M May 10 22:48 zora-eng-dewey.lemmatized.fasttext.test.tsv\n",
            "-rw-r--r-- 1 root root  14M May 10 22:48 zora-eng-dewey.lemmatized.fasttext.train.tsv\n",
            "-rw-r--r-- 1 root root  16M May 10 22:48 zora-eng-dewey.lemmatized.fasttext.tsv\n"
          ]
        }
      ]
    },
    {
      "cell_type": "code",
      "execution_count": null,
      "metadata": {
        "id": "470gKPX_DTho",
        "outputId": "f32f7018-1fef-4c19-aeae-5fee6a90ba41",
        "colab": {
          "base_uri": "https://localhost:8080/"
        }
      },
      "outputs": [
        {
          "output_type": "execute_result",
          "data": {
            "text/plain": [
              "[['__label__570 __label__610',\n",
              "  'perspective : chain dynamic of unfold and intrinsically disorder protein from nanosecond fluorescence correlation spectroscopy combine with single - molecule fret the dynamic of unfolded protein be important both for the process of protein fold and for the behavior of intrinsically disorder protein . however , method for investigate the global chain dynamic of these structurally diverse system have be limit . a versatile experimental approach be single - molecule spectroscopy in combination with förster resonance energy transfer and nanosecond fluorescence correlation spectroscopy . the concept of polymer physics offer a powerful framework both for interpret the result and for understanding and classify the property of unfold and intrinsically disorder protein . this information on long - range chain dynamic can be complement with spectroscopic technique that probe different length scale and time scale , and integration of these result greatly benefit from recent advance in molecular simulation . this increase convergence between the experiment , theory , and simulation be thus start to enable an increasingly detailed view of the dynamic of disorder protein .'],\n",
              " ['__label__610',\n",
              "  'pseudodeficiency of glutamine in infant liver disease gamma - glutamyltransferase ( gamma - gt ) be an early marker for cholestasis and have the capability of glutamine - deamidation . two infant with elevated serum gamma - gt have a decrease serum glutamine . a time course of glutamine and glutamate concentration change be perform . this reveal a time dependent decrease of glutamine far below the normal low limit while glutamate increase above the normal upper limit . in conclusion , increase in vitro gamma - gt can cause pseudodeficiency of glutamine . to avoid pitfall , physician should inform the laboratory on accompany pathology .'],\n",
              " ['__label__610',\n",
              "  'prediction of small for size syndrome after extended hepatectomy : tissue characterization by relaxometry , diffusion weight magnetic resonance imaging and magnetization transfer this study aim to monitor the course of liver regeneration by multiparametric magnetic - resonance imaging ( mri ) after partial liver resection characterize small - for - size syndrome ( sfss ) , which frequently lead to fatal post - hepatectomy liver failure ( plf ) . twenty - two c57bl/6 mouse undergo either conventional 70 % partial hepatectomy ( cph ) , extend 86 % partial hepatectomy ( eph ) or sham operation . subsequent mri scan on day 0 , 1 , 2 , 3 , 5 and 7 in a 4.7 t mr scanner quantify longitudinal and transverse relaxation time , apparent diffusion coefficient ( adc ) and the magnetization - transfer ratio ( mtr ) of the regenerate liver parenchyma . histological examination be perform by hematoxylin - eosin staining . after hepatectomy , an increase of t1 time be detect be large for eph on day 1 : 18 % for cph vs. 40 % for eph and on day 2 : 24 % for cph vs. 49 % for eph . an increase in t2 time , again great in eph be most pronounce on day 5 : 21 % for cph vs. 41 % for eph . adc and mtr show a decrease on day 1 : 21 % for eph vs. 13 % for cph for adc , 15 % for eph vs. 11 % for cph for mtr . subsequently , all mr parameter converge towards initial value in survive animal . die plf animal exhibit the strong increase of t1 relaxation time and most prominent decrease of adc and mtr . the retrieved mri biomarker indicate sfss and potentially develop plf at an early stage , likely reflect cellular hypertrophy with extended water content and concomitantly dilute cellular component as feature of liver regeneration , appear more intense in eph as compare to cph .']]"
            ]
          },
          "metadata": {},
          "execution_count": 184
        }
      ],
      "source": [
        "test_data = []\n",
        "with open(\"zora-eng-dewey.lemmatized.fasttext.test.tsv\", mode=\"r\",encoding=\"utf-8\") as testfile:\n",
        "    for line in testfile:\n",
        "        test_data.append(line.strip().split(\"\\t\"))\n",
        "test_data[:3]\n"
      ]
    },
    {
      "cell_type": "code",
      "source": [
        "from collections import Counter\n",
        "confusion_matrix = Counter()\n",
        "\n",
        "# If given a list of strings, it will return a list of results as usually received for a single line of text.\n",
        "predictions,probs = model.predict([text for _,text in test_data],k=3,threshold=0.25)\n",
        "\n",
        "for i,preds in enumerate(predictions):\n",
        "    labels = \" \".join(sorted(preds))\n",
        "    if not labels:\n",
        "        print(test_data[i][0],test_data[i][1])\n",
        "    confusion_matrix[(test_data[i][0],labels)] += 1\n",
        "\n",
        "for p in confusion_matrix.most_common():\n",
        "    print(p)"
      ],
      "metadata": {
        "id": "RIx-qm5-bUV0",
        "outputId": "1537a300-2c5a-43f1-fabe-295b73635c74",
        "colab": {
          "base_uri": "https://localhost:8080/"
        }
      },
      "execution_count": null,
      "outputs": [
        {
          "output_type": "stream",
          "name": "stdout",
          "text": [
            "__label__150 item - focused trees for the detection of differential item functioning in partial credit models various method to detect differential item function ( dif ) in item response model be available . however , most of these method assume that the response be binary , and so for order response category available method be scarce . in the present article , dif in the widely use partial credit model be investigate . an item - focus tree be propose that allow the detection of dif item , which might affect the performance of the partial credit model . the method use tree methodology , yield a tree for each item that be detect as dif item . the visualization as tree make the result easily accessible , as the obtain tree show which variable induce dif and in which way . in the present paper , the new method be compare with alternative approach and simulation demonstrate the performance of the method .\n",
            "__label__820 alien terrorist : public discourse on 9/11 and the american science fiction film when witness on the scene of the 11 september 2001 attack in manhattan state that the event have seem \" like a movie , \" roland emmerich ’s 1996 blockbuster \" independence day \" be among the most frequently mention film . the perceived analogy between the incident of 9/11 and the alien invasion genre not only concern the affect target – american landmark building – but also the perpetrator , whose radical alterity be strongly emphasize in official discourse . the cinematic analogy soon extend to the domain of real politic : trace of science fiction may be detect in the very concept of the \" alien terrorist \" itself . against this background , it be strike that one of the first high - budget hollywood production that be explicitly market as a 9/11 - relate film choose the alien invasion genre to reflect the anxiety of present - day america : steven spielberg ’s \" war of the worlds \" ( 2005 ) use the figure of the sub - human invader as an allegorical substitute for real - life threat and foe , thereby shift the focus away from both the actual perpetrator and the complex political prehistory of the attack . when see within the framework of alien invasion , the attack remain as incomprehensible as their \" alien \" perpetrator .\n",
            "__label__230 karl barth : a life in conflict dr. christiane tietz speak about her tremendous biography , karl barth : a life in conflict ( oxford university press , 2021 ) . dr. tietz be professor for systematic theology at the institute of hermeneutics and philosophy of religion at the university of zurich . from 2008 until 2013 she be professor for systematic theology and social ethics at the university of mainz . she be visit lecturer or research scholar in cambridge , chicago , heidelberg , jerusalem , new york , and princeton . dr. tietz be a judge for the karl barth - prize and a member of the advisory board of the karl barth - foundation , basel .\n",
            "__label__340 __label__610 detection of paint - over trace of blood and seminal fluid deal with a refurbish crime scene be a special challenge for forensic investigator . in such case , a crime scene may not have only be clean in order to erase all trace but the wall of an indoor crime scene could also be paint over in order to mask trace of the crime . so far , very few publication have show that paint - over trace of blood and seminal fluid can be detect use a forensic light source or infrare photography . to date , there have be no systematically execute research study include guideline on which setting to use depend on the color of the wall . moreover , no comparative study have address the question of whether it be well to use infrared photography or a forensic light source to visualize paint - over bloodstain . the present study cover the aforementioned gap and show that paint - over bloodstain be most easily visualize by infrared photography , while trace of seminal fluid be most easily visualize at 440 nm in combination with a yellow filter - both independent of the color of the wall paint .\n",
            "__label__910 the city as world - place : transterritorial flow and territorial order in a nuremberg neighbourhood approaching struggle for political representation through a perspective of ` methodological transterritorialism ' , we seek to make sense of recent development evolve around a territorialise urban neighbourhood . werderau , a garden suburb found by a mechanical engineering company at the beginning of the 20th century , enjoy relative protection from globalise friction and struggle until the ` world - in - motion ' suddenly penetrate the community a few year ago . we begin by chart the production of the bound settlement as a site of alternate social ordering at a time of hyperindustrialisation and its imaginary role as a territorial heterotopia , symbolise order in a seemingly chaotic urban world . turn to the owner 's decision to sell the neighbourhood in 1998 , we then argue that long - term inhabitant discursively frame the event follow the decision as ` transterritorial pollution ' of their bound community , reflect in the commodification of their neighbourhood and in an ` invasion ' of non - german home - owner . after discuss how long term resident attempt to restabilise their identity by take up a xenophobic discourse , we conclude by criticise policy - maker for respond solely in a territorial logic and for one - sidedly take up the discourse advance by long - term resident . instead , we advance a utopian vision of the city as a worldly site where people live under condition of ` transcultural gleich - gültigkeit ' in the double meaning of the german term : understand as be ` indifferent ' towards the proximate other as well as refer to equality and equal right .\n",
            "__label__820 terrain of consciousness : multilogical perspective on globalization terrains of consciousness emerge from an indian - german - swiss research collaboration . the book make a case for a phenomenology of globalization that pay attention to locally situate socioeconomic terrain , everyday practice , and culture of knowledge . this be exemplify in relation to three topic : the tension between ' terrain ' and ' territory ' in defoe ’s ' robinson crusoe ' as a pioneer work of the globalist mentality ( chapter 1 ) ; the relationship between establish conception of feminism and the concrete struggle of woman in india since the 19th century ( chapter 2 ) ; the exploration of urban space and urban life in writing on india ’s capital – from ahmed ali to arundhati roy ( chapter 3 ) .\n",
            "__label__560 ergänzungen zu „ perlboote und ammonshörner weltweit teil vii \" seit der zusammenstellung teil vi in 2017 sind wieder einige marken mit darstellungen von cephalopoden herausgegeben worden . dabei handelt es sich um vi nautiliden , neun ammoniten und einen belemniten , zusätzlich ein rezenter vertreter der „ tintenfische \" , das posthörnchen . nautiloidea nautilus macromphalus sowerby 1849 s. perlboote und ammonshörner weltweit : s. 44 - 50 philatelistischer hintergrund : die firma extra tour aus göttingen , die tauch und kulturreisen anbietet , verwendete 2011 einen afs , bei dem das „ o \" in tour durch einen nautilus macromphalus ersetzt wurde . auf nachfrage bei der firma war zu erfahren , dass man nicht wisse , welcher cephalopode das sei , und dass dieser afst nicht mehr verwendet wird .\n",
            "__label__800 __label__470 __label__410 __label__440 __label__460 __label__450 be there a prosodic accommodation in the final fall contour of pola siero ’s absolute interrogative ? this paper investigate the final pola de siero ’s contour in absolute interrogative . we carry out 24 survey of situation use the methodology of interactive atlas of spanish intonation , with example of various intonation contour , which be employ to encode different semantic nuance . the 24 subject of our corpus be select take into account three social variable ( age , education and sex)2 . we aim to address one question in this study : be there a correlation between social factor and the final contour of pola de siero in absolute interrogative ? we find that 21 informant in our survey show a tendency towards the final fall contour in absolute interrogative , a salient feature of northern spanish , which contrast with the final rise in standard peninsular spanish ( three informant ) . as a consequence of this , we could say that this prosodic feature be a relevant one in our corpus and that it seem there be not an asturian prosodic accommodation in absolute interrogative ; this pattern be not acquire by spanish speaker who have family in burgos or valladolid .\n",
            "__label__200 cross‐cultural generalisation in three research practices : historicising , comparing , and theorise in the study of religion\\s * an early version of this article be present as keynote lecture at the annual conference of the dutch society for the study of religion ( ngg , november 2021 ) . the alumni fund of the university of zürich ( fan ) have kindly sponsor my time to revise this lecture as part of the project \" bring it home : the domestication of religion in comparative perspective . \" i thank schirin ghazivakili , ab de jong , christoph uehlinger , the anonymous reviewer , and the member of the leiden working group for the study of fundamental methods and problems in the study of religion for their constructive feedback , and diana haibucher and marieke krijnen for their editorial work .\n",
            "__label__820 the daughters of bertha mason : caribbean madwomen in laura fish ’s ' strange music ' inspire by the history of poet elizabeth barrett browning and her poem \" the runaway slave at pilgrim ’s point , \" strange music ( 2008 ) by laura fish tell the story of elizabeth and two former slave woman work on her family ’s plantation on jamaica . the woman suffer from two different type of madness : what might be call the madness of the metropolis and the madness of the colony . in the case of kaydia and sheba , two afro - caribbean woman , the text dispute the nineteenth - century notion that madness be inherent to black woman . their madness be instead ground in the pain of sexual and racial exploitation . the uncontrollable sexuality be that of the white master rather than the black slave . elizabeth ’s hysteria have its root in sexuality ; centrally , through the double that appear to she in her opium hallucination , the madness of the metropolitan woman be connect to that of the colonial woman .\n",
            "__label__370 manuscript as pedagogical tool in the philosophy teaching of jean - robert chouet ( 1642–1731 ) the chapter have be peer review . this chapter analyze how the physics course of jean - robert chouet ( 1642–1731 ) change across the twenty year of his career as a professor of philosophy , first at the academy of saumur ( start in 1664 ) then at the academy of geneva ( 1669–86 ) . we compare eight survive student manuscript , note much continuity but also some change in organization , presentation , and content ( in particular a great attention to the topic of place and extension important to cartesianism ) . teach by dictate a coursebook to student allow the professor to adjust his course at every iteration . the student also exercise individual choice in the format , layout , and trapping of their manuscript coursebook , which could include an alphabetical index or decorative element . the most famous of chouet ’s student whose coursebook survive be nicolas fatio de duillier ( 1664–1753 ) , who be later a friend of newton ’s . he study philosophy with chouet in 1678–80 and his coursebook , which unfortunately do not include the section on physic , be exceptionally beautifully keep and illustrate .\n",
            "__label__490 __label__890 __label__410 noun and verb in chintang : child 's usage and surround adult speech analyze the development of the noun - to - verb ratio in a longitudinal corpus of four chintang ( sino - tibetan ) child , we find that up to about age four , child have a significantly high ratio than adult . previous cross - linguistic research rule out an explanation of this in term of a universal noun bias ; instead , a likely cause be that chintang verb morphology be polysynthetic and difficult to learn . this hypothesis be support by the fact that the development of chintang child 's noun - to - verb ratio correlate significantly with the extent to which they show a similar flexibility with verbal morphology to that of the surround adult , as measure by morphological paradigm entropy . while this development level off around age three , child continue to have a high overall noun - to - verb ratio than adult . a likely explanation lie in the kind of activity that child be engage in and that be almost completely separate from adult ' activity in this culture .\n",
            "__label__470 __label__410 __label__450 __label__800 __label__440 __label__460 mouton grammar library [ mgl ] the number of language speak in the world today run up to several thousand . only a small part of they can be say to be linguistically well document . theory of language in general must consider the whole array of variation find in particular language , just as theory of man in general can only be build on a sound knowledge of the cultural variability of mankind . it be necessary , therefore , to collect reliable information on as many structurally different language as possible . within a few year , hundred of language will have disappear leave scarcely a trace . the amazing wealth of cultural and linguistic diversity be menace today as it never be before in human history . to preserve this heritage from oblivion have become an urgent task . the mouton grammar library build an extensive collection of high quality description of language around the world . each volume offer a comprehensive grammatical description of a single language together with fully analyze sample text , if possible , a comprehensive vocabulary , and all relevant information which be available on the language in question . there be no restriction as to language family or area , and although special attention be pay to hitherto unknown language , new and valuable treatment of well know language be also include . no theoretical model be impose on the author ; the only criterion be a high standard of scientific quality . the series serve the need of everyone who want to know more about linguistic diversity in general , and/or about specific language of a give area or culture . care be take , therefore , that the volume be accessible not only to the professional linguist , but also to a broad range of reader and user from all field of interest .\n",
            "__label__230 __label__200 martyrs , athlete , and transmedia storytelle in late antiquity fan fiction in antiquity suffer from a lack of certainty regard what be canon : be what be now consider fan fiction really fan fiction , or be it another contemporary version of the canon ? the concept of fan fiction thus ought to be combine with the idea of transmedia storytelling , build on snowball - effect story . this approach be use in an analysis of how the saint in late antiquity become a characteristic of christianity . this era use fan fiction – like text describe saint ' life story ; shrine and dedicated basilica , which allow distinct community to gather and celebrate ; pilgrimage , which combine adventure and biographical identification with the beloved saint ; and picture , relic , and pilgrim tokens . the christian world in late antiquity have characteristic reminiscent of the universe create by transmedia storytelling , the aim of which be complete immersion in content .\n",
            "__label__100 no knowledge require assertions be the centre of gravity in social epistemology . they be the vehicle we use to exchange information within scientific group and society as a whole . it be therefore essential to determine under which condition we be permit to make an assertion . in this paper we argue and provide empirical evidence for the view that the norm of assertion be justified belief : truth or even knowledge be not require . our result challenge the knowledge account advocate by , e.g. williamson ( 1996 ) , in general , and more specifically , put into question several study conduct by turri ( 2013 , 2016 ) that support a knowledge norm of assertion . instead , the justify belief account champion by , e.g. douven ( 2006 ) , seem to prevail .\n",
            "__label__910 improvement of housing condition and the performance of an aided housing scheme in select rural area of kenya while housing issue in urban agglomeration of sub - saharan africa have attract considerable scholarly attention , comparatively little be know about housing problem in rural area . take issue with this shortcoming in our contribution , we first replicate a survey of housing condition in a rural district of western kenya date back to 1980 . although we observe a significant improvement of housing structure over the past 25 year , we can also establish that deficient housing condition fall disproportionately on the poor . depart from this result , we secondly analyze an aided self - help housing scheme which aim to facilitate the improvement of housing condition for the poor in rural area of kenya . base on datum gather from 263 face - to - face interview we examine the financial sustainability of the underlie mortgage system and aim to identify the main driver of mortgage default through multivariate logit analysis . our statistical result indicate that it be mainly endogenous variable like the size and the age of the program which drive mortgage default . at the same time , typical poverty variable be not significantly correlate with mal - performance in mortgage repayment and therefore increase targeting of poor population group be unlikely to result in decline repayment rate .\n",
            "__label__950 buddhānusmṛti between worship and meditation : early current of the chinese ekottarika - āgama certain form of devotion to the buddha exist at the beginning of buddhism , century before the common era , and other subsist till the present day . in tune with the current research on the ideational history of buddhist devotion and meditation , this paper present , among other argument relate to buddha commemoration , recollection and concentration , the result of the first in - depth investigation from the standpoint of the numerical collection from far east asia : the chinese zengyi ahan jing . this be the only complete extant translation of a lose indian ekottarika - āgama . the study provide a choice of quote from ancient source relevant for the portrayal of devotional ideational current , an overview of the early current of buddha invocation , especially namo buddhāya ( honour to the buddha ) and buddhānusmṛti ( commemoration of the buddha ) as find in the chinese ekottarika - āgama translation , a discussion on ' buddha commemoration samādhi sūtra ' , an investigation of further literary generic sub - category belong to the later canonical strata that attest ' meditation dedicate to the / a buddha ' . it examine the soteriological function of devotional practice by furnish new perspective from ancient primary source .\n",
            "__label__820 our will and fate : the politic of identity in contemporary american fiction and film this study analyze contemporary north american fiction and film in an effort to determine that the legacy of the american dream have manifest itself in an injunction to adhere to a socially splinter sense of identity . it consider the condition of how , in ' postmodern ' society , we be increasingly confront with narrative depict crisis in subjectivity as they be determined within symbolic space . draw on althusser , the introductory section on cyborgs address question of identity production , establish a fallacy of authenticity as one potential impetus for a characteristic panic relate to identity . move on to conspiracy narrative , i address the significance of agency in relation to subjectivity , and utilize the concept of conspiracy as a framework to talk about the lacanian order of the symbolic and the imaginary as they be applicable to subjectivity . a section on alien outline reworking of traditional western religious narrative in contemporary fiction . the notion of reinvention implicit here act as a bridge to a discussion of the american dream , argue that its injunction to reinvent the self take shape in adherence to imaginary phantasmatic space . i employ the notion of california as ' dream factory ' and quintessential location of the dream , give a reading of david lynch 's mulholland drive . conclusively , i develop a theory of the shift desire of the big other and the essential function of a full traversal of phantasmatic space in define narrative . read mel gibson 's the passion of the christ against niki caro 's whale rider we be confront with what a move toward subjectivity entail within our culturally define narrative .\n",
            "__label__330 identity formation in unstable time the process of adolescence , include identity formation , differ significantly from what it be in previous generation . this be a consequence , among other thing , of the demographic and economic change that have take place in recent year , locally as well as globally . this introduction be devoted to a review of these problem , and the current issue comprise text address select question in detail . some scholar identify group of young people characterize by a tendency to consciously avoid make commitment typical of adult . however , research result point to the positive impact of take on adult role on perceive oneself as an adult . the person ’s identity develop from childhood , encompass various domain . during the transition from childhood to adolescence , the increase in self - awareness be accompany by an intensification of seek information about oneself and one ’s own functioning and of make plan for the future . the stage of adulthood involve the verification of previously make choice by resume exploratory activity , whose intensity be in proportion to the amount of significant change in the individual ’s environment\n",
            "__label__820 stance in fiction this chapter deal with stance as the expression of evaluative , epistemic and affective attitude . stance be a multifaceted concept and it be use in different way across different research tradition . in fiction , stance can be realise both in character speech and in narratorial voice , and it can be express verbally as well as through non - verbal mean , such as gesture and facial expression . study stance can provide insight into characterisation , the dynamic between character , plot development and narrative perspective . the chapter provide an overview of the different way in which stance be relevant for the study of fiction from a pragmatic perspective , and it point to the great potential of future research in this area .\n",
            "__label__800 __label__470 __label__410 __label__440 __label__460 __label__450 nanosyntax : the basic this chapter offer a thorough introduction to nanosyntactic theory , a development of the cartographic program in generative grammar . it discuss the foundation on which nanosyntax be conceive , such as the \" one feature – one head \" maxim and the universal functional sequence ( fseq ) . it also provide a brief comparison of theoretical and terminological issue in nanosyntax vs. the compete framework of distributed morphology . it be see that the syntactic component accord to nanosyntax unify aspect of ( what be traditionally call ) syntax , morphology , and formal semantic . this be reflect in the tool use to probe linguistic structure in the nanosyntactic approach , such as morphological decomposition , syncretism , and containment . the chapter also discuss the technical detail of the syntax – lexicon relation , detail the matching or spellout process and starke ’s view of spellout - drive movement . this chapter be mean to provide reader with the necessary background to understand and navigate the rest of the chapter in this volume .\n",
            "__label__370 cohort profile : the zurich project on the social development from childhood to adulthood ( z - proso ) the zurich project on the social development from childhood to adulthood ( z - proso ) begin in 2004 in response to the need for a well evidence base to support optimal child social development and prevent crime and violence . since then , the study have track the development of a diverse sample of youth ( n = 1,675 in the target sample ; ~50 % female ) from age 7 ( n = 1,360 ) to age 20 ( n = 1,180 ) , with primary datum collection wave at age 7 , 8 , 9 , 10 , 11 , 12 , 13 , 15 , 17 , and 20 . the study use a multi - method , multi - informant design that combine teacher , youth , and parent report with observational and behavioural measure , biosampling , functional imaging , and ecological momentary assessment . analysis of the datum have contribute important evidence to a diversity of topic in child and adolescent development , illuminate the developmental root of crime and aggression , the impact of exposure to different form and combination of victimisation , and trajectory of mental health and neurodevelopmental symptom .\n",
            "__label__610 the man who crucify himself : reading of a medical case in nineteenth - century europe the man who crucify himself be the history of a sensational nineteenth - century medical case . in 1805 a shoemaker call mattio lovat attempt to crucify himself in venice . his act raise a furore , and the story spread across europe . for the rest of the century lovat ’s case fuel scientific and popular debate on medicine , madness , suicide and religion . draw on italian , german , english and french source , maria böhmer trace the multiple reading of the case and identify various ' interpretive community ' . her meticulously research study shed new light on lovat ’s case and offer fresh insight on the case narrative as a genre - both epistemic and literary .\n",
            "__label__910 the imaginative geography of climate war this contribution be base on a set of reflection present at the regov workshop . these reflection be offer as part of a panel discussion around the topic \" regional security and the environment . \" additional presentation provide in the context of this panel discussion include those of richard matthew , university of california irvine ( this volume ) and saleem h. ali , university of vermont ( this volume ) . webcast of all presentation be available at http://www.reg-observatory.org/outputs.html .\n",
            "(('__label__610', '__label__610'), 282)\n",
            "(('__label__610', '__label__570 __label__610'), 53)\n",
            "(('__label__570 __label__610', '__label__570 __label__610'), 52)\n",
            "(('__label__530', '__label__530'), 40)\n",
            "(('__label__330', '__label__330'), 36)\n",
            "(('__label__570 __label__610', '__label__610'), 27)\n",
            "(('__label__910', '__label__910'), 25)\n",
            "(('__label__570', '__label__570'), 22)\n",
            "(('__label__570', '__label__570 __label__610'), 22)\n",
            "(('__label__510', '__label__510'), 21)\n",
            "(('__label__570 __label__610', '__label__570'), 19)\n",
            "(('__label__570 __label__590', '__label__570 __label__590'), 19)\n",
            "(('__label__150', '__label__150'), 18)\n",
            "(('__label__610', '__label__150 __label__610'), 17)\n",
            "(('__label__540', '__label__540'), 15)\n",
            "(('__label__000', '__label__000'), 14)\n",
            "(('__label__150', '__label__610'), 7)\n",
            "(('__label__170 __label__610', '__label__610'), 7)\n",
            "(('__label__142 __label__610', '__label__610'), 7)\n",
            "(('__label__570 __label__590', '__label__570'), 6)\n",
            "(('__label__150', '__label__150 __label__610'), 6)\n",
            "(('__label__820', ''), 5)\n",
            "(('__label__570 __label__630', '__label__570 __label__610'), 5)\n",
            "(('__label__570 __label__630', '__label__570 __label__630'), 5)\n",
            "(('__label__570', '__label__610'), 5)\n",
            "(('__label__910', '__label__000 __label__910'), 4)\n",
            "(('__label__570 __label__590', '__label__570 __label__580 __label__590'), 4)\n",
            "(('__label__560', '__label__560'), 4)\n",
            "(('__label__610', '__label__150'), 4)\n",
            "(('__label__580', '__label__580'), 4)\n",
            "(('__label__610 __label__540', '__label__610'), 3)\n",
            "(('__label__610 __label__540', '__label__570 __label__610'), 3)\n",
            "(('__label__142 __label__570 __label__610', '__label__570 __label__610'), 3)\n",
            "(('__label__910', ''), 3)\n",
            "(('__label__540', '__label__530 __label__540'), 3)\n",
            "(('__label__142 __label__570 __label__610', '__label__610'), 3)\n",
            "(('__label__330', '__label__510'), 3)\n",
            "(('__label__150', '__label__150 __label__330'), 3)\n",
            "(('__label__370', '__label__150'), 3)\n",
            "(('__label__300', '__label__300'), 3)\n",
            "(('__label__070', '__label__070'), 3)\n",
            "(('__label__540', '__label__570'), 3)\n",
            "(('__label__340 __label__610', '__label__610'), 3)\n",
            "(('__label__330', '__label__610'), 2)\n",
            "(('__label__142 __label__530', '__label__530'), 2)\n",
            "(('__label__580', '__label__570'), 2)\n",
            "(('__label__610', '__label__570'), 2)\n",
            "(('__label__000', '__label__000 __label__330'), 2)\n",
            "(('__label__142 __label__150', '__label__610'), 2)\n",
            "(('__label__320', '__label__320'), 2)\n",
            "(('__label__170 __label__610', '__label__570 __label__610'), 2)\n",
            "(('__label__570 __label__630', '__label__570 __label__610 __label__630'), 2)\n",
            "(('__label__540', '__label__570 __label__610'), 2)\n",
            "(('__label__800 __label__470 __label__410 __label__440 __label__460 __label__450', ''), 2)\n",
            "(('__label__610', '__label__150 __label__570 __label__610'), 2)\n",
            "(('__label__610', '__label__330'), 2)\n",
            "(('__label__610', '__label__910'), 2)\n",
            "(('__label__000', '__label__000 __label__510'), 2)\n",
            "(('__label__142 __label__610', '__label__570 __label__610'), 2)\n",
            "(('__label__000 __label__410', '__label__000'), 2)\n",
            "(('__label__370', ''), 2)\n",
            "(('__label__150', '__label__570'), 2)\n",
            "(('__label__510', '__label__510 __label__530'), 2)\n",
            "(('__label__570 __label__630', '__label__570'), 2)\n",
            "(('__label__570 __label__590', '__label__580'), 2)\n",
            "(('__label__370', '__label__330'), 2)\n",
            "(('__label__570', '__label__570 __label__630'), 2)\n",
            "(('__label__570 __label__610', '__label__540 __label__570 __label__610'), 1)\n",
            "(('__label__150', ''), 1)\n",
            "(('__label__610', '__label__150 __label__330 __label__610'), 1)\n",
            "(('__label__370 __label__300', '__label__330'), 1)\n",
            "(('__label__230', ''), 1)\n",
            "(('__label__570 __label__630', '__label__570 __label__590'), 1)\n",
            "(('__label__142 __label__570 __label__610', '__label__570'), 1)\n",
            "(('__label__330', '__label__150 __label__330 __label__610'), 1)\n",
            "(('__label__530', '__label__530 __label__910'), 1)\n",
            "(('__label__150', '__label__320 __label__330'), 1)\n",
            "(('__label__570 __label__590', '__label__300 __label__570'), 1)\n",
            "(('__label__300', '__label__300 __label__570 __label__590'), 1)\n",
            "(('__label__340 __label__610', ''), 1)\n",
            "(('__label__000', '__label__330'), 1)\n",
            "(('__label__100', '__label__330 __label__610'), 1)\n",
            "(('__label__610', '__label__330 __label__610'), 1)\n",
            "(('__label__142 __label__610', '__label__150 __label__610'), 1)\n",
            "(('__label__630', '__label__570 __label__610'), 1)\n",
            "(('__label__700', '__label__150 __label__330 __label__610'), 1)\n",
            "(('__label__570', '__label__000 __label__330 __label__910'), 1)\n",
            "(('__label__330', '__label__070 __label__330'), 1)\n",
            "(('__label__330', '__label__330 __label__610'), 1)\n",
            "(('__label__370', '__label__150 __label__300'), 1)\n",
            "(('__label__490 __label__890 __label__410', '__label__300'), 1)\n",
            "(('__label__100', '__label__330'), 1)\n",
            "(('__label__560', '__label__560 __label__570 __label__630'), 1)\n",
            "(('__label__910', '__label__610'), 1)\n",
            "(('__label__150', '__label__330 __label__910'), 1)\n",
            "(('__label__560', ''), 1)\n",
            "(('__label__300', '__label__610'), 1)\n",
            "(('__label__370', '__label__610'), 1)\n",
            "(('__label__570 __label__610 __label__540', '__label__570 __label__610'), 1)\n",
            "(('__label__610', '__label__570 __label__610 __label__630'), 1)\n",
            "(('__label__370', '__label__150 __label__300 __label__370'), 1)\n",
            "(('__label__570 __label__630', '__label__610'), 1)\n",
            "(('__label__610', '__label__540 __label__610'), 1)\n",
            "(('__label__900', '__label__910'), 1)\n",
            "(('__label__142', '__label__570 __label__610 __label__630'), 1)\n",
            "(('__label__570 __label__590', '__label__560 __label__580'), 1)\n",
            "(('__label__910', '__label__590'), 1)\n",
            "(('__label__200', ''), 1)\n",
            "(('__label__580', '__label__570 __label__580'), 1)\n",
            "(('__label__570 __label__610', '__label__330'), 1)\n",
            "(('__label__340', '__label__000 __label__410'), 1)\n",
            "(('__label__320', '__label__910'), 1)\n",
            "(('__label__142 __label__910', '__label__540'), 1)\n",
            "(('__label__610', '__label__510'), 1)\n",
            "(('__label__370', '__label__150 __label__330 __label__610'), 1)\n",
            "(('__label__570 __label__590', '__label__510 __label__530'), 1)\n",
            "(('__label__610', '__label__300 __label__330'), 1)\n",
            "(('__label__000', '__label__000 __label__910'), 1)\n",
            "(('__label__070', '__label__070 __label__320'), 1)\n",
            "(('__label__910', '__label__570 __label__590 __label__910'), 1)\n",
            "(('__label__570', '__label__540 __label__570 __label__610'), 1)\n",
            "(('__label__000', '__label__330 __label__610'), 1)\n",
            "(('__label__910', '__label__590 __label__910'), 1)\n",
            "(('__label__410 __label__000', '__label__000'), 1)\n",
            "(('__label__910', '__label__540 __label__610'), 1)\n",
            "(('__label__170 __label__610', '__label__530 __label__540 __label__610'), 1)\n",
            "(('__label__610', '__label__000 __label__330 __label__510'), 1)\n",
            "(('__label__570', '__label__510'), 1)\n",
            "(('__label__000', '__label__000 __label__570'), 1)\n",
            "(('__label__142 __label__330', '__label__330 __label__610'), 1)\n",
            "(('__label__570', '__label__910'), 1)\n",
            "(('__label__370', '__label__070 __label__300'), 1)\n",
            "(('__label__910', '__label__150 __label__910'), 1)\n",
            "(('__label__570 __label__610 __label__600', '__label__570 __label__580 __label__630'), 1)\n",
            "(('__label__300', '__label__300 __label__570'), 1)\n",
            "(('__label__570 __label__590', '__label__300 __label__590'), 1)\n",
            "(('__label__142 __label__570', '__label__610'), 1)\n",
            "(('__label__142', '__label__150'), 1)\n",
            "(('__label__570 __label__630', '__label__560 __label__570'), 1)\n",
            "(('__label__142 __label__580', '__label__570 __label__580'), 1)\n",
            "(('__label__510', '__label__530'), 1)\n",
            "(('__label__000 __label__820 __label__410', '__label__000 __label__410'), 1)\n",
            "(('__label__170 __label__330', '__label__330'), 1)\n",
            "(('__label__610 __label__540 __label__330', '__label__150 __label__570 __label__610'), 1)\n",
            "(('__label__320', '__label__330'), 1)\n",
            "(('__label__490 __label__890 __label__410', ''), 1)\n",
            "(('__label__370', '__label__070 __label__370'), 1)\n",
            "(('__label__470 __label__410 __label__450 __label__800 __label__440 __label__460', ''), 1)\n",
            "(('__label__230 __label__200', ''), 1)\n",
            "(('__label__570 __label__610 __label__630', '__label__570 __label__630'), 1)\n",
            "(('__label__570 __label__610 __label__600', '__label__570 __label__630'), 1)\n",
            "(('__label__570 __label__610', '__label__000 __label__610'), 1)\n",
            "(('__label__000', '__label__000 __label__330 __label__510'), 1)\n",
            "(('__label__820', '__label__000'), 1)\n",
            "(('__label__570 __label__590 __label__610', '__label__570 __label__610'), 1)\n",
            "(('__label__070', '__label__610'), 1)\n",
            "(('__label__910', '__label__320'), 1)\n",
            "(('__label__070', '__label__070 __label__300'), 1)\n",
            "(('__label__320', '__label__320 __label__330'), 1)\n",
            "(('__label__142 __label__610', '__label__570'), 1)\n",
            "(('__label__370', '__label__150 __label__370'), 1)\n",
            "(('__label__570 __label__610 __label__600', '__label__570 __label__610 __label__630'), 1)\n",
            "(('__label__530', '__label__910'), 1)\n",
            "(('__label__910', '__label__320 __label__330'), 1)\n",
            "(('__label__580', '__label__560 __label__580'), 1)\n",
            "(('__label__570', '__label__000 __label__570'), 1)\n",
            "(('__label__100', ''), 1)\n",
            "(('__label__180', '__label__100'), 1)\n",
            "(('__label__170', '__label__570 __label__610'), 1)\n",
            "(('__label__150 __label__610', '__label__150 __label__300 __label__610'), 1)\n",
            "(('__label__200 __label__290 __label__900 __label__930', '__label__610'), 1)\n",
            "(('__label__570 __label__610', '__label__570 __label__630'), 1)\n",
            "(('__label__530', '__label__000'), 1)\n",
            "(('__label__142 __label__570 __label__610 __label__600', '__label__300 __label__570 __label__590'), 1)\n",
            "(('__label__700 __label__900', '__label__820'), 1)\n",
            "(('__label__700', '__label__820'), 1)\n",
            "(('__label__000', '__label__330 __label__570 __label__610'), 1)\n",
            "(('__label__300', '__label__330 __label__610'), 1)\n",
            "(('__label__530', '__label__530 __label__610'), 1)\n",
            "(('__label__570', '__label__570 __label__910'), 1)\n",
            "(('__label__142 __label__150', '__label__570 __label__610'), 1)\n",
            "(('__label__560', '__label__560 __label__580'), 1)\n",
            "(('__label__150', '__label__570 __label__610'), 1)\n",
            "(('__label__610', '__label__570 __label__590'), 1)\n",
            "(('__label__330', '__label__570 __label__610'), 1)\n",
            "(('__label__580', '__label__540 __label__580'), 1)\n",
            "(('__label__910', '__label__570'), 1)\n",
            "(('__label__570 __label__610', '__label__000 __label__570 __label__610'), 1)\n",
            "(('__label__570 __label__590', '__label__300 __label__570 __label__590'), 1)\n",
            "(('__label__200', '__label__150 __label__610'), 1)\n",
            "(('__label__950', ''), 1)\n",
            "(('__label__610', '__label__580'), 1)\n",
            "(('__label__910', '__label__610 __label__910'), 1)\n",
            "(('__label__570 __label__590', '__label__000 __label__610 __label__910'), 1)\n",
            "(('__label__820', '__label__820'), 1)\n",
            "(('__label__570', '__label__300 __label__580 __label__590'), 1)\n",
            "(('__label__580', '__label__570 __label__590'), 1)\n",
            "(('__label__340 __label__610', '__label__570 __label__610'), 1)\n",
            "(('__label__570 __label__630', '__label__570 __label__580 __label__630'), 1)\n",
            "(('__label__560', '__label__560 __label__910'), 1)\n",
            "(('__label__330', '__label__300 __label__330'), 1)\n",
            "(('__label__330', ''), 1)\n",
            "(('__label__300', '__label__150'), 1)\n",
            "(('__label__330', '__label__320 __label__330'), 1)\n",
            "(('__label__330', '__label__000'), 1)\n",
            "(('__label__330', '__label__330 __label__510'), 1)\n",
            "(('__label__570 __label__590', '__label__570 __label__580'), 1)\n",
            "(('__label__820', '__label__910'), 1)\n",
            "(('__label__070', '__label__300 __label__320'), 1)\n",
            "(('__label__570 __label__590', '__label__300'), 1)\n",
            "(('__label__170 __label__610', '__label__540 __label__610'), 1)\n",
            "(('__label__570 __label__580', '__label__570 __label__610'), 1)\n",
            "(('__label__300', '__label__320'), 1)\n",
            "(('__label__790 __label__390 __label__300', '__label__150'), 1)\n",
            "(('__label__510', '__label__330 __label__510'), 1)\n",
            "(('__label__570 __label__590 __label__580', '__label__580'), 1)\n",
            "(('__label__910', '__label__330 __label__910'), 1)\n",
            "(('__label__000', '__label__150'), 1)\n",
            "(('__label__142', '__label__320 __label__330'), 1)\n",
            "(('__label__300 __label__610', '__label__150 __label__330'), 1)\n",
            "(('__label__490 __label__890 __label__410', '__label__820'), 1)\n",
            "(('__label__570 __label__610', '__label__540 __label__570'), 1)\n",
            "(('__label__580', '__label__580 __label__590'), 1)\n",
            "(('__label__610', ''), 1)\n",
            "(('__label__610 __label__540', '__label__540 __label__570'), 1)\n"
          ]
        }
      ]
    },
    {
      "cell_type": "markdown",
      "metadata": {
        "id": "4_HB89vqDThm"
      },
      "source": [
        "# Verbessern des Modells\n",
        "Verbessern des Modells: Z.B. mehr Epochen, mehr Dimensionen, längere Buchstaben-N-Gramme, ...\n",
        "\n",
        "Wichtigste Parameter:\n",
        "```\n",
        "   epoch N  # Beim Lernen wird das ganze Trainingsset N mal benutzt. Beeinflusst die Dauer des Trainings linear!\n",
        "   dim N    # Länge der gelernten Vektoren für Wörter und Buchstaben-N-Gramme\n",
        "   lr 0.N   # Initiale Lernrate: Bestimmt, wie stark die Vektoren verändert werden, wenn Fehler passieren. Während des Lernens wird die Lernrate immer kleiner.\n",
        "   mmin N   # Minimale Länge der Subwords, d.h. Buchstaben-N-Gramme\n",
        "   maxn N   # Maximale Länger der Subwords, d.h. Buchstaben-N-Gramme (falls N=0, werden keine Subwords benutzt, nur Wörter)\n",
        "```"
      ]
    },
    {
      "cell_type": "code",
      "source": [
        "model = fasttext.train_supervised(\n",
        "    input='impresso-lid-train.tsv', \n",
        "    epoch=10,  # Wie oft werden die Trainingsdaten benutzt\n",
        "    minn=2,    # Minimale Subword-Länge in Buchstaben  \n",
        "    maxn=2,    # Maximale Subword-Länge in Buchstaben \n",
        "    dim=5,     # Dimensionalität der Vektoren für die Repräsentation der Wörter und Subwords\n",
        "    lr=0.1     # Learning Rate (Lernrate): Wie stark wird ein Fehler bestraft? \n",
        "    )\n",
        "print_results(*model.test(\"impresso-lid-test.tsv\"))\n",
        "model.test_label('impresso-lid-test.tsv',k=1)"
      ],
      "metadata": {
        "id": "2n7rBpwhWynE"
      },
      "execution_count": null,
      "outputs": []
    },
    {
      "cell_type": "markdown",
      "metadata": {
        "id": "KOyEz_nQDThq"
      },
      "source": []
    },
    {
      "cell_type": "code",
      "source": [
        "model=ft\n",
        "# Store only the 100,000 most frequent words\n",
        "max_words = 400000\n",
        "words = model.words[:max_words]\n",
        "vectors = [model[word] for word in words]\n",
        "\n",
        "# Save the subset of words and vectors to a text file\n",
        "with open(\"model_subset.txt\", \"w\", encoding=\"utf-8\") as f:\n",
        "    # Write the header with the vocabulary size and vector dimensionality\n",
        "    f.write(f\"{max_words} {model.get_dimension()}\\n\")\n",
        "\n",
        "    # Write the vectors for each word\n",
        "    for word, vector in zip(words, vectors):\n",
        "        vector_str = \" \".join([f\"{x:.6f}\" for x in vector])\n",
        "        f.write(f\"{word} {vector_str}\\n\")\n"
      ],
      "metadata": {
        "id": "x0-2yl4Ssh2J"
      },
      "execution_count": null,
      "outputs": []
    }
  ],
  "metadata": {
    "celltoolbar": "Slideshow",
    "kernelspec": {
      "display_name": "Python 3",
      "language": "python",
      "name": "python3"
    },
    "language_info": {
      "codemirror_mode": {
        "name": "ipython",
        "version": 3
      },
      "file_extension": ".py",
      "mimetype": "text/x-python",
      "name": "python",
      "nbconvert_exporter": "python",
      "pygments_lexer": "ipython3",
      "version": "3.8.5"
    },
    "livereveal": {
      "center": true,
      "embedded": false,
      "enable_chalkboard": true,
      "scroll": true,
      "start_slideshow_at": "selected",
      "theme": "simple",
      "transition": "fade"
    },
    "colab": {
      "provenance": [],
      "include_colab_link": true
    }
  },
  "nbformat": 4,
  "nbformat_minor": 0
}