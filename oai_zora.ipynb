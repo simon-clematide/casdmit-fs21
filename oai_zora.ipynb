{
  "nbformat": 4,
  "nbformat_minor": 0,
  "metadata": {
    "colab": {
      "provenance": [],
      "collapsed_sections": [
        "o1T5t66wsb4w"
      ],
      "toc_visible": true,
      "authorship_tag": "ABX9TyMXsl8SMvnnk7ycyfpYGhZ2",
      "include_colab_link": true
    },
    "kernelspec": {
      "name": "python3",
      "display_name": "Python 3"
    },
    "language_info": {
      "name": "python"
    }
  },
  "cells": [
    {
      "cell_type": "markdown",
      "metadata": {
        "id": "view-in-github",
        "colab_type": "text"
      },
      "source": [
        "<a href=\"https://colab.research.google.com/github/simon-clematide/casdmit-fs21/blob/master/oai_zora.ipynb\" target=\"_parent\"><img src=\"https://colab.research.google.com/assets/colab-badge.svg\" alt=\"Open In Colab\"/></a>"
      ]
    },
    {
      "cell_type": "markdown",
      "source": [
        "# UZH ZORA OAI Downloader\n",
        "Kleines Skript, das \n",
        " - ZORA-Publikationen runterlädt\n",
        " - ein _multilabel_, _multiclass_ Datenset erstellt mit Dewey-Kodes als Klassen\n",
        " - eingeschränkt auf die englische Publikationen mit einem Abstract."
      ],
      "metadata": {
        "id": "5sDLoI7KsPDa"
      }
    },
    {
      "cell_type": "markdown",
      "source": [
        "## Installation, Setup, Importieren von Modulen\n"
      ],
      "metadata": {
        "id": "o1T5t66wsb4w"
      }
    },
    {
      "cell_type": "code",
      "execution_count": null,
      "metadata": {
        "colab": {
          "base_uri": "https://localhost:8080/"
        },
        "id": "4P5hPGevsNV6",
        "outputId": "454cc8ed-0d1f-4cff-f03c-182f132c2578"
      },
      "outputs": [
        {
          "output_type": "stream",
          "name": "stdout",
          "text": [
            "Looking in indexes: https://pypi.org/simple, https://us-python.pkg.dev/colab-wheels/public/simple/\n",
            "Collecting sickle\n",
            "  Downloading Sickle-0.7.0-py3-none-any.whl (12 kB)\n",
            "Requirement already satisfied: requests>=1.1.0 in /usr/local/lib/python3.10/dist-packages (from sickle) (2.27.1)\n",
            "Requirement already satisfied: lxml>=3.2.3 in /usr/local/lib/python3.10/dist-packages (from sickle) (4.9.2)\n",
            "Requirement already satisfied: urllib3<1.27,>=1.21.1 in /usr/local/lib/python3.10/dist-packages (from requests>=1.1.0->sickle) (1.26.15)\n",
            "Requirement already satisfied: certifi>=2017.4.17 in /usr/local/lib/python3.10/dist-packages (from requests>=1.1.0->sickle) (2022.12.7)\n",
            "Requirement already satisfied: charset-normalizer~=2.0.0 in /usr/local/lib/python3.10/dist-packages (from requests>=1.1.0->sickle) (2.0.12)\n",
            "Requirement already satisfied: idna<4,>=2.5 in /usr/local/lib/python3.10/dist-packages (from requests>=1.1.0->sickle) (3.4)\n",
            "Installing collected packages: sickle\n",
            "Successfully installed sickle-0.7.0\n"
          ]
        }
      ],
      "source": [
        "! pip install sickle"
      ]
    },
    {
      "cell_type": "code",
      "source": [
        "import sickle\n",
        "import json\n",
        "import logging\n",
        "import re"
      ],
      "metadata": {
        "id": "UEEk7EhXsYYs"
      },
      "execution_count": null,
      "outputs": []
    },
    {
      "cell_type": "markdown",
      "source": [
        "## Downloader\n"
      ],
      "metadata": {
        "id": "v_YX16sNsgzW"
      }
    },
    {
      "cell_type": "code",
      "source": [
        "def download(filename, limit=999999999):\n",
        "    \"\"\"Download a maximum of limit publications to a JSONL file\"\"\"\n",
        "\n",
        "    # Initialisiere den Sickle-Client mit der Basis-URL des OAI-PMH-Servers\n",
        "    sickle_client = sickle.Sickle('https://www.zora.uzh.ch/cgi/oai2')\n",
        "    \n",
        "    # Set metadata prefix and other parameters for the OAI-PMH request\n",
        "    metadata_prefix = 'oai_dc'\n",
        "    params = {'metadataPrefix': metadata_prefix, 'ignore_deleted': True}\n",
        "    \n",
        "    # when looping over the records, sickle automatically loads further pages as long as a resumption token is there \n",
        "    records = sickle_client.ListRecords(**params)\n",
        "    \n",
        "    # open output file and iteratively write each record\n",
        "    with open(filename, \"w\", encoding=\"utf-8\") as outfile:\n",
        "        for i, record in enumerate(records):\n",
        "            d_record = dict(record)\n",
        "            print(json.dumps(d_record, ensure_ascii=False), file=outfile)\n",
        "            \n",
        "            # stoppe hier, wenn Download-Limite erreicht ist\n",
        "            if i >= limit:\n",
        "                break\n",
        "            # reportiere den Download-Fortschritt\n",
        "            if i % 100 == 0:\n",
        "                logging.info(f\"Downloaded {i} records\")"
      ],
      "metadata": {
        "id": "9PO58B2htCVQ"
      },
      "execution_count": null,
      "outputs": []
    },
    {
      "cell_type": "code",
      "source": [
        "download(\"zora-1000.jsonl\", limit=100)"
      ],
      "metadata": {
        "id": "4JaIFrZduV7O"
      },
      "execution_count": null,
      "outputs": []
    },
    {
      "cell_type": "code",
      "source": [
        "! head zora-1000.jsonl"
      ],
      "metadata": {
        "colab": {
          "base_uri": "https://localhost:8080/"
        },
        "id": "OsY76pHHwhkX",
        "outputId": "fc930344-0d0f-4a77-8a4a-3f4d0ca563e8"
      },
      "execution_count": null,
      "outputs": [
        {
          "output_type": "stream",
          "name": "stdout",
          "text": [
            "{\"relation\": [\"https://www.zora.uzh.ch/id/eprint/1/\", \"10.1186/1472-6963-7-7\"], \"title\": [\"HEE-GER: a systematic review of German economic evaluations of health care published 1990-2004\"], \"creator\": [\"Schwappach, D L B\", \"Boluarte, T A\"], \"subject\": [\"Swiss Research Institute for Public Health and Addiction\", \"610 Medicine & health\"], \"description\": [\"BACKGROUND: Studies published in non-English languages are systematically missing in systematic reviews of growth and quality of economic evaluations of health care. The aims of this study were: to characterize German evaluations, published in English or German-language, in terms of various key parameters; to investigate methods to derive quality-of-life weights in cost-utility studies; and to examine changes in study characteristics over the years. METHODS: We conducted a country-specific systematic review of the German and English-language literature of German economic evaluations (assessment of or application to the German health care system) published 1990-2004. Generic and specialized health economic databases were searched. Two independent reviewers verified fulfillment of inclusion criteria and extracted study characteristics. RESULTS: The fulltexts of 730 articles were reviewed of which 283 fulfilled all entry criteria. 32% of included studies were published in German-language. 51% of studies evaluated pharmaceuticals and 63% were cost-effectiveness analyses. Economic appraisals concentrate on few disease categories and important health areas are strongly underrepresented. Declaration of sponsorship was associated with article language (49% English articles vs. 29% German articles, p < 0.001). The methodology used to obtain quality-of-life weights in published cost-utility studies was very diverse, poorly reported and most studies did not use German patients' or community health state evaluations. CONCLUSION: Many of the German-language evaluations included in our study are likely to be missing in international reviews and may be systematically different from English-language reviews from Germany. Lack of transparency and adherence to recommended reporting practices constitute a serious problem in German economic evaluations.\"], \"publisher\": [\"BioMed Central\"], \"date\": [\"2007\"], \"source\": [\"Schwappach, D L B; Boluarte, T A  (2007). HEE-GER: a systematic review of German economic evaluations of health care published 1990-2004.  BMC Health Services Research, 7:7.\"], \"language\": [\"eng\"], \"rights\": [\"info:eu-repo/semantics/openAccess\", \"Creative Commons: Attribution 2.0 Generic (CC BY 2.0)\", \"http://creativecommons.org/licenses/by/2.0/\", \"info:eu-repo/semantics/openAccess\"], \"type\": [\"Journal Article\", \"PeerReviewed\", \"info:eu-repo/semantics/article\", \"info:eu-repo/semantics/publishedVersion\"], \"format\": [\"application/pdf\"], \"identifier\": [\"https://www.zora.uzh.ch/id/eprint/1/9/Hee-GerV.pdf\", \"info:doi/10.5167/uzh-1\", \"info:doi/10.1186/1472-6963-7-7\", \"info:pmid/17222334\", \"urn:issn:1472-6963\"]}\n",
            "{\"relation\": [\"https://www.zora.uzh.ch/id/eprint/2/\", \"10.1186/1478-7547-5-5\"], \"title\": [\"The economics of primary prevention of cardiovascular disease - a systematic review of economic evaluations\"], \"creator\": [\"Schwappach, D L B\", \"Boluarte, T A\", \"Suhrcke, M\"], \"subject\": [\"Swiss Research Institute for Public Health and Addiction\", \"610 Medicine & health\"], \"description\": [\"BACKGROUND: In the quest for public and private resources, prevention continues to face a difficult challenge in obtaining tangible public and political support. This may be partly because the economic evidence in favour of prevention is often said to be largely missing. The overall aim of this paper is to examine whether economic evidence in favour of prevention does exist, and if so, what its main characteristics, weaknesses and strengths are. We concentrate on the evidence regarding primary prevention that targets cardiovascular disease event or risk reduction. METHODS: We conducted a systematic literature review of journal articles published during the period 1995-2005, based on a comprehensive key-word based search in generic and specialized electronic databases, accompanied by manual searches of expert databases. The search strategy consisted of combinations of freetext and keywords related to economic evaluation, cardiovascular diseases, and primary preventive interventions of risk assessment or modification. RESULTS: A total of 195 studies fulfilled all of the relevant inclusion criteria. Overall, a significant amount of relevant economic evidence in favour of prevention does exist, despite important remaining gaps. The majority of studies were cost-effectiveness-analyses, expressing benefits as \\\"life years gained\\\", were conducted in a US or UK setting, assessed clinical prevention, mainly drugs targeted at lowering lipid levels, and referred to subjects aged 35-64 years old with at least one risk factor. CONCLUSIONS: First, this review has demonstrated the obvious lack of economic evaluations of broader health promotion interventions, when compared to clinical prevention. Second, the clear role for government to engage more actively in the economic evaluation of prevention has become very obvious, namely, to fill the gap left by private industry in terms of the evaluation of broader public health interventions and regarding clinical prevention, in light of the documented relationship between study funding and reporting of favourable results. Third, the value of greater adherence to established guidelines on economic evaluation cannot be emphasised enough. Finally, there appear to be certain methodological features in the practice of health economic evaluations that might bias the choice between prevention and cure in favour of the latter.\"], \"publisher\": [\"BioMed Central\"], \"date\": [\"2007\"], \"source\": [\"Schwappach, D L B; Boluarte, T A; Suhrcke, M  (2007). The economics of primary prevention of cardiovascular disease - a systematic review of economic evaluations.  Cost Effectiveness and Resource Allocation : C/E, 5:5.\"], \"language\": [\"eng\"], \"rights\": [\"info:eu-repo/semantics/openAccess\", \"Creative Commons: Attribution 2.0 Generic (CC BY 2.0)\", \"http://creativecommons.org/licenses/by/2.0/\", \"info:eu-repo/semantics/openAccess\"], \"type\": [\"Journal Article\", \"PeerReviewed\", \"info:eu-repo/semantics/article\", \"info:eu-repo/semantics/publishedVersion\"], \"format\": [\"application/pdf\"], \"identifier\": [\"https://www.zora.uzh.ch/id/eprint/2/8/Schwappachbiomed_centrV.pdf\", \"info:doi/10.5167/uzh-2\", \"info:doi/10.1186/1478-7547-5-5\", \"info:pmid/17501999\", \"urn:issn:1478-7547\"]}\n",
            "{\"relation\": [\"https://www.zora.uzh.ch/id/eprint/3/\", \"10.1186/1471-2180-6-15\"], \"title\": [\"Comparison of two chromogenic media and evaluation of two molecular based identification systems for Enterobacter sakazakii detection\"], \"creator\": [\"Lehner, Angelika; https://orcid.org/0000-0003-1863-5090\", \"Nitzsche, S\", \"Breeuwer, P\", \"Diep, B\", \"Thelen, K\", \"Stephan, Roger; https://orcid.org/0000-0003-1002-4762\"], \"subject\": [\"Institute of Food Safety and Hygiene\", \"570 Life sciences; biology\", \"610 Medicine & health\"], \"description\": [\"BACKGROUND: Enterobacter sakazakii is a foodborne pathogen that has been associated with sporadic cases and outbreaks causing meningitis, necrotizing enterocolitis and sepsis especially in neonates. The current FDA detection method includes two enrichment steps, the subculturing of the second enrichment broth on a selective agar (VRBG), a further subculturing of selected grown colonies on TSA and the subsequent biochemical identification of yellow-pigmented colonies by API20E. However, there is a strong need for simplified methods for isolation and identification of E. sakazakii. In this study, two chromogenic media, which allow to indicate presumptive E. sakazakii colonies by the alpha glucosidase activity, as well as a newly developed 1,6-alpha-glucosidase based conventional PCR assay and a rRNA oligonucleotide probe based commercial test system for identification of presumptive E. sakazakii were evaluated on 98 target and non-target strains. The methods were compared with respect to specificity aspects. RESULTS: A total of 75 presumptive E. sakazakii and 23 non-target strains were analysed by using chromogenic media, alpha-glucosidase based PCR assay, and the VIT assay. For most presumptive E. sakazakii strains on the chromogenic media, the PCR and VIT assay confirmed the identification. However, for a number of presumptive E. sakazakii isolates from fruit powder, the alpha-glucosidase PCR and VIT assay did not correspond to the typical E. sakazakii colonies on DFI and ESIA. Further characterization by API32E identification, phylogenetic analysis of partial 16S rRNA sequences and ribotyping strongly suggested, that these strains did not belong to the species E. sakazakii. The newly developed alpha-glucosidase based PCR assay as well as the commercially available VIT Enterobacter sakazakii identification test showed an excellent correlation with the 16S rRNA data, and are thus well suited for identification of E. sakazakii. CONCLUSION: The results indicate that presumptive colonies on ESIA and DFI media need further species identification. Both evaluated molecular methods, the alpha-glucosidase PCR and the 16S RNA in situ hybridisation test (VIT), although based on completely different target regions and methodologies performed equally well in terms of specificity.\"], \"publisher\": [\"BioMed Central\"], \"date\": [\"2006\"], \"source\": [\"Lehner, Angelika; Nitzsche, S; Breeuwer, P; Diep, B; Thelen, K; Stephan, Roger  (2006). Comparison of two chromogenic media and evaluation of two molecular based identification systems for Enterobacter sakazakii detection.  BMC Microbiology, 6:15.\"], \"language\": [\"eng\", \"eng\"], \"rights\": [\"info:eu-repo/semantics/openAccess\", \"Creative Commons: Attribution 2.0 Generic (CC BY 2.0)\", \"http://creativecommons.org/licenses/by/2.0/\", \"info:eu-repo/semantics/openAccess\"], \"type\": [\"Journal Article\", \"PeerReviewed\", \"info:eu-repo/semantics/article\", \"info:eu-repo/semantics/publishedVersion\"], \"format\": [\"application/pdf\"], \"identifier\": [\"https://www.zora.uzh.ch/id/eprint/3/9/Lehner2006PuV.pdf\", \"info:doi/10.5167/uzh-3\", \"info:doi/10.1186/1471-2180-6-15\", \"info:pmid/16504079\", \"urn:issn:1471-2180\"]}\n",
            "{\"relation\": [\"https://www.zora.uzh.ch/id/eprint/4/\", \"10.1186/1471-2180-5-23\"], \"title\": [\"Serotypes, intimin variants and other virulence factors of eae positive Escherichia coli strains isolated from healthy cattle in Switzerland. Identification of a new intimin variant gene (eae-η2)\"], \"creator\": [\"Blanco, Miguel\", \"Schumacher, Sandra\", \"Tasara, Taurai\", \"Zweifel, Claudio\", \"Blanco, Jésus E\", \"Dahbi, Ghizlane\", \"Blanco, Jorge\", \"Stephan, Roger; https://orcid.org/0000-0003-1002-4762\"], \"subject\": [\"Institute of Food Safety and Hygiene\", \"570 Life sciences; biology\", \"610 Medicine & health\"], \"description\": [\"BACKGROUND: Enteropathogenic Escherichia coli (EPEC) and Shigatoxin-producing Escherichia coli (STEC) share the ability to introduce attaching-and-effacing (A/E) lesions on intestinal cells. The genetic determinants for the production of A/E lesions are located on the locus of enterocyte effacement (LEE), a pathogenicity island that also contains the genes encoding intimin (eae). This study reports information on the occurrence of eae positive E. coli carried by healthy cattle at the point of slaughter, and on serotypes, intimin variants, and further virulence factors of isolated EPEC and STEC strains. RESULTS: Of 51 eae positive bovine E. coli strains, 59% were classified as EPEC and 41% as STEC. EPEC strains belonged to 18 O:H serotypes, six strains to typical EPEC serogroups. EPEC strains harbored a variety of intimin variants with eae-beta1 being most frequently found. Moreover, nine EPEC strains harbored astA (EAST1), seven bfpA (bundlin), and only one strain was positive for the EAF plasmid. We have identified a new intimin gene (eta2) in three bovine bfpA and astA-positive EPEC strains of serotype ONT:H45. STEC strains belonged to seven O:H serotypes with one serotype (O103:H2) accounting for 48% of the strains. The majority of bovine STEC strains (90%) belonged to five serotypes previously reported in association with hemolytic uremic syndrom (HUS), including one O157:H7 STEC strain. STEC strains harbored four intimin variants with eae-epsilon1 and eae-gamma1 being most frequently found. Moreover, the majority of STEC strains carried only stx1 genes (13 strains), and was positive for ehxA (18 strains) encoding for Enterohemolysin. Four STEC strains showed a virulence pattern characteristic of highly virulent human strains (stx2 and eae positive). CONCLUSION: Our data confirm that ruminants are an important source of serologically and genetically diverse intimin-harboring E. coli strains. Moreover, cattle have not only to be considered as important asymptomatic carriers of O157 STEC but can also be a reservoir of EPEC and eae positive non-O157 STEC, which are described in association with human diseases.\"], \"publisher\": [\"BioMed Central\"], \"date\": [\"2005\"], \"source\": [\"Blanco, Miguel; Schumacher, Sandra; Tasara, Taurai; Zweifel, Claudio; Blanco, Jésus E; Dahbi, Ghizlane; Blanco, Jorge; Stephan, Roger  (2005). Serotypes, intimin variants and other virulence factors of eae positive Escherichia coli strains isolated from healthy cattle in Switzerland. Identification of a new intimin variant gene (eae-η2).  BMC Microbiology, 5:23.\"], \"language\": [\"eng\"], \"rights\": [\"info:eu-repo/semantics/openAccess\", \"Creative Commons: Attribution 2.0 Generic (CC BY 2.0)\", \"http://creativecommons.org/licenses/by/2.0/\", \"info:eu-repo/semantics/openAccess\"], \"type\": [\"Journal Article\", \"PeerReviewed\", \"info:eu-repo/semantics/article\", \"info:eu-repo/semantics/publishedVersion\"], \"format\": [\"application/pdf\"], \"identifier\": [\"https://www.zora.uzh.ch/id/eprint/4/11/ZORA4.pdf\", \"info:doi/10.5167/uzh-4\", \"info:doi/10.1186/1471-2180-5-23\", \"info:pmid/15882459\", \"urn:issn:1471-2180\"]}\n",
            "{\"relation\": [\"https://www.zora.uzh.ch/id/eprint/5/\", \"10.1186/1471-2180-4-43\"], \"title\": [\"16S rRNA gene based analysis of Enterobacter sakazakii strains from different sources and development of a PCR assay for identification\"], \"creator\": [\"Lehner, Angelika; https://orcid.org/0000-0003-1863-5090\", \"Tasara, Taurai\", \"Stephan, Roger; https://orcid.org/0000-0003-1002-4762\"], \"subject\": [\"Institute of Food Safety and Hygiene\", \"570 Life sciences; biology\", \"610 Medicine & health\"], \"description\": [\"BACKGROUND: E. sakazakii is considered to be an opportunistic pathogen, implicated in food borne diseases causing meningitis or enteritis especially in neonates and infants. Cultural standard identification procedures for E. sakazakii include the observation of yellow pigmentation of colonies and a positive glucosidase activity. Up to now, only one PCR system based on a single available 16S rRNA gene sequence has been published for E. sakazakii identification. However, in our hands a preliminary evaluation of this system to a number of target and non-target strains showed significant specificity problems of this system. In this study full-length 16S rRNA genes of thirteen E. sakazakii strains from food, environment and human origin as well as the type strain ATCC 51329 were sequenced. Based on this sequence data a new specific PCR system for E. sakazakii was developed and evaluated. RESULTS: By phylogenetic analysis of the new full-length 16S rRNA gene sequence data obtained we could show the presence of a second phylogenetic distinct lineage within the E. sakazakii species. The newly developed 16S rRNA gene targeting PCR system allows identification of E. sakazakii strains from both lineages. The assay's ability to correctly identify different E. sakazakii isolates as well as to differentiate E. sakazakii from other closely related Enterobacteriaceae species and other microorganisms was shown on 75 target and non-target strains. CONCLUSION: By this study we are presenting a specific and reliable PCR identification system, which is able to correctly identify E. sakazakii isolates from both phylogenetic distinct lines within the E. sakazakii species. The impact of this second newly described phylogenetic line within the E. sakazakii species in view of clinical and food safety aspects need further investigation.\"], \"publisher\": [\"BioMed Central\"], \"date\": [\"2004\"], \"source\": [\"Lehner, Angelika; Tasara, Taurai; Stephan, Roger  (2004). 16S rRNA gene based analysis of Enterobacter sakazakii strains from different sources and development of a PCR assay for identification.  BMC Microbiology, 4:43.\"], \"language\": [\"eng\"], \"rights\": [\"info:eu-repo/semantics/openAccess\", \"Creative Commons: Attribution 2.0 Generic (CC BY 2.0)\", \"http://creativecommons.org/licenses/by/2.0/\", \"info:eu-repo/semantics/openAccess\"], \"type\": [\"Journal Article\", \"PeerReviewed\", \"info:eu-repo/semantics/article\", \"info:eu-repo/semantics/publishedVersion\"], \"format\": [\"application/pdf\"], \"identifier\": [\"https://www.zora.uzh.ch/id/eprint/5/9/Lehner2004PuV.pdf\", \"info:doi/10.5167/uzh-5\", \"info:doi/10.1186/1471-2180-4-43\", \"info:pmid/15563736\", \"urn:issn:1471-2180\"]}\n",
            "{\"relation\": [\"https://www.zora.uzh.ch/id/eprint/6/\", \"10.1186/1471-2180-4-10\"], \"title\": [\"First isolation and further characterization of enteropathogenic Escherichia coli (EPEC) O157:H45 strains from cattle\"], \"creator\": [\"Stephan, Roger; https://orcid.org/0000-0003-1002-4762\", \"Borel, Nicole; https://orcid.org/0000-0002-1556-9262\", \"Zweifel, Claudio\", \"Blanco, M A\", \"Blanco, J E\"], \"subject\": [\"Institute of Veterinary Pathology\", \"Institute of Food Safety and Hygiene\", \"570 Life sciences; biology\", \"610 Medicine & health\"], \"description\": [\"BACKGROUND: Enteropathogenic Escherichia coli (EPEC), mainly causing infantile diarrhoea, represents one of at least six different categories of diarrheagenic E. coli with corresponding distinct pathogenic schemes. The mechanism of EPEC pathogenesis is based on the ability to introduce the attaching-and-effacing (A/E) lesions and intimate adherence of bacteria to the intestinal epithelium. The role and the epidemiology of non-traditional enteropathogenic E. coli serogroup strains are not well established. E. coli O157:H45 EPEC strains, however, are described in association with enterocolitis and sporadic diarrhea in human. Moreover, a large outbreak associated with E. coli O157:H45 EPEC was reported in Japan in 1998. During a previous study on the prevalence of E. coli O157 in healthy cattle in Switzerland, E. coli O157:H45 strains originating from 6 fattening cattle and 5 cows were isolated. In this study, phenotypic and genotypic characteristics of these strains are described. Various virulence factors (stx, eae, ehxA, astA, EAF plasmid, bfp) of different categories of pathogenic E. coli were screened by different PCR systems. Moreover, the capability of the strains to adhere to cells was tested on tissue culture cells. RESULTS: All 11 sorbitol-positive E. coli O157:H45 strains tested negative for the Shiga toxin genes (stx), but were positive for eae and were therefore considered as EPEC. All strains harbored eae subtype alpha1. The gene encoding the heat-stable enterotoxin 1 (EAST1) was found in 10 of the 11 strains. None of the strains, however, carried ehx A genes. The capability of the strains to adhere to cells was shown by 10 strains harbouring bfp gene by localized adherence pattern on HEp-2 and Caco-2 cells. CONCLUSION: This study reports the first isolation of typical O157:H45 EPEC strains from cattle. Furthermore, our findings emphasize the fact that E. coli with the O157 antigen are not always STEC but may belong to other pathotypes. Cattle seem also to be a reservoir of O157:H45 EPEC strains, which are described in association with human diseases. Therefore, these strains appear to play a role as food borne pathogens and have to be considered and evaluated in view of food safety aspects.\"], \"publisher\": [\"BioMed Central\"], \"date\": [\"2004\"], \"source\": [\"Stephan, Roger; Borel, Nicole; Zweifel, Claudio; Blanco, M A; Blanco, J E  (2004). First isolation and further characterization of enteropathogenic Escherichia coli (EPEC) O157:H45 strains from cattle.  BMC Microbiology, 4:10.\"], \"language\": [\"eng\"], \"rights\": [\"info:eu-repo/semantics/openAccess\", \"info:eu-repo/semantics/openAccess\"], \"type\": [\"Journal Article\", \"PeerReviewed\", \"info:eu-repo/semantics/article\", \"info:eu-repo/semantics/publishedVersion\"], \"format\": [\"application/pdf\"], \"identifier\": [\"https://www.zora.uzh.ch/id/eprint/6/9/Stephan2004PuV.pdf\", \"info:doi/10.5167/uzh-6\", \"info:doi/10.1186/1471-2180-4-10\", \"info:pmid/15113396\", \"urn:issn:1471-2180\"]}\n",
            "{\"relation\": [\"https://www.zora.uzh.ch/id/eprint/7/\", \"10.1186/1471-2458-3-39\"], \"title\": [\"Risk factors for antibiotic resistance in Campylobacter spp. isolated from raw poultry meat in Switzerland\"], \"creator\": [\"Ledergerber, U\", \"Regula, G\", \"Stephan, Roger; https://orcid.org/0000-0003-1002-4762\", \"Danuser, J\", \"Bissig, B\", \"Stärk, K D C\"], \"subject\": [\"Institute of Food Safety and Hygiene\", \"570 Life sciences; biology\", \"610 Medicine & health\"], \"description\": [\"BACKGROUND: The world-wide increase of foodborne infections with antibiotic resistant pathogens is of growing concern and is designated by the World Health Organization as an emerging public health problem. Thermophilic Campylobacter have been recognised as a major cause of foodborne bacterial gastrointestinal human infections in Switzerland and in many other countries throughout the world. Poultry meat is the most common source for foodborne cases caused by Campylobacter. Because all classes of antibiotics recommended for treatment of human campylobacteriosis are also used in veterinary medicine, in view of food safety, the resistance status of Campylobacter isolated from poultry meat is of special interest. METHODS: Raw poultry meat samples were collected throughout Switzerland and Liechtenstein at retail level and examined for Campylobacter spp. One strain from each Campylobacter-positive sample was selected for susceptibility testing with the disc diffusion and the E-test method. Risk factors associated with resistance to the tested antibiotics were analysed by multiple logistic regression. RESULTS: In total, 91 Campylobacter spp. strains were isolated from 415 raw poultry meat samples. Fifty-one strains (59%) were sensitive to all tested antibiotics. Nineteen strains (22%) were resistant to a single, nine strains to two antibiotics, and eight strains showed at least three antibiotic resistances. Resistance was observed most frequently to ciprofloxacin (28.7%), tetracycline (12.6%), sulphonamide (11.8%), and ampicillin (10.3%). One multiple resistant strain exhibited resistance to five antibiotics including ciprofloxacin, tetracycline, and erythromycin. These are the most important antibiotics for treatment of human campylobacteriosis. A significant risk factor associated with multiple resistance in Campylobacter was foreign meat production compared to Swiss meat production (odds ratio = 5.7). CONCLUSION: Compared to the situation in other countries, the data of this study show a favourable resistance situation for Campylobacter strains isolated from raw poultry meat produced in Switzerland. Nevertheless, the prevalence of 19% ciprofloxacin resistant strains is of concern and has to be monitored. \\\"Foreign production vs. Swiss production\\\" was a significant risk factor for multiple resistance in the logistic regression model. Therefore, an adequate resistance-monitoring programme should include meat produced in Switzerland as well as imported meat samples.\"], \"publisher\": [\"BioMed Central\"], \"date\": [\"2003\"], \"source\": [\"Ledergerber, U; Regula, G; Stephan, Roger; Danuser, J; Bissig, B; Stärk, K D C  (2003). Risk factors for antibiotic resistance in Campylobacter spp. isolated from raw poultry meat in Switzerland.  BMC Public Health, 3:39.\"], \"language\": [\"eng\"], \"rights\": [\"info:eu-repo/semantics/openAccess\", \"info:eu-repo/semantics/openAccess\"], \"type\": [\"Journal Article\", \"PeerReviewed\", \"info:eu-repo/semantics/article\", \"info:eu-repo/semantics/publishedVersion\"], \"format\": [\"application/pdf\"], \"identifier\": [\"https://www.zora.uzh.ch/id/eprint/7/8/Ledergerber2003-3PuV.pdf\", \"info:doi/10.5167/uzh-7\", \"info:doi/10.1186/1471-2458-3-39\", \"info:pmid/14662013\", \"urn:issn:1471-2458\"]}\n",
            "{\"relation\": [\"https://www.zora.uzh.ch/id/eprint/8/\", \"10.1186/1471-2180-2-15\"], \"title\": [\"Detection of Mycobacterium avium subspecies paratuberculosis specific IS900 insertion sequences in bulk-tank milk samples obtained from different regions throughout Switzerland\"], \"creator\": [\"Corti, S\", \"Stephan, Roger; https://orcid.org/0000-0003-1002-4762\"], \"subject\": [\"Institute of Food Safety and Hygiene\", \"570 Life sciences; biology\", \"610 Medicine & health\"], \"description\": [\"BACKGROUND: Since Mycobacterium avium subspecies paratuberculosis (MAP) was isolated from intestinal tissue of a human patient suffering Crohn's disease, a controversial discussion exists whether MAP have a role in the etiology of Crohn's disease or not. Raw milk may be a potential vehicle for the transmission of MAP to human population. In a previous paper, we have demonstrated that MAP are found in raw milk samples obtained from a defined region in Switzerland. The aim of this work is to collect data about the prevalence of MAP specific IS900 insertion sequence in bulk-tank milk samples in different regions of Switzerland. Furthermore, we examined eventual correlation between the presence of MAP and the somatic cell counts, the total colony counts and the presence of Enterobacteriaceae. RESULTS: 273 (19.7%) of the 1384 examined bulk-tank milk samples tested IS900 PCR-positive. The prevalence, however, in the different regions of Switzerland shows significant differences and ranged from 1.7% to 49.2%. Furthermore, there were no statistically significant (p >> 0.05) differences between the somatic cell counts and the total colony counts of PCR-positive and PCR-negative milk samples. Enterobacteriaceae occur as often in IS900 PCR-positive as in PCR-negative milk samples. CONCLUSION: This is the first study, which investigates the prevalence of MAP in bulk-tank milk samples all over Switzerland and infers the herd-level prevalence of MAP infection in dairy herds. The prevalence of 19.7% IS900 PCR-positive bulk-milk samples shows a wide distribution of subclinical MAP-infections in dairy stock in Switzerland. MAP can therefore often be transmitted to humans by raw milk consumption.\"], \"publisher\": [\"BioMed Central\"], \"date\": [\"2002\"], \"source\": [\"Corti, S; Stephan, Roger  (2002). Detection of Mycobacterium avium subspecies paratuberculosis specific IS900 insertion sequences in bulk-tank milk samples obtained from different regions throughout Switzerland.  BMC Microbiology, 2:15.\"], \"language\": [\"eng\"], \"rights\": [\"info:eu-repo/semantics/openAccess\", \"info:eu-repo/semantics/openAccess\"], \"type\": [\"Journal Article\", \"PeerReviewed\", \"info:eu-repo/semantics/article\", \"info:eu-repo/semantics/publishedVersion\"], \"format\": [\"application/pdf\"], \"identifier\": [\"https://www.zora.uzh.ch/id/eprint/8/8/Corti2002PuV.pdf\", \"info:doi/10.5167/uzh-8\", \"info:doi/10.1186/1471-2180-2-15\", \"info:pmid/12097144\", \"urn:issn:1471-2180\"]}\n",
            "{\"relation\": [\"https://www.zora.uzh.ch/id/eprint/9/\", \"10.1186/1471-2148-7-64\"], \"title\": [\"The taxonomy of Enterobacter sakazakii: proposal of a new genus Cronobacter gen. nov. and descriptions of Cronobacter sakazakii comb. nov. Cronobacter sakazakii subsp. sakazakii, comb. nov., Cronobacter sakazakii subsp. malonaticus subsp. nov., Cronobacter turicensis sp. nov., Cronobacter muytjensii sp. nov., Cronobacter dublinensis sp. nov. and Cronobacter genomospecies 1\"], \"creator\": [\"Iversen, C\", \"Lehner, Angelika; https://orcid.org/0000-0003-1863-5090\", \"Mullane, N\", \"Bidlas, E\", \"Cleenwerck, I\", \"Marugg, J\", \"Fanning, S\", \"Stephan, Roger; https://orcid.org/0000-0003-1002-4762\", \"Joosten, H\"], \"subject\": [\"Institute of Food Safety and Hygiene\", \"570 Life sciences; biology\", \"610 Medicine & health\"], \"description\": [\"BACKGROUND: Enterobacter sakazakii is an opportunistic pathogen that can cause infections such as necrotizing enterocolitis, bacteraemia, meningitis and brain abscess/lesions. When the species was defined in 1980, 15 biogroups were described and it was suggested that these could represent multiple species. In this study the taxonomic relationship of strains described as E. sakazakii was further investigated. RESULTS: Strains identified as E. sakazakii were divided into separate groups on the basis of f-AFLP fingerprints, ribopatterns and full-length 16S rRNA gene sequences. DNA-DNA hybridizations revealed five genomospecies. The phenotypic profiles of the genomospecies were determined and biochemical markers identified. CONCLUSION: This study clarifies the taxonomy of E. sakazakii and proposes a reclassification of these organisms.\"], \"publisher\": [\"BioMed Central\"], \"date\": [\"2007\"], \"source\": [\"Iversen, C; Lehner, Angelika; Mullane, N; Bidlas, E; Cleenwerck, I; Marugg, J; Fanning, S; Stephan, Roger; Joosten, H  (2007). The taxonomy of Enterobacter sakazakii: proposal of a new genus Cronobacter gen. nov. and descriptions of Cronobacter sakazakii comb. nov. Cronobacter sakazakii subsp. sakazakii, comb. nov., Cronobacter sakazakii subsp. malonaticus subsp. nov., Cronobacter turicensis sp. nov., Cronobacter muytjensii sp. nov., Cronobacter dublinensis sp. nov. and Cronobacter genomospecies 1.  BMC Evolutionary Biology, 7:64.\"], \"language\": [\"eng\"], \"rights\": [\"info:eu-repo/semantics/openAccess\", \"Creative Commons: Attribution 2.0 Generic (CC BY 2.0)\", \"http://creativecommons.org/licenses/by/2.0/\", \"info:eu-repo/semantics/openAccess\"], \"type\": [\"Journal Article\", \"PeerReviewed\", \"info:eu-repo/semantics/article\", \"info:eu-repo/semantics/publishedVersion\"], \"format\": [\"application/pdf\"], \"identifier\": [\"https://www.zora.uzh.ch/id/eprint/9/8/Iversen_biomedV.pdf\", \"info:doi/10.5167/uzh-9\", \"info:doi/10.1186/1471-2148-7-64\", \"info:pmid/17439656\", \"urn:issn:1471-2148\"]}\n",
            "{\"relation\": [\"https://www.zora.uzh.ch/id/eprint/10/\", \"10.1186/1471-2180-6-58\"], \"title\": [\"Adhesive properties of Enterobacter sakazakii to human epithelial and brain microvascular endothelial cells\"], \"creator\": [\"Mange, J P\", \"Stephan, Roger; https://orcid.org/0000-0003-1002-4762\", \"Borel, Nicole; https://orcid.org/0000-0002-1556-9262\", \"Wild, P\", \"Kim, Kwang Sik\", \"Pospischil, A\", \"Lehner, Angelika; https://orcid.org/0000-0003-1863-5090\"], \"subject\": [\"Institute of Food Safety and Hygiene\", \"Institute of Veterinary Pathology\", \"Clinic for Clinical Pharmacology and Toxicology\", \"570 Life sciences; biology\", \"610 Medicine & health\"], \"description\": [\"BACKGROUND: Enterobacter sakazakii is an opportunistic pathogen that has been associated with sporadic cases and outbreaks causing meningitis, necrotizing enterocolitis and sepsis especially in neonates. However, up to now little is known about the mechanisms of pathogenicity in E. sakazakii. A necessary state in the successful colonization, establishment and ultimately production of disease by microbial pathogens is the ability to adhere to host surfaces such as mucous membranes, gastric and intestinal epithelial or endothelial tissue.This study examined for the first time the adherence ability of 50 E. sakazakii strains to the two epithelial cell lines HEp-2 and Caco-2, as well as the brain microvascular endothelial cell line HBMEC. Furthermore, the effects of bacterial culture conditions on the adherence behaviour were investigated. An attempt was made to characterize the factors involved in adherence. RESULTS: Two distinctive adherence patterns, a diffuse adhesion and the formation of localized clusters of bacteria on the cell surface could be distinguished on all three cell lines. In some strains, a mixture of both patterns was observed. Adherence was maximal during late exponential phase, and increased with higher MOI. The adhesion capacity of E. sakazakii to HBMEC cells was affected by the addition of blood to the bacteria growth medium. Mannose, hemagglutination, trypsin digestion experiments and transmission electron microscopy suggested that the adhesion of E. sakazakii to the epithelial and endothelial cells is mainly non-fimbrial based. CONCLUSION: Adherence experiments show heterogeneity within different E. sakazakii strains. In agreement with studies on E. cloacae, we found no relationship between the adhesive capacities in E. sakazakii and the eventual production of specific fimbriae. Further studies will have to be carried out in order to determine the adhesin(s) involved in the interaction of E. sakazakii with cells and to enhance knowledge of the pathogenesis of E. sakazakii infection.\"], \"publisher\": [\"BioMed Central\"], \"date\": [\"2006\"], \"source\": [\"Mange, J P; Stephan, Roger; Borel, Nicole; Wild, P; Kim, Kwang Sik; Pospischil, A; Lehner, Angelika  (2006). Adhesive properties of Enterobacter sakazakii to human epithelial and brain microvascular endothelial cells.  BMC Microbiology, 6:58.\"], \"language\": [\"eng\"], \"rights\": [\"info:eu-repo/semantics/openAccess\", \"Creative Commons: Attribution 2.0 Generic (CC BY 2.0)\", \"http://creativecommons.org/licenses/by/2.0/\", \"info:eu-repo/semantics/openAccess\"], \"type\": [\"Journal Article\", \"PeerReviewed\", \"info:eu-repo/semantics/article\", \"info:eu-repo/semantics/publishedVersion\"], \"format\": [\"application/pdf\"], \"identifier\": [\"https://www.zora.uzh.ch/id/eprint/10/10/Mange_Microb2006V.pdf\", \"info:doi/10.5167/uzh-10\", \"info:doi/10.1186/1471-2180-6-58\", \"info:pmid/16800879\", \"urn:issn:1471-2180\"]}\n"
          ]
        }
      ]
    },
    {
      "cell_type": "markdown",
      "source": [
        "JSON Viewer: https://codebeautify.org/jsonviewer"
      ],
      "metadata": {
        "id": "2Sqmz8gl7QbI"
      }
    },
    {
      "cell_type": "markdown",
      "source": [
        "## Extrahiere den Dewey Decimal Code aus dem Zora Subject-Feld"
      ],
      "metadata": {
        "id": "A_KHSH48shS-"
      }
    },
    {
      "cell_type": "code",
      "source": [
        "def extract_dewey(zora_subjects):\n",
        "    \"\"\"Return dewey numbers as fasttext labels\n",
        "    \n",
        "    [\"Institute of Food Safety and Hygiene\", \"570 Life sciences; biology\", \"610 Medicine & health\"] \n",
        "\n",
        "    [\"__label__570\",\"__label__610__\"]\n",
        "    \"\"\"\n",
        "\n",
        "    labels = []\n",
        "    for subject in zora_subjects:\n",
        "        m = re.match(r'^(\\d\\d\\d)', subject)\n",
        "        if m:\n",
        "            labels.append(f\"__label__{m.group(1)}\")\n",
        "    return labels"
      ],
      "metadata": {
        "id": "IcaohT5kyVwl"
      },
      "execution_count": null,
      "outputs": []
    },
    {
      "cell_type": "markdown",
      "source": [
        "## Konvertiere JSONL-Format in Fasttext-Klassifikationsformat"
      ],
      "metadata": {
        "id": "Aolesk7q5zNz"
      }
    },
    {
      "cell_type": "code",
      "source": [
        "def zora_jsonl2fasttext_tsv(inputfile, outputfile):\n",
        "    \"\"\"Convert Zora JSONL into fasttext labeled input format\"\"\"\n",
        "\n",
        "    lines_read = 0\n",
        "    lines_written = 0\n",
        "\n",
        "    with open(inputfile,\"r\",encoding=\"utf-8\") as input:\n",
        "        with open(outputfile, \"w\",encoding=\"utf-8\") as output:\n",
        "            for line in input:\n",
        "                record = json.loads(line)\n",
        "                lines_read += 1\n",
        "                # ignore entries in other languages than English\n",
        "                if not \"language\" in record or \"eng\" not in record[\"language\"]:\n",
        "                    continue\n",
        "                \n",
        "                # ignore entries without abstract\n",
        "                if  not record.get(\"description\"):\n",
        "                    continue\n",
        "\n",
        "                abstract = re.sub(r\"\\s+\",\" \",record[\"description\"][0])\n",
        "                title = re.sub(r\"\\s+\",\" \", record[\"title\"][0])\n",
        "                dewey_labels = extract_dewey(record[\"subject\"])\n",
        "\n",
        "                # we ignore articles with empty subjects\n",
        "                if dewey_labels:\n",
        "                    print(\" \".join(dewey_labels), title + \" \" + abstract, sep=\"\\t\", file=output)\n",
        "                    lines_written += 1\n",
        "    print(f\"Lines read from {inputfile}: {lines_read}\")\n",
        "    print(f\"Lines written to {outputfile}: {lines_written}\")"
      ],
      "metadata": {
        "id": "7-PEViNXuv5m"
      },
      "execution_count": null,
      "outputs": []
    },
    {
      "cell_type": "code",
      "source": [
        "zora_jsonl2fasttext_tsv(\"zora-1000.jsonl\", \"zora-1000.fasttext.tsv\")"
      ],
      "metadata": {
        "colab": {
          "base_uri": "https://localhost:8080/"
        },
        "id": "4QbOHCyi0us0",
        "outputId": "a0a0dbb4-a1c3-4c58-adfb-8bd23c3e510b"
      },
      "execution_count": null,
      "outputs": [
        {
          "output_type": "stream",
          "name": "stdout",
          "text": [
            "Lines read from zora-10000.jsonl: 10002\n",
            "Lines written to zora-10000.fasttext.tsv: 5955\n"
          ]
        }
      ]
    },
    {
      "cell_type": "code",
      "source": [
        "! tail -n 10 zora-1000.fasttext.tsv"
      ],
      "metadata": {
        "colab": {
          "base_uri": "https://localhost:8080/"
        },
        "id": "NlO_ulmR1A5S",
        "outputId": "df77eb9a-8ff2-43db-fe94-e84885b2e393"
      },
      "execution_count": null,
      "outputs": [
        {
          "output_type": "stream",
          "name": "stdout",
          "text": [
            "__label__150\tWere they really laughed at? That much? Gelotophobes and their history of perceived derisibility The List of Derisible Situations (LDS; Proyer, Hempelmann and Ruch, List of Derisible Situations (LDS), University of Zurich, 2008) consists of 102 different occasions for being laughed at. They were retrieved in a corpus study and compiled into the LDS. Based on this list, information on the frequency and the intensity with which people recall being laughed at during a given time-span (12 months in this study) can be collected. An empirical study (N = 114) examined the relations between the LDS and the fear of being laughed at (gelotophobia), the joy of being laughed at (gelotophilia), and the joy of laughing at others (katagelasticism; Ruch and Proyer this issue). More than 92% of the participants recalled having been laughed at at least once over the past 12 months. Highest scores were found for experiencing an embarrassing situation, chauvinism of others or being laughed at for doing something awkward or clumsy. Gelotophobia, gelotophilia, and katagelasticism were related about equally to the recalled frequency of events of being laughed at (with the lowest relation to katagelasticism). Gelotophobia, gelotophilia, and katagelasticism yielded a distinct and plausible pattern of correlations to the frequency of events of being laughed at. Gelotophobes recalled the situations of being laughed at with a higher intensity than others. Thus, the fear of being laughed at exists to a large degree independently from actual experiences of being laughed at, but is related to a higher intensity with which these events are experienced.\n",
            "__label__610\tThresholds for food allergens and their value to different stakeholders Thresholds constitute a critical piece of information in assessing the risk from allergenic foods at both the individual and population levels. Knowledge of the minimum dose that can elicit a reaction is of great interest to all food allergy stakeholders. For allergic individuals and health professionals, individual threshold data can inform allergy management. Population thresholds can help both the food industry and regulatory authorities assess the public health risk and design appropriate food safety objectives to guide risk management. Considerable experience has been gained with the double-blind placebo-controlled food challenge (DBPCFC), but only recently has the technique been adapted to provide data on thresholds. Available data thus vary greatly in quality, with relatively few studies providing the best quality individual data, using the low-dose DBPCFC. Such high quality individual data also form the foundation for population thresholds, but these also require, in addition to an adequate sample size, a good characterization of the tested population in relation to the whole allergic population. Determination of thresholds at both an individual level and at a population level is influenced by many factors. This review describes a low-dose challenge protocol developed as part of the European Community-funded Integrated Project Europrevall, and strongly recommends its wider use so that data are generated that can readily increase the power of existing studies.\n",
            "__label__150\tThe fear of being laughed at among psychiatric patients The fear of being laughed at brings to the fore the problematic side of an otherwise very positive aspect of human experience. In the streamline of investigations analyzing the presence and characteristics of gelotophobia, a study focusing on psychiatric patients was carried out. The diagnoses were established according to the criteria of the DSM IV TR (American Psychiatric Association, Diagnostic and Statistical Manual of Mental Disorders (DSM), APA, 2000). Based both on clinical and empirical observations, the main hypothesis advanced was that using the Geloph15 scale, Ss with a psychiatric diagnosis would have higher mean scores than Normal Controls. An additional hypothesis was that intragroup differences were also expected among the various diagnostic categories. The main hypothesis was amply supported, and explanatory suggestions of the finding were proposed. Intragroup differences proved also to be significant. Patients with personality disorders and patients with schizophrenic disorders scored higher than Normal Controls and the other diagnostic groups. And also the number of years spent in psychiatric care resulted significantly associated with higher gelotophobia mean scores. From the present study, a circular, interactive relationship was confirmed between laughter and mental health, which can alternatively be highly positive or deeply negative.\n",
            "__label__610\tSoybean (Glycine max) allergy in Europe: Gly m 5 (beta-conglycinin) and Gly m 6 (glycinin) are potential diagnostic markers for severe allergic reactions to soy BACKGROUND: Soybean is considered an important allergenic food, but published data on soybean allergens are controversial. OBJECTIVE: We sought to identify relevant soybean allergens and correlate the IgE-binding pattern to clinical characteristics in European patients with confirmed soy allergy. METHODS: IgE-reactive proteins were identified from a soybean cDNA expression library, purified from natural soybean source, or expressed in Escherichia coli. The IgE reactivity in 30 sera from subjects with a positive double-blind, placebo-controlled soybean challenge (n = 25) or a convincing history of anaphylaxis to soy (n = 5) was analyzed by ELISA or CAP-FEIA. RESULTS: All subunits of Gly m 5 (beta-conglycinin) and Gly m 6 (glycinin) were IgE-reactive: 53% (16/30) of the study subjects had specific IgE to at least 1 major storage protein, 43% (13/30) to Gly m 5 , and 36% (11/30) to Gly m 6. Gly m 5 was IgE-reactive in 5 of 5 and Gly m 6 in 3 of 5 children. IgE-binding to Gly m 5 or Gly m 6 was found in 86% (6/7) subjects with anaphylaxis to soy and in 55% (6/11) of subjects with moderate but only 33% (4/12) of subjects with mild soy-related symptoms. The odds ratio (P < .05) for severe versus mild allergic reactions in subjects with specific IgE to Gly m 5 or Gly m6 was 12/1. CONCLUSION: Sensitization to the soybean allergens Gly m 5 or Gly m 6 is potentially indicative for severe allergic reactions to soy.\n",
            "__label__610\tSalvage arthrodesis after failed total ankle replacement: Reconstruction with structural allograft and intramedullary nail Treatment of failed total ankle arthroplasty is a challenge. To date, several revision modalities and techniques have been described, but there is still no ideal concept that fits for every patient. Surgical options comprise revision ankle arthroplasty, amputation, or salvage arthrodesis, with the latter being a viable approach because it has been proven to be reliable in achieving a stable and plantigrade foot. The goals of revision surgery include maximum pain relief, restoration of stability and length, and correction of alignment. When properly done, arthrodesis yields a significant improvement regarding pain and ensures stability and an adequate gait pattern. Massive bone loss associated with or without deformity of the hindfoot and/or coexisting subtalar osteoarthrosis pose specific problems. In such cases, tibiotalocalcaneal arthrodesis must be combined with reconstruction of the ankle region by filling the defect with a structural allograft. Among all the described techniques, the use of locked intramedullary nails offers several advantages, particularly in combination with allograft interposition.\n",
            "__label__610\tTesting for IgG4 against foods is not recommended as a diagnostic tool: EAACI task force report Serological tests for immunoglobulin G4 (IgG4) against foods are persistently promoted for the diagnosis of food-induced hypersensitivity. Since many patients believe that their symptoms are related to food ingestion without diagnostic confirmation of a causal relationship, tests for food-specific IgG4 represent a growing market. Testing for blood IgG4 against different foods is performed with large-scale screening for hundreds of food items by enzyme-linked immunosorbent assay-type and radioallergosorbent-type assays in young children, adolescents and adults. However, many serum samples show positive IgG4 results without corresponding clinical symptoms. These findings, combined with the lack of convincing evidence for histamine-releasing properties of IgG4 in humans, and lack of any controlled studies on the diagnostic value of IgG4 testing in food allergy, do not provide any basis for the hypothesis that food-specific IgG4 should be attributed with an effector role in food hypersensitivity. In contrast to the disputed beliefs, IgG4 against foods indicates that the organism has been repeatedly exposed to food components, recognized as foreign proteins by the immune system. Its presence should not be considered as a factor which induces hypersensitivity, but rather as an indicator for immunological tolerance, linked to the activity of regulatory T cells. In conclusion, food-specific IgG4 does not indicate (imminent) food allergy or intolerance, but rather a physiological response of the immune system after exposition to food components. Therefore, testing of IgG4 to foods is considered as irrelevant for the laboratory work-up of food allergy or intolerance and should not be performed in case of food-related complaints.\n",
            "__label__150\tBreaking ground in cross-cultural research on the fear of being laughed at (gelotophobia): A multi-national study involving 73 countries The current study examines whether the fear of being laughed at (gelotophobia) can be assessed reliably and validly by means of a self-report instrument in different countries of the world. All items of the GELOPH (Ruch and Titze, GELOPH46, University of Düsseldorf, 1998; Ruch and Proyer, Swiss Journal of Psychology 67:19–27, 2008b) were translated to the local language of the collaborator (42 languages in total). In total, 22,610 participants in 93 samples from 73 countries completed the GELOPH. Across all samples the reliability of the 15-item questionnaire was high (mean alpha of .85) and in all samples the scales appeared to be unidimensional. The endorsement rates for the items ranged from 1.31% through 80.00% to a single item. Variations in the mean scores of the items were more strongly related to the culture in a country and not to the language in which the data were collected. This was also supported by a multidimensional scaling analysis with standardized mean scores of the items from the GELOPH15. This analysis identified two dimensions that further helped explaining the data (i.e., insecure vs. intense avoidant-restrictive and low vs. high suspicious tendencies towards the laughter of others). Furthermore, multiple samples derived from one country tended to be (with a few exceptions) highly similar. The study shows that gelotophobia can be assessed reliably by means of a self-report instrument in cross-cultural research. This study enables further studies of the fear of being laughed at with regard to differences in the prevalence and putative causes of gelotophobia in comparisons to different cultures.\n",
            "__label__610\tMaize food allergy: a double-blind placebo-controlled study BACKGROUND: Maize allergy is not very common especially in Europe. The number of studies that address IgE mediated maize allergy is all too few. OBJECTIVE: Evaluate subjects with a history of maize allergy by double-blind, placebo-controlled food challenge; identify the spectrum of symptoms manifested during challenge; determine the lowest provocation dose (PD) during challenge; determine the performance characteristics of maize skin prick test and specific IgE. METHODS: Twenty-seven patients with a history of maize allergy were enrolled to be evaluated by skin test, specific IgE and double-blind placebo-controlled maize challenge. RESULTS: Forty-eight percent of the patients were challenge positive. PD range was 0.1-25 g. Fifty-four percent of the maize allergic subjects had a PD that was < or = 2.5 g; two subjects reacted to 100 mg of maize. Comparison of maize specific IgE levels and skin test results to the challenge results revealed the following (specific IgE level/skin testing): sensitivity 1.00/0.846, specificity 0.077/0.384, positive predictive value 0.520/0.579, and negative predictive value 1.00/0.714. CONCLUSION: Maize is a cause of IgE-mediated allergic reactions to foods in adults and children. Nearly half of the subjects recruited were confirmed by challenge to be allergic to maize. Twenty-three percent of the positive challenge patients manifested symptoms that involved two organ systems, thus fulfilling the criteria for maize induced anaphylaxis. Maize is allergenic and can pose a risk for symptomatic food allergy at a dose of 100 mg.\n",
            "__label__610\tHighlights in nonhymenoptera anaphylaxis PURPOSE OF REVIEW: The purpose of this review is to summarize new interesting findings in both research and clinical practice of nonhymenoptera anaphylaxis with particular emphasis on food and drug allergy. RECENT FINDINGS: Recent findings include some aspects of crossreactivity among betalactams, nonsteroidal anti-inflammatory drugs with special attention to an immunogenic metabolite of diclofenac and the mode of diclofenac-induced basophil degranulation. Also, new insights into the sometimes atypical anaphylaxis-like reactions after administration of monoclonal antibodies and the immunologic response to these molecules will be discussed, as well as the role of low-dose pholcodine exposure on the development of sensitization to neuromuscular blocking agents. In food-related anaphylaxis, a significant increase of incidents has been observed over the last few years, especially among children of less than 5 years of age. Unfortunately, the severity of subsequent reactions cannot be predicted from the reaction history. Tree nuts and peanuts are the most important elicitors of fatal food-induced anaphylaxis. SUMMARY: In food-related anaphylaxis, prospectively evaluated marker allergens that are indicative of a potential anaphylactic reaction are still lacking. The drug groups covered in this review are of special interest either due to their prominent role as allergens or due to new findings.\n",
            "__label__610\tPotential, pitfalls, and prospects of food allergy diagnostics with recombinant allergens or synthetic sequential epitopes This article aims to critically review developments in food allergy diagnostics with regard to the verification of specific IgE antibodies and the identification of the responsible allergens. Results of IgE-binding tests with food extracts are hampered by cross-reactive proteins, low-quality test agents, or both. Specificity can be increased by defining adequate cutoff values, whereas sensitivity can be improved by using high-quality test agents. IgE-binding tests with purified allergens enabled reliable quantification of allergen-specific IgE titers, with higher levels found in individuals with food allergy compared with individuals without food allergy. However, the overlap in individual test reactivity between allergic and nonallergic subjects complicates interpretation. Recombinant allergens and synthetic sequential epitopes enabled detection of sensitization profiles, with IgE specific to several allergens and substructures now being suggested as markers of severity, persistence, or both. However, high-power quantitative studies with larger numbers of patients are required to confirm these markers. IgE-binding tests merely indicate sensitization, whereas the final proof of clinical relevance still relies on family/case history, physical examinations, and provocation tests. Novel technologies promise superior diagnostics. Microarray technology permits simultaneous measurement of multiple IgE reactivities regarding specificity, abundance, reactivity, or interaction. Improved functional tests might enable reliable estimation of the clinical relevance of IgE sensitizations at justifiable expenses.\n"
          ]
        }
      ]
    },
    {
      "cell_type": "markdown",
      "source": [
        "## Erstelle kleine Statistik zur Verteilung der Dewey-Label"
      ],
      "metadata": {
        "id": "gguZo3o059R0"
      }
    },
    {
      "cell_type": "code",
      "source": [
        "! cut -f 1 < zora-1000.fasttext.tsv | sort | uniq -c | sort -rn"
      ],
      "metadata": {
        "colab": {
          "base_uri": "https://localhost:8080/"
        },
        "id": "yWlRAAEz3SUL",
        "outputId": "16240c64-a07a-4c6f-96ba-e7a43b8aa9a2"
      },
      "execution_count": null,
      "outputs": [
        {
          "output_type": "stream",
          "name": "stdout",
          "text": [
            "   1680 __label__610\n",
            "    953 __label__570 __label__610\n",
            "    938 __label__570\n",
            "    584 __label__570 __label__590\n",
            "    353 __label__330\n",
            "    245 __label__540\n",
            "    236 __label__570 __label__630\n",
            "    155 __label__910\n",
            "    149 __label__150\n",
            "     89 __label__580\n",
            "     76 __label__530\n",
            "     74 __label__000\n",
            "     59 __label__170 __label__610\n",
            "     53 __label__510\n",
            "     44 __label__560\n",
            "     38 __label__300\n",
            "     27 __label__570 __label__610 __label__600\n",
            "     22 __label__070\n",
            "     20 __label__320\n",
            "     19 __label__150 __label__610\n",
            "     18 __label__610 __label__540\n",
            "     13 __label__820\n",
            "     10 __label__000 __label__410\n",
            "      9 __label__570 __label__610 __label__540\n",
            "      7 __label__570 __label__170 __label__610\n",
            "      7 __label__370\n",
            "      5 __label__900\n",
            "      5 __label__790 __label__390 __label__300\n",
            "      5 __label__570 __label__580 __label__610\n",
            "      5 __label__100\n",
            "      4 __label__470 __label__480\n",
            "      4 __label__340 __label__610\n",
            "      3 __label__900 __label__330\n",
            "      3 __label__570 __label__580\n",
            "      3 __label__530 __label__540\n",
            "      3 __label__490 __label__890 __label__410\n",
            "      3 __label__180 __label__290\n",
            "      3 __label__170 __label__340 __label__610\n",
            "      2 __label__950 __label__180 __label__910\n",
            "      2 __label__570 __label__150 __label__610\n",
            "      2 __label__370 __label__300\n",
            "      2 __label__230\n",
            "      2 __label__150 __label__330\n",
            "      2 __label__150 __label__170 __label__610\n",
            "      1 __label__700 __label__900\n",
            "      1 __label__610 __label__330\n",
            "      1 __label__570 __label__610 __label__600 __label__510\n",
            "      1 __label__570 __label__610 __label__330\n",
            "      1 __label__570 __label__590 __label__610 __label__300\n",
            "      1 __label__570 __label__590 __label__300\n",
            "      1 __label__570 __label__590 __label__170 __label__610\n",
            "      1 __label__570 __label__540\n",
            "      1 __label__490 __label__890 __label__410 __label__180 __label__290\n",
            "      1 __label__470 __label__230 __label__480\n",
            "      1 __label__390 __label__300 __label__790\n",
            "      1 __label__340\n",
            "      1 __label__300 __label__510\n",
            "      1 __label__230 __label__370\n",
            "      1 __label__230 __label__170\n",
            "      1 __label__160 __label__230 __label__200\n",
            "      1 __label__000 __label__820 __label__410\n",
            "      1 __label__000 __label__610\n",
            "      1 __label__000 __label__150\n"
          ]
        }
      ]
    },
    {
      "cell_type": "markdown",
      "source": [
        "# Analysiere 20000 zufällig gesampelte ZORA Records\n",
        "Es werden nur die englischen Publikationen konvertiert!"
      ],
      "metadata": {
        "id": "zDPjOcSI_TNh"
      }
    },
    {
      "cell_type": "code",
      "source": [
        "! ! curl https://files.ifi.uzh.ch/cl/siclemat/lehre/fs23/bibliosuisse/data/zora-20000.jsonl -o zora-20000.jsonl"
      ],
      "metadata": {
        "colab": {
          "base_uri": "https://localhost:8080/"
        },
        "id": "8X18ahux3tad",
        "outputId": "37461c18-3f4c-4858-b0c4-8aea1d76c088"
      },
      "execution_count": null,
      "outputs": [
        {
          "output_type": "stream",
          "name": "stdout",
          "text": [
            "  % Total    % Received % Xferd  Average Speed   Time    Time     Time  Current\n",
            "                                 Dload  Upload   Total   Spent    Left  Speed\n",
            "100 38.6M  100 38.6M    0     0  16.4M      0  0:00:02  0:00:02 --:--:-- 16.4M\n"
          ]
        }
      ]
    },
    {
      "cell_type": "code",
      "source": [
        "zora_jsonl2fasttext_tsv(\"zora-20000.jsonl\", \"zora-20000.fasttext.tsv\")"
      ],
      "metadata": {
        "colab": {
          "base_uri": "https://localhost:8080/"
        },
        "id": "ZWcii86C_Sgb",
        "outputId": "8544c740-05d9-4063-de59-a5bc9564aad5"
      },
      "execution_count": null,
      "outputs": [
        {
          "output_type": "stream",
          "name": "stdout",
          "text": [
            "Lines read from zora-20000.jsonl: 20000\n",
            "Lines written to zora-20000.fasttext.tsv: 10267\n"
          ]
        }
      ]
    },
    {
      "cell_type": "code",
      "source": [
        "! cut -f 1 < zora-20000.fasttext.tsv | sort | uniq -c | sort -rn"
      ],
      "metadata": {
        "colab": {
          "base_uri": "https://localhost:8080/"
        },
        "id": "YfyJwQnd_2iV",
        "outputId": "146f9273-b9ce-4b97-c5bf-c90e79965636"
      },
      "execution_count": null,
      "outputs": [
        {
          "output_type": "stream",
          "name": "stdout",
          "text": [
            "   4020 __label__610\n",
            "    927 __label__570 __label__610\n",
            "    603 __label__570\n",
            "    537 __label__330\n",
            "    447 __label__150\n",
            "    440 __label__530\n",
            "    355 __label__910\n",
            "    328 __label__570 __label__590\n",
            "    288 __label__570 __label__630\n",
            "    260 __label__540\n",
            "    226 __label__000\n",
            "    193 __label__510\n",
            "    180 __label__580\n",
            "    130 __label__170 __label__610\n",
            "    112 __label__300\n",
            "    104 __label__320\n",
            "     83 __label__142 __label__610\n",
            "     77 __label__560\n",
            "     65 __label__370\n",
            "     65 __label__070\n",
            "     57 __label__000 __label__410\n",
            "     50 __label__142\n",
            "     47 __label__820\n",
            "     46 __label__142 __label__570 __label__610\n",
            "     41 __label__340 __label__610\n",
            "     40 __label__570 __label__610 __label__600\n",
            "     40 __label__100\n",
            "     37 __label__610 __label__540\n",
            "     37 __label__340\n",
            "     28 __label__800 __label__470 __label__410 __label__440 __label__460 __label__450\n",
            "     26 __label__490 __label__890 __label__410\n",
            "     23 __label__900\n",
            "     19 __label__170 __label__330\n",
            "     17 __label__340 __label__610 __label__510\n",
            "     16 __label__790 __label__390 __label__300\n",
            "     13 __label__700 __label__900\n",
            "     13 __label__700\n",
            "     13 __label__570 __label__170 __label__610\n",
            "     10 __label__950\n",
            "     10 __label__180 __label__290\n",
            "     10 __label__142 __label__570\n",
            "     10 __label__142 __label__530\n",
            "      9 __label__490 __label__410\n",
            "      9 __label__470 __label__480\n",
            "      8 __label__570 __label__610 __label__540\n",
            "      8 __label__430\n",
            "      8 __label__300 __label__390\n",
            "      8 __label__142 __label__150\n",
            "      7 __label__570 __label__590 __label__610\n",
            "      7 __label__150 __label__610\n",
            "      6 __label__200 __label__290 __label__930\n",
            "      6 __label__170\n",
            "      5 __label__630\n",
            "      5 __label__570 __label__150 __label__610\n",
            "      5 __label__230\n",
            "      5 __label__142 __label__580\n",
            "      5 __label__000 __label__820 __label__410\n",
            "      4 __label__200\n",
            "      4 __label__142 __label__570 __label__610 __label__600\n",
            "      4 __label__142 __label__330\n",
            "      3 __label__950 __label__180 __label__910\n",
            "      3 __label__950 __label__180\n",
            "      3 __label__570 __label__590 __label__580\n",
            "      3 __label__570 __label__580 __label__610\n",
            "      3 __label__570 __label__580\n",
            "      3 __label__470 __label__410 __label__450 __label__800 __label__440 __label__460\n",
            "      3 __label__410 __label__000\n",
            "      3 __label__360 __label__610 __label__300\n",
            "      3 __label__320 __label__950 __label__180\n",
            "      3 __label__320 __label__340 __label__900\n",
            "      3 __label__320 __label__340\n",
            "      3 __label__230 __label__200\n",
            "      3 __label__142 __label__910\n",
            "      3 __label__100 __label__170\n",
            "      2 __label__950 __label__290 __label__180\n",
            "      2 __label__570 __label__600 __label__610\n",
            "      2 __label__370 __label__300\n",
            "      2 __label__170 __label__340 __label__610\n",
            "      2 __label__150 __label__300\n",
            "      2 __label__150 __label__170 __label__610\n",
            "      2 __label__142 __label__510\n",
            "      2 __label__142 __label__000\n",
            "      1 __label__950 __label__180 __label__290\n",
            "      1 __label__910 __label__921\n",
            "      1 __label__900 __label__330\n",
            "      1 __label__820 __label__410 __label__000\n",
            "      1 __label__790 __label__390 __label__950 __label__300 __label__180\n",
            "      1 __label__610 __label__540 __label__330\n",
            "      1 __label__610 __label__360 __label__300\n",
            "      1 __label__570 __label__610 __label__630\n",
            "      1 __label__570 __label__610 __label__600 __label__510\n",
            "      1 __label__570 __label__610 __label__510\n",
            "      1 __label__570 __label__610 __label__330\n",
            "      1 __label__570 __label__590 __label__540\n",
            "      1 __label__570 __label__590 __label__300\n",
            "      1 __label__570 __label__540\n",
            "      1 __label__570 __label__490 __label__590 __label__890 __label__410\n",
            "      1 __label__570 __label__490 __label__150 __label__890 __label__410 __label__610\n",
            "      1 __label__570 __label__150 __label__170 __label__610\n",
            "      1 __label__490 __label__800 __label__890\n",
            "      1 __label__410 __label__440 __label__450 __label__460 __label__470 __label__800 __label__810 __label__820 __label__830 __label__840 __label__850 __label__860\n",
            "      1 __label__410\n",
            "      1 __label__400 __label__410\n",
            "      1 __label__400 __label__150 __label__370\n",
            "      1 __label__390 __label__950 __label__300 __label__790 __label__180\n",
            "      1 __label__390 __label__300 __label__790\n",
            "      1 __label__360 __label__300\n",
            "      1 __label__340 __label__300\n",
            "      1 __label__330 __label__510\n",
            "      1 __label__320 __label__330 __label__200\n",
            "      1 __label__320 __label__070\n",
            "      1 __label__320 __label__000 __label__410\n",
            "      1 __label__300 __label__610\n",
            "      1 __label__300 __label__580\n",
            "      1 __label__300 __label__390 __label__610 __label__960\n",
            "      1 __label__300 __label__330\n",
            "      1 __label__300 __label__000\n",
            "      1 __label__230 __label__170\n",
            "      1 __label__200 __label__300\n",
            "      1 __label__200 __label__290 __label__900 __label__930\n",
            "      1 __label__180\n",
            "      1 __label__170 __label__300 __label__320 __label__390\n",
            "      1 __label__170 __label__300\n",
            "      1 __label__150 __label__400 __label__410 __label__490\n",
            "      1 __label__142 __label__900\n",
            "      1 __label__142 __label__800 __label__470 __label__410 __label__440 __label__460 __label__450\n",
            "      1 __label__142 __label__570 __label__590\n",
            "      1 __label__142 __label__340 __label__610\n",
            "      1 __label__142 __label__320\n",
            "      1 __label__142 __label__300\n",
            "      1 __label__142 __label__170 __label__610\n",
            "      1 __label__000 __label__610\n",
            "      1 __label__000 __label__570 __label__610 __label__300\n",
            "      1 __label__000 __label__490 __label__890 __label__410\n",
            "      1 __label__000 __label__330\n"
          ]
        }
      ]
    },
    {
      "cell_type": "code",
      "source": [],
      "metadata": {
        "id": "rq-KTmKqCFWD"
      },
      "execution_count": null,
      "outputs": []
    }
  ]
}